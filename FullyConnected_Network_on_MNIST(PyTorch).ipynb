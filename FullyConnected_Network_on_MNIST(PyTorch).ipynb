{
 "cells": [
  {
   "cell_type": "markdown",
   "metadata": {},
   "source": [
    "### DLFA : Assignment 1   Onkar Sabnis (18CH300018)\n",
    "***\n",
    "#### <font color = 'BLUE'><b><u>*The notebook is divided into different sections/segments as per the questions of the Assignment, Contents of the Notebook are:*</u></b></font>\n",
    "\n",
    "\n"
   ]
  },
  {
   "cell_type": "markdown",
   "metadata": {},
   "source": [
    "#### • Training a Fully connected Model with MNIST data (On Batch_sizes = 512 and 256) using SGD for optimization (This completes Q1, Q3, Q4 and Q5)\n",
    "#### • Varying the Batch Size (32 to 1024) and plotting train and test error with changing batch_size (Q6.a)\n",
    "#### • Varying the Learning Rates and plotting Test Error vs Learning Rate (Q6.b)\n",
    "#### • Varying the learning rate with number of epochs(SGDR) (Q6.c)"
   ]
  },
  {
   "cell_type": "markdown",
   "metadata": {
    "id": "eWDwQqUp6OX0"
   },
   "source": [
    "#### **Loading Libraries**"
   ]
  },
  {
   "cell_type": "code",
   "execution_count": 1,
   "metadata": {
    "id": "s1hWn-1iqo8r"
   },
   "outputs": [],
   "source": [
    "\n",
    "import torch\n",
    "import torch.nn as nn\n",
    "import torch.nn.functional as F\n",
    "import numpy as np\n",
    "from torchvision import transforms,datasets\n",
    "import torch.optim as optim\n",
    "from torch.autograd import Variable\n",
    "import torchvision\n",
    "\n",
    "\n",
    "\n",
    "import matplotlib.pyplot as plt\n",
    "%matplotlib inline\n",
    "import time\n",
    "\n"
   ]
  },
  {
   "cell_type": "code",
   "execution_count": 2,
   "metadata": {
    "id": "svxvRbK3UiBB"
   },
   "outputs": [],
   "source": [
    "class color:\n",
    "    PURPLE = '\\033[95m'\n",
    "    CYAN = '\\033[96m'\n",
    "    DARKCYAN = '\\033[36m'\n",
    "    BLUE = '\\033[94m'\n",
    "    GREEN = '\\033[92m'\n",
    "    YELLOW = '\\033[93m'\n",
    "    RED = '\\033[91m'\n",
    "    BOLD = '\\033[1m'\n",
    "    UNDERLINE = '\\033[4m'\n",
    "    END = '\\033[0m'"
   ]
  },
  {
   "cell_type": "markdown",
   "metadata": {
    "id": "VkcLma8BGJ_g"
   },
   "source": [
    "#### **Q1), Q3) and Q5) Fully_Connected_Model (Batch_Size = 512)**"
   ]
  },
  {
   "cell_type": "code",
   "execution_count": 3,
   "metadata": {
    "colab": {
     "base_uri": "https://localhost:8080/",
     "height": 366,
     "referenced_widgets": [
      "3cd8f2612e6f40c4927a2dd984c8cb11",
      "3de81701a0384571ab458c1b11e0ef71",
      "1ecb40ff87304f31a9b90c30864ba920",
      "289fa75270474649b120a34466740fad",
      "28d798effaa5465eb6acc964af162a8d",
      "905e156eb1c547d6b80ace49f34abd9b",
      "fdfe545830f14d6ca4103f88cc8c93ca",
      "b0017de2c2254ff9abb3c1063be766b7",
      "845ddf82591b497d927c55c2c6e38348",
      "157bf53dcb8b4e88a2ad446334ad8a7f",
      "ffcd70dd8a354c29b5ebde22a0944e17",
      "e14eb9ac2921457f9bd69dfd62cd4de2",
      "8b3a8aa1738e48fc8f3fdff066b10fe6",
      "6aacb9bab5c44b07a260eee2941ec2eb",
      "af2c57d9405d41bf83462e7f8f498a56",
      "16561ee8a5d74862864aaf9ae1674187",
      "745e85fd004243f79fc144fb1bfe0e9e",
      "a82bb78773a541539c017e30abb447be",
      "e121d9663b6946efa4af5675ad099cd3",
      "df88c94849af4f2d9475d95b58942367",
      "a87fe9a4cf9a4a90987e2769c861c593",
      "671602881efe4847ba875fcd8ec87261",
      "3ee6432aab284a3b909c65c66ee1bb16",
      "b5b9813d87904d70b2541b0a923b30c8",
      "5f81ef1c372e40f6a99d44bbcbf1933b",
      "4c639a3a66d743af842adcd54d9ed62d",
      "781428588aa0462db5a256705afc0554",
      "4f5cf238243a4c22808fc4ab0df8dd53",
      "fb3c2a0af2bd4d82b17d690172637f34",
      "bac8d5884cff4d24aa1bbd985861758e",
      "aa906cf93139480da08974f5804ac980",
      "85f48cd211da484996ad07d85008270f"
     ]
    },
    "id": "nxAWW3Edqwcr",
    "outputId": "0fb7052f-15a8-4082-e8c9-1e59a1cb31e1"
   },
   "outputs": [
    {
     "name": "stdout",
     "output_type": "stream",
     "text": [
      "Downloading http://yann.lecun.com/exdb/mnist/train-images-idx3-ubyte.gz to ./MNIST/MNIST/raw/train-images-idx3-ubyte.gz\n"
     ]
    },
    {
     "data": {
      "application/vnd.jupyter.widget-view+json": {
       "model_id": "3cd8f2612e6f40c4927a2dd984c8cb11",
       "version_major": 2,
       "version_minor": 0
      },
      "text/plain": [
       "HBox(children=(FloatProgress(value=1.0, bar_style='info', max=1.0), HTML(value='')))"
      ]
     },
     "metadata": {
      "tags": []
     },
     "output_type": "display_data"
    },
    {
     "name": "stdout",
     "output_type": "stream",
     "text": [
      "Extracting ./MNIST/MNIST/raw/train-images-idx3-ubyte.gz to ./MNIST/MNIST/raw\n",
      "Downloading http://yann.lecun.com/exdb/mnist/train-labels-idx1-ubyte.gz to ./MNIST/MNIST/raw/train-labels-idx1-ubyte.gz\n"
     ]
    },
    {
     "data": {
      "application/vnd.jupyter.widget-view+json": {
       "model_id": "845ddf82591b497d927c55c2c6e38348",
       "version_major": 2,
       "version_minor": 0
      },
      "text/plain": [
       "HBox(children=(FloatProgress(value=1.0, bar_style='info', max=1.0), HTML(value='')))"
      ]
     },
     "metadata": {
      "tags": []
     },
     "output_type": "display_data"
    },
    {
     "name": "stdout",
     "output_type": "stream",
     "text": [
      "Extracting ./MNIST/MNIST/raw/train-labels-idx1-ubyte.gz to ./MNIST/MNIST/raw\n",
      "Downloading http://yann.lecun.com/exdb/mnist/t10k-images-idx3-ubyte.gz to ./MNIST/MNIST/raw/t10k-images-idx3-ubyte.gz\n"
     ]
    },
    {
     "data": {
      "application/vnd.jupyter.widget-view+json": {
       "model_id": "745e85fd004243f79fc144fb1bfe0e9e",
       "version_major": 2,
       "version_minor": 0
      },
      "text/plain": [
       "HBox(children=(FloatProgress(value=1.0, bar_style='info', max=1.0), HTML(value='')))"
      ]
     },
     "metadata": {
      "tags": []
     },
     "output_type": "display_data"
    },
    {
     "name": "stdout",
     "output_type": "stream",
     "text": [
      "Extracting ./MNIST/MNIST/raw/t10k-images-idx3-ubyte.gz to ./MNIST/MNIST/raw\n",
      "Downloading http://yann.lecun.com/exdb/mnist/t10k-labels-idx1-ubyte.gz to ./MNIST/MNIST/raw/t10k-labels-idx1-ubyte.gz\n"
     ]
    },
    {
     "data": {
      "application/vnd.jupyter.widget-view+json": {
       "model_id": "5f81ef1c372e40f6a99d44bbcbf1933b",
       "version_major": 2,
       "version_minor": 0
      },
      "text/plain": [
       "HBox(children=(FloatProgress(value=1.0, bar_style='info', max=1.0), HTML(value='')))"
      ]
     },
     "metadata": {
      "tags": []
     },
     "output_type": "display_data"
    },
    {
     "name": "stdout",
     "output_type": "stream",
     "text": [
      "Extracting ./MNIST/MNIST/raw/t10k-labels-idx1-ubyte.gz to ./MNIST/MNIST/raw\n",
      "Processing...\n"
     ]
    },
    {
     "name": "stderr",
     "output_type": "stream",
     "text": [
      "/usr/local/lib/python3.7/dist-packages/torchvision/datasets/mnist.py:480: UserWarning: The given NumPy array is not writeable, and PyTorch does not support non-writeable tensors. This means you can write to the underlying (supposedly non-writeable) NumPy array using the tensor. You may want to copy the array to protect its data or make it writeable before converting it to a tensor. This type of warning will be suppressed for the rest of this program. (Triggered internally at  /pytorch/torch/csrc/utils/tensor_numpy.cpp:141.)\n",
      "  return torch.from_numpy(parsed.astype(m[2], copy=False)).view(*s)\n"
     ]
    },
    {
     "name": "stdout",
     "output_type": "stream",
     "text": [
      "Done!\n"
     ]
    }
   ],
   "source": [
    "### Loading Data\n",
    "\n",
    "apply_transform = transforms.Compose([transforms.ToTensor()])\n",
    "BatchSize = 512 # change according to system specs\n",
    "\n",
    "trainset = datasets.MNIST(root='./MNIST', train=True, download=True, transform=apply_transform)\n",
    "trainLoader = torch.utils.data.DataLoader(trainset, batch_size=BatchSize, shuffle=True, num_workers=0) # Creating dataloader\n",
    "\n",
    "# Validation set with random rotations in the range [-90,90]\n",
    "testset = datasets.MNIST(root='./MNIST', train=False, download=True, transform=apply_transform)\n",
    "testLoader = torch.utils.data.DataLoader(testset, batch_size=BatchSize,shuffle=False, num_workers=0) # Creating dataloader\n",
    "\n"
   ]
  },
  {
   "cell_type": "code",
   "execution_count": 4,
   "metadata": {
    "colab": {
     "base_uri": "https://localhost:8080/"
    },
    "id": "b7EYZYCSqwfR",
    "outputId": "48b30031-8260-4abf-dd98-9c984b7fc8d4"
   },
   "outputs": [
    {
     "name": "stdout",
     "output_type": "stream",
     "text": [
      "No. of samples in train set: 60000\n",
      "No. of samples in test set: 10000\n"
     ]
    }
   ],
   "source": [
    "# Size of train and test datasets\n",
    "print('No. of samples in train set: '+str(len(trainLoader.dataset)))\n",
    "print('No. of samples in test set: '+str(len(testLoader.dataset)))\n",
    "\n"
   ]
  },
  {
   "cell_type": "code",
   "execution_count": 5,
   "metadata": {
    "colab": {
     "base_uri": "https://localhost:8080/"
    },
    "id": "VPQUTq4sqwiR",
    "outputId": "fa255fab-9cef-47c7-a22a-322a97ac0dfd"
   },
   "outputs": [
    {
     "name": "stdout",
     "output_type": "stream",
     "text": [
      "FFNN(\n",
      "  (fc1): Linear(in_features=784, out_features=100, bias=True)\n",
      "  (fc2): Linear(in_features=100, out_features=10, bias=True)\n",
      ")\n"
     ]
    }
   ],
   "source": [
    "### Model Architecture (Fully Connected)\n",
    "\n",
    "class FFNN(nn.Module):\n",
    "    \n",
    "    def __init__(self):\n",
    "        super(FFNN, self).__init__()\n",
    "        self.fc1 = nn.Linear(28*28,100)\n",
    "        self.fc2 = nn.Linear(100,10)\n",
    "    \n",
    "    def forward(self,x):\n",
    "        x = self.fc1(x)\n",
    "        x = torch.sigmoid(x)\n",
    "        x = self.fc2(x)\n",
    "        x = F.softmax(x, dim = 1)\n",
    "        return x\n",
    "        \n",
    "\n",
    "net = FFNN()\n",
    "print(net)\n",
    "\n"
   ]
  },
  {
   "cell_type": "code",
   "execution_count": 6,
   "metadata": {
    "id": "-jrohucvDGmS"
   },
   "outputs": [],
   "source": [
    "criterion = nn.CrossEntropyLoss() \n",
    "learning_rate = 0.1\n",
    "optimizer1 = optim.SGD(net.parameters(), lr=learning_rate, momentum = 0.8) # ADAM \n",
    "num_epochs = 20"
   ]
  },
  {
   "cell_type": "code",
   "execution_count": 7,
   "metadata": {
    "colab": {
     "base_uri": "https://localhost:8080/"
    },
    "id": "_vxf8FgqDGpT",
    "outputId": "48e2259a-2347-4a4a-c769-ad598928a76a"
   },
   "outputs": [
    {
     "name": "stdout",
     "output_type": "stream",
     "text": [
      "Epoch 1/20 : Training loss: 2.3029 | Training Accuracy: 12.8533\n",
      "Epoch 2/20 : Training loss: 2.3028 | Training Accuracy: 12.9917\n",
      "Epoch 3/20 : Training loss: 2.3028 | Training Accuracy: 12.6933\n",
      "Epoch 4/20 : Training loss: 2.3027 | Training Accuracy: 11.7083\n",
      "Epoch 5/20 : Training loss: 2.3026 | Training Accuracy: 11.1717\n",
      "Epoch 6/20 : Training loss: 2.3024 | Training Accuracy: 11.2000\n",
      "Epoch 7/20 : Training loss: 2.3023 | Training Accuracy: 11.1883\n",
      "Epoch 8/20 : Training loss: 2.3021 | Training Accuracy: 11.2233\n",
      "Epoch 9/20 : Training loss: 2.3020 | Training Accuracy: 11.2367\n",
      "Epoch 10/20 : Training loss: 2.3019 | Training Accuracy: 11.2367\n",
      "Epoch 11/20 : Training loss: 2.3017 | Training Accuracy: 11.2367\n",
      "Epoch 12/20 : Training loss: 2.3015 | Training Accuracy: 11.2367\n",
      "Epoch 13/20 : Training loss: 2.3014 | Training Accuracy: 11.2367\n",
      "Epoch 14/20 : Training loss: 2.3012 | Training Accuracy: 11.2367\n",
      "Epoch 15/20 : Training loss: 2.3010 | Training Accuracy: 11.2367\n",
      "Epoch 16/20 : Training loss: 2.3008 | Training Accuracy: 11.2367\n",
      "Epoch 17/20 : Training loss: 2.3007 | Training Accuracy: 11.2367\n",
      "Epoch 18/20 : Training loss: 2.3005 | Training Accuracy: 11.2367\n",
      "Epoch 19/20 : Training loss: 2.3003 | Training Accuracy: 11.2367\n",
      "Epoch 20/20 : Training loss: 2.3001 | Training Accuracy: 11.2367\n"
     ]
    }
   ],
   "source": [
    "train_loss = []\n",
    "train_acc = []\n",
    "for epoch in range(num_epochs):\n",
    "    running_loss = 0.0 \n",
    "    running_corr = 0\n",
    "        \n",
    "    for i,data in enumerate(trainLoader):\n",
    "        inputs,labels = data\n",
    "        # Initializing model gradients to zero\n",
    "        optimizer1.zero_grad() \n",
    "        # Data feed-forward through the network\n",
    "        outputs = net(inputs.view(inputs.shape[0],-1))\n",
    "        # Predicted class is the one with maximum probability\n",
    "        preds = torch.argmax(outputs,dim=1)\n",
    "        # Finding the loss\n",
    "        loss = criterion(outputs, labels) \n",
    "        # Accumulating the loss for each batch\n",
    "        running_loss += loss \n",
    "        # Accumulate number of correct predictions\n",
    "        running_corr += torch.sum(preds==labels)    \n",
    "        \n",
    "    totalLoss = running_loss/(i+1)\n",
    "    # Calculating gradients\n",
    "    totalLoss.backward()\n",
    "    # Updating the model parameters\n",
    "    optimizer1.step()\n",
    "        \n",
    "    epoch_loss = running_loss.item()/(i+1)   #Total loss for one epoch\n",
    "    epoch_acc = running_corr.item()/60000\n",
    "    \n",
    "    \n",
    "         \n",
    "    train_loss.append(epoch_loss) #Saving the loss over epochs for plotting the graph\n",
    "    train_acc.append(epoch_acc) #Saving the accuracy over epochs for plotting the graph\n",
    "       \n",
    "        \n",
    "    print('Epoch {:.0f}/{:.0f} : Training loss: {:.4f} | Training Accuracy: {:.4f}'.format(epoch+1,num_epochs,epoch_loss,epoch_acc*100))"
   ]
  },
  {
   "cell_type": "code",
   "execution_count": 8,
   "metadata": {
    "colab": {
     "base_uri": "https://localhost:8080/"
    },
    "id": "wDib86d-HjQo",
    "outputId": "55462980-76fc-4181-ed89-9ab5ed0bff5e"
   },
   "outputs": [
    {
     "name": "stdout",
     "output_type": "stream",
     "text": [
      "Testing accuracy (Batch size=512, lr=0.1 =  11.35\n"
     ]
    }
   ],
   "source": [
    "correct_pred1=0\n",
    "for data in testLoader:\n",
    "    inputs,labels = data\n",
    "    # Feedforward train data batch through model\n",
    "    output = net(inputs.view(inputs.shape[0],-1))\n",
    "    # Predicted class is the one with maximum probability\n",
    "    preds1 = torch.argmax(output,dim=1)\n",
    "    correct_pred1 += torch.sum(preds1==labels)\n",
    "\n",
    "test_accuracy = correct_pred1.item()/10000.0\n",
    "print('Testing accuracy (Batch size=512, lr=0.1 = ',test_accuracy*100) #for bathch1"
   ]
  },
  {
   "cell_type": "code",
   "execution_count": 9,
   "metadata": {
    "colab": {
     "base_uri": "https://localhost:8080/",
     "height": 351
    },
    "id": "s8DoBWFUD7bi",
    "outputId": "331308b0-bce3-4024-afd0-66696e229fcf"
   },
   "outputs": [
    {
     "data": {
      "text/plain": [
       "Text(0, 0.5, 'Training')"
      ]
     },
     "execution_count": 9,
     "metadata": {
      "tags": []
     },
     "output_type": "execute_result"
    },
    {
     "data": {
      "image/png": "[encoded data removed]",
      "text/plain": [
       "<Figure size 1080x360 with 2 Axes>"
      ]
     },
     "metadata": {
      "needs_background": "light",
      "tags": []
     },
     "output_type": "display_data"
    }
   ],
   "source": [
    "fig = plt.figure(figsize=[15,5]) \n",
    "plt.subplot(121)\n",
    "plt.plot(range(num_epochs),train_loss,'r-',label='Loss') \n",
    "plt.legend(loc='upper right')\n",
    "plt.xlabel('Epochs')\n",
    "plt.ylabel('Training')\n",
    "plt.subplot(122)\n",
    "plt.plot(range(num_epochs),train_acc,'g-',label='Accuracy') \n",
    "plt.legend(loc='upper right')\n",
    "plt.xlabel('Epochs')\n",
    "plt.ylabel('Training')"
   ]
  },
  {
   "cell_type": "code",
   "execution_count": null,
   "metadata": {
    "id": "5vaLohP25HoF"
   },
   "outputs": [],
   "source": []
  },
  {
   "cell_type": "markdown",
   "metadata": {
    "id": "FIFETdltGCky"
   },
   "source": [
    "#### **Q1), Q3) and Q5) Fully_Connected_Model (Batch_Size = 256)**"
   ]
  },
  {
   "cell_type": "code",
   "execution_count": 10,
   "metadata": {
    "id": "lFQWyJNpEtuI"
   },
   "outputs": [],
   "source": [
    "BatchSize2 = 256 # change according to system specs\n",
    "\n",
    "trainset2 = datasets.MNIST(root='./MNIST', train=True, download=True, transform=apply_transform)\n",
    "trainLoader2 = torch.utils.data.DataLoader(trainset2, batch_size=BatchSize2,\n",
    "                                          shuffle=True, num_workers=4) # Creating dataloader\n",
    "\n",
    "# Validation set with random rotations in the range [-90,90]\n",
    "testset2 = datasets.MNIST(root='./MNIST', train=False, download=True, transform=apply_transform)\n",
    "testLoader2 = torch.utils.data.DataLoader(testset2, batch_size=BatchSize2,\n",
    "                                         shuffle=False, num_workers=4) # Creating dataloader"
   ]
  },
  {
   "cell_type": "code",
   "execution_count": 11,
   "metadata": {
    "colab": {
     "base_uri": "https://localhost:8080/"
    },
    "id": "1NrWpomLEtwe",
    "outputId": "e079d00c-50de-4eb4-94b7-cad432e5f542"
   },
   "outputs": [
    {
     "name": "stdout",
     "output_type": "stream",
     "text": [
      "No. of samples in train set2: 60000\n",
      "No. of samples in test set2: 10000\n"
     ]
    }
   ],
   "source": [
    "# Size of train and test datasets\n",
    "print('No. of samples in train set2: '+str(len(trainLoader2.dataset)))\n",
    "print('No. of samples in test set2: '+str(len(testLoader2.dataset)))"
   ]
  },
  {
   "cell_type": "code",
   "execution_count": 12,
   "metadata": {
    "id": "jv-5-6YHFkAE"
   },
   "outputs": [],
   "source": [
    "net2 = FFNN()"
   ]
  },
  {
   "cell_type": "code",
   "execution_count": 13,
   "metadata": {
    "id": "npgYJ91lFaIR"
   },
   "outputs": [],
   "source": [
    "criterion = nn.CrossEntropyLoss() \n",
    "learning_rate2 = 0.1\n",
    "optimizer2 = optim.SGD(net2.parameters(), lr=learning_rate2, momentum=0.8) # SGD\n",
    "num_epochs2 = 20"
   ]
  },
  {
   "cell_type": "code",
   "execution_count": 14,
   "metadata": {
    "colab": {
     "base_uri": "https://localhost:8080/"
    },
    "id": "YeC4KZVsEtzG",
    "outputId": "379cad8d-5d44-4108-bf43-e78a8aa67a77"
   },
   "outputs": [
    {
     "name": "stdout",
     "output_type": "stream",
     "text": [
      "Epoch 1/20 : Training loss: 2.3037 | Training Accuracy: 10.2167\n",
      "Epoch 2/20 : Training loss: 2.3037 | Training Accuracy: 10.2167\n",
      "Epoch 3/20 : Training loss: 2.3036 | Training Accuracy: 10.2167\n",
      "Epoch 4/20 : Training loss: 2.3035 | Training Accuracy: 10.2183\n",
      "Epoch 5/20 : Training loss: 2.3034 | Training Accuracy: 10.2183\n",
      "Epoch 6/20 : Training loss: 2.3033 | Training Accuracy: 10.2183\n",
      "Epoch 7/20 : Training loss: 2.3031 | Training Accuracy: 10.2183\n",
      "Epoch 8/20 : Training loss: 2.3030 | Training Accuracy: 10.2183\n",
      "Epoch 9/20 : Training loss: 2.3028 | Training Accuracy: 10.2183\n",
      "Epoch 10/20 : Training loss: 2.3026 | Training Accuracy: 10.2183\n",
      "Epoch 11/20 : Training loss: 2.3025 | Training Accuracy: 10.2183\n",
      "Epoch 12/20 : Training loss: 2.3023 | Training Accuracy: 10.2183\n",
      "Epoch 13/20 : Training loss: 2.3021 | Training Accuracy: 10.2183\n",
      "Epoch 14/20 : Training loss: 2.3019 | Training Accuracy: 10.2167\n",
      "Epoch 15/20 : Training loss: 2.3017 | Training Accuracy: 10.2317\n",
      "Epoch 16/20 : Training loss: 2.3016 | Training Accuracy: 10.7567\n",
      "Epoch 17/20 : Training loss: 2.3014 | Training Accuracy: 12.2850\n",
      "Epoch 18/20 : Training loss: 2.3012 | Training Accuracy: 14.2100\n",
      "Epoch 19/20 : Training loss: 2.3010 | Training Accuracy: 17.7617\n",
      "Epoch 20/20 : Training loss: 2.3008 | Training Accuracy: 18.0667\n"
     ]
    }
   ],
   "source": [
    "train_loss2 = []\n",
    "train_acc2 = []\n",
    "for epoch in range(num_epochs2):\n",
    "    \n",
    "    running_loss = 0.0 \n",
    "    running_corr = 0\n",
    "        \n",
    "    for i,data in enumerate(trainLoader2):\n",
    "        inputs,labels = data\n",
    "        # Initializing model gradients to zero\n",
    "        optimizer2.zero_grad() \n",
    "        # Data feed-forward through the network\n",
    "        outputs2 = net2(inputs.view(inputs.shape[0],-1))\n",
    "        # Predicted class is the one with maximum probability\n",
    "        preds2 = torch.argmax(outputs2,dim=1)\n",
    "        # Finding the loss\n",
    "        loss = criterion(outputs2, labels)\n",
    "        # Accumulating the loss for each batch\n",
    "        running_loss += loss \n",
    "        # Accumulate number of correct predictions\n",
    "        running_corr += torch.sum(preds2==labels)    \n",
    "        \n",
    "    totalLoss2 = running_loss/(i+1)\n",
    "    # Calculating gradients\n",
    "    totalLoss2.backward()\n",
    "    # Updating the model parameters\n",
    "    # Updating the model parameters\n",
    "    optimizer2.step()\n",
    "        \n",
    "    epoch_loss = running_loss.item()/(i+1)   #Total loss for one epoch\n",
    "    epoch_acc = running_corr.item()/60000\n",
    "    \n",
    "    \n",
    "         \n",
    "    train_loss2.append(epoch_loss) #Saving the loss over epochs for plotting the graph\n",
    "    train_acc2.append(epoch_acc) #Saving the accuracy over epochs for plotting the graph\n",
    "       \n",
    "        \n",
    "    print('Epoch {:.0f}/{:.0f} : Training loss: {:.4f} | Training Accuracy: {:.4f}'.format(epoch+1,num_epochs2,epoch_loss,epoch_acc*100))"
   ]
  },
  {
   "cell_type": "code",
   "execution_count": 15,
   "metadata": {
    "colab": {
     "base_uri": "https://localhost:8080/",
     "height": 351
    },
    "id": "Yg_ZB1e7Et1d",
    "outputId": "431bc735-54ce-4992-df0f-a24ac3432a8c"
   },
   "outputs": [
    {
     "data": {
      "text/plain": [
       "Text(0, 0.5, 'Training Accuracy')"
      ]
     },
     "execution_count": 15,
     "metadata": {
      "tags": []
     },
     "output_type": "execute_result"
    },
    {
     "data": {
      "image/png": "[encoded data removed]",
      "text/plain": [
       "<Figure size 1080x360 with 2 Axes>"
      ]
     },
     "metadata": {
      "needs_background": "light",
      "tags": []
     },
     "output_type": "display_data"
    }
   ],
   "source": [
    "fig = plt.figure(figsize=[15,5]) \n",
    "plt.subplot(121)\n",
    "plt.plot(range(num_epochs),train_loss,'r-',label='Batch size=512') \n",
    "plt.plot(range(num_epochs2),train_loss2,'r-',color='blue',label='Batch size=256') \n",
    "\n",
    "plt.legend(loc='upper right')\n",
    "plt.xlabel('Epochs')\n",
    "plt.ylabel('Training loss/error')\n",
    "plt.subplot(122)\n",
    "plt.plot(range(num_epochs),train_acc,'g-',label='Batch size=512') \n",
    "plt.plot(range(num_epochs2),train_acc2,'g-', color='blue',label='Batch size=256') #learning rate in both is same\n",
    " \n",
    "plt.legend(loc='upper right')\n",
    "plt.xlabel('Epochs')\n",
    "plt.ylabel('Training Accuracy')"
   ]
  },
  {
   "cell_type": "code",
   "execution_count": 16,
   "metadata": {
    "colab": {
     "base_uri": "https://localhost:8080/"
    },
    "id": "akIrE5a-G-c9",
    "outputId": "f13338f8-c237-40a1-e53a-d762b1846702"
   },
   "outputs": [
    {
     "name": "stdout",
     "output_type": "stream",
     "text": [
      "Testing accuracy (Batch size=256, lr=0.1) =  16.57\n"
     ]
    }
   ],
   "source": [
    "correct_pred2=0\n",
    "for data in testLoader2:\n",
    "    inputs,labels = data\n",
    "    # Feedforward train data batch through model\n",
    "    output = net2(inputs.view(inputs.shape[0],-1))\n",
    "    # Predicted class is the one with maximum probability\n",
    "    preds2 = torch.argmax(output,dim=1)\n",
    "    correct_pred2 += torch.sum(preds2==labels)\n",
    "\n",
    "test_accuracy2 = correct_pred2.item()/10000.0\n",
    "print('Testing accuracy (Batch size=256, lr=0.1) = ',test_accuracy2*100) "
   ]
  },
  {
   "cell_type": "markdown",
   "metadata": {
    "id": "osSS0n_X5y_M"
   },
   "source": [
    "#### Answers to Q4) :  \n",
    "\n",
    "#### For (Batch Size 512 , LR = 0.1) :  a) Training accuracy = 12.8533%    b) Testing accuracy =  11.35%    c) Training loss =  2.3029   d) Testing loss = 2.3012\n",
    "\n",
    "\n",
    "#### For (Batch Size 256 , LR = 0.1) : a) Training accuracy = 18.1%    b) Testing accuracy = 16.57%    c) Training loss = 2.3008    d) Testing loss = 2.2847\n"
   ]
  },
  {
   "cell_type": "code",
   "execution_count": null,
   "metadata": {},
   "outputs": [],
   "source": []
  },
  {
   "cell_type": "markdown",
   "metadata": {
    "id": "E13fV0CK5yhs"
   },
   "source": [
    "### **Q6.a) Varying the Batch_Size (32 to 1024)**"
   ]
  },
  {
   "cell_type": "code",
   "execution_count": 17,
   "metadata": {
    "id": "ug4Wy34A56ku"
   },
   "outputs": [],
   "source": [
    "BatchSize_new = [32 , 64 , 128 , 256 , 1024] # change according to system specs\n",
    "apply_transform = transforms.Compose([transforms.ToTensor()])\n",
    "trainset_new = datasets.MNIST(root='./MNIST', train=True, download=True, transform=apply_transform)\n",
    "\n",
    "\n",
    "# Validation set with random rotations in the range [-90,90]\n",
    "testset_new = datasets.MNIST(root='./MNIST', train=False, download=True, transform=apply_transform)\n",
    "\n",
    "\n",
    "#trainLoader_new = torch.utils.data.DataLoader(trainset_new, batch_size=BatchSize_new[0],shuffle=True, num_workers=4) # Creating dataloader   \n",
    "\n",
    "\n",
    "#testLoader_new = torch.utils.data.DataLoader(testset_new, batch_size=BatchSize_new[0], shuffle=False, num_workers=4) # Creating dataloader                                                                          "
   ]
  },
  {
   "cell_type": "code",
   "execution_count": 18,
   "metadata": {
    "id": "Y9EZZyKA7BNN"
   },
   "outputs": [],
   "source": [
    "class FFNN(nn.Module):\n",
    "    \n",
    "    def __init__(self):\n",
    "        super(FFNN, self).__init__()\n",
    "        self.fc1 = nn.Linear(28*28,100)\n",
    "        self.fc2 = nn.Linear(100,10)\n",
    "    \n",
    "    def forward(self,x):\n",
    "        x = self.fc1(x)\n",
    "        x = torch.sigmoid(x)\n",
    "        x = self.fc2(x)\n",
    "        x = F.softmax(x, dim = 1)\n",
    "        return x\n",
    "        \n",
    "\n",
    "net = FFNN()"
   ]
  },
  {
   "cell_type": "code",
   "execution_count": 20,
   "metadata": {
    "id": "XMzqKvmOI86Q"
   },
   "outputs": [],
   "source": [
    "#####-------- Function to calculate Test Accuracy and Test Loss-----------###################\n",
    "\n",
    "\n",
    "def calc_test_loss_VaryingBatch(testLoader_from_model):  \n",
    "    test_loss = []\n",
    "    test_acc = []\n",
    "\n",
    "    running_loss = 0.0 \n",
    "    running_corr = 0\n",
    "\n",
    "    testLoader_from_model = testLoader\n",
    "      \n",
    "    for i, data in enumerate(testLoader):\n",
    "        inputs,labels = data\n",
    "        # Initializing model gradients to zero\n",
    "        #optimizer2.zero_grad() \n",
    "        # Data feed-forward through the network\n",
    "        outputs = net(inputs.view(inputs.shape[0],-1))\n",
    "        # Predicted class is the one with maximum probability\n",
    "        preds = torch.argmax(outputs,dim=1)\n",
    "        # Finding the loss\n",
    "        loss = criterion(outputs, labels)\n",
    "        # Accumulating the loss for each batch\n",
    "        running_loss += loss \n",
    "        # Accumulate number of correct predictions\n",
    "        running_corr += torch.sum(preds==labels)    \n",
    "      \n",
    "    totalLoss = running_loss/(i+1)\n",
    "    # Calculating gradients\n",
    "    #totalLoss2.backward()\n",
    "    # Updating the model parameters\n",
    "    # Updating the model parameters\n",
    "    #optimizer2.step()\n",
    "      \n",
    "    epoch_loss = running_loss.item()/(i+1)   #Total loss for one epoch\n",
    "    epoch_acc = running_corr.item()/10000\n",
    "  \n",
    "  \n",
    "      \n",
    "    test_loss.append(epoch_loss) #Saving the loss over epochs for plotting the graph\n",
    "    test_acc.append(epoch_acc) #Saving the accuracy over epochs for plotting the graph\n",
    "\n",
    "      \n",
    "    #print('Epoch {:.0f}/{:.0f} : Training loss: {:.4f} | Training Accuracy: {:.4f}'.format(epoch+1,num_epochs2,epoch_loss,epoch_acc*100))\n",
    "    return np.mean(test_loss) , np.mean(test_acc)"
   ]
  },
  {
   "cell_type": "code",
   "execution_count": 23,
   "metadata": {
    "id": "bN4vwQwZ5MG_"
   },
   "outputs": [],
   "source": [
    "criterion = nn.CrossEntropyLoss() \n",
    "learning_rate_new = 0.2\n",
    "optimizer_new = optim.SGD(net.parameters(), lr=learning_rate_new, momentum=0.8) # SGD\n",
    "num_epochs_new = 20"
   ]
  },
  {
   "cell_type": "code",
   "execution_count": 24,
   "metadata": {
    "colab": {
     "base_uri": "https://localhost:8080/"
    },
    "id": "A1hcb4mp7BPL",
    "outputId": "0843dc40-880f-4a72-8a57-041ebf4f8653"
   },
   "outputs": [
    {
     "name": "stdout",
     "output_type": "stream",
     "text": [
      "\u001b[1mBatch Size is : 32\u001b[0m\n",
      "Epoch 1/20 : Training loss: 2.3036 | Training Accuracy: 9.0350\n",
      "Epoch 2/20 : Training loss: 2.3035 | Training Accuracy: 9.0350\n",
      "Epoch 3/20 : Training loss: 2.3033 | Training Accuracy: 9.0283\n",
      "Epoch 4/20 : Training loss: 2.3030 | Training Accuracy: 8.9250\n",
      "Epoch 5/20 : Training loss: 2.3027 | Training Accuracy: 7.8967\n",
      "Epoch 6/20 : Training loss: 2.3024 | Training Accuracy: 12.5867\n",
      "Epoch 7/20 : Training loss: 2.3020 | Training Accuracy: 11.2400\n",
      "Epoch 8/20 : Training loss: 2.3016 | Training Accuracy: 11.2367\n",
      "Epoch 9/20 : Training loss: 2.3012 | Training Accuracy: 11.2367\n",
      "Epoch 10/20 : Training loss: 2.3008 | Training Accuracy: 11.2367\n",
      "Epoch 11/20 : Training loss: 2.3004 | Training Accuracy: 11.2367\n",
      "Epoch 12/20 : Training loss: 2.2999 | Training Accuracy: 11.2367\n",
      "Epoch 13/20 : Training loss: 2.2995 | Training Accuracy: 11.2367\n",
      "Epoch 14/20 : Training loss: 2.2990 | Training Accuracy: 11.2367\n",
      "Epoch 15/20 : Training loss: 2.2986 | Training Accuracy: 11.2367\n",
      "Epoch 16/20 : Training loss: 2.2981 | Training Accuracy: 11.2367\n",
      "Epoch 17/20 : Training loss: 2.2976 | Training Accuracy: 11.2367\n",
      "Epoch 18/20 : Training loss: 2.2971 | Training Accuracy: 11.2367\n",
      "Epoch 19/20 : Training loss: 2.2966 | Training Accuracy: 11.2367\n",
      "Epoch 20/20 : Training loss: 2.2961 | Training Accuracy: 11.2367\n",
      "\u001b[1mTest Loss for Batch Size : 32 is 2.2953636169433596 and Test Accuracy is: 0.1135\u001b[0m\n",
      "----------------------------------------------------------------------------------------------------------------------------------------\n",
      "\n",
      "\n",
      "\u001b[1mBatch Size is : 64\u001b[0m\n",
      "Epoch 1/20 : Training loss: 2.3020 | Training Accuracy: 10.2183\n",
      "Epoch 2/20 : Training loss: 2.3020 | Training Accuracy: 10.2183\n",
      "Epoch 3/20 : Training loss: 2.3018 | Training Accuracy: 10.2183\n",
      "Epoch 4/20 : Training loss: 2.3017 | Training Accuracy: 10.2183\n",
      "Epoch 5/20 : Training loss: 2.3014 | Training Accuracy: 10.2183\n",
      "Epoch 6/20 : Training loss: 2.3012 | Training Accuracy: 10.2183\n",
      "Epoch 7/20 : Training loss: 2.3009 | Training Accuracy: 10.2183\n",
      "Epoch 8/20 : Training loss: 2.3006 | Training Accuracy: 10.2183\n",
      "Epoch 9/20 : Training loss: 2.3003 | Training Accuracy: 10.2183\n",
      "Epoch 10/20 : Training loss: 2.3000 | Training Accuracy: 10.8317\n",
      "Epoch 11/20 : Training loss: 2.2997 | Training Accuracy: 19.4900\n",
      "Epoch 12/20 : Training loss: 2.2993 | Training Accuracy: 17.6700\n",
      "Epoch 13/20 : Training loss: 2.2990 | Training Accuracy: 14.9250\n",
      "Epoch 14/20 : Training loss: 2.2986 | Training Accuracy: 12.7517\n",
      "Epoch 15/20 : Training loss: 2.2982 | Training Accuracy: 11.6550\n",
      "Epoch 16/20 : Training loss: 2.2978 | Training Accuracy: 11.2983\n",
      "Epoch 17/20 : Training loss: 2.2974 | Training Accuracy: 11.2467\n",
      "Epoch 18/20 : Training loss: 2.2970 | Training Accuracy: 11.2400\n",
      "Epoch 19/20 : Training loss: 2.2966 | Training Accuracy: 11.2367\n",
      "Epoch 20/20 : Training loss: 2.2962 | Training Accuracy: 11.2367\n",
      "\u001b[1mTest Loss for Batch Size : 64 is 2.295414924621582 and Test Accuracy is: 0.1135\u001b[0m\n",
      "----------------------------------------------------------------------------------------------------------------------------------------\n",
      "\n",
      "\n",
      "\u001b[1mBatch Size is : 128\u001b[0m\n",
      "Epoch 1/20 : Training loss: 2.3022 | Training Accuracy: 10.4317\n",
      "Epoch 2/20 : Training loss: 2.3022 | Training Accuracy: 10.4267\n",
      "Epoch 3/20 : Training loss: 2.3020 | Training Accuracy: 10.4167\n",
      "Epoch 4/20 : Training loss: 2.3019 | Training Accuracy: 10.3533\n",
      "Epoch 5/20 : Training loss: 2.3017 | Training Accuracy: 10.2033\n",
      "Epoch 6/20 : Training loss: 2.3014 | Training Accuracy: 9.8350\n",
      "Epoch 7/20 : Training loss: 2.3012 | Training Accuracy: 11.2600\n",
      "Epoch 8/20 : Training loss: 2.3009 | Training Accuracy: 11.2717\n",
      "Epoch 9/20 : Training loss: 2.3006 | Training Accuracy: 11.1600\n",
      "Epoch 10/20 : Training loss: 2.3003 | Training Accuracy: 11.4200\n",
      "Epoch 11/20 : Training loss: 2.3000 | Training Accuracy: 11.3050\n",
      "Epoch 12/20 : Training loss: 2.2996 | Training Accuracy: 11.2500\n",
      "Epoch 13/20 : Training loss: 2.2993 | Training Accuracy: 11.2383\n",
      "Epoch 14/20 : Training loss: 2.2989 | Training Accuracy: 11.2367\n",
      "Epoch 15/20 : Training loss: 2.2985 | Training Accuracy: 11.2367\n",
      "Epoch 16/20 : Training loss: 2.2981 | Training Accuracy: 11.2367\n",
      "Epoch 17/20 : Training loss: 2.2977 | Training Accuracy: 11.2367\n",
      "Epoch 18/20 : Training loss: 2.2973 | Training Accuracy: 11.2367\n",
      "Epoch 19/20 : Training loss: 2.2969 | Training Accuracy: 11.2367\n",
      "Epoch 20/20 : Training loss: 2.2965 | Training Accuracy: 11.2367\n",
      "\u001b[1mTest Loss for Batch Size : 128 is 2.295825386047363 and Test Accuracy is: 0.1135\u001b[0m\n",
      "----------------------------------------------------------------------------------------------------------------------------------------\n",
      "\n",
      "\n",
      "\u001b[1mBatch Size is : 256\u001b[0m\n",
      "Epoch 1/20 : Training loss: 2.3029 | Training Accuracy: 11.0500\n",
      "Epoch 2/20 : Training loss: 2.3029 | Training Accuracy: 11.1800\n",
      "Epoch 3/20 : Training loss: 2.3028 | Training Accuracy: 11.4533\n",
      "Epoch 4/20 : Training loss: 2.3026 | Training Accuracy: 11.8583\n",
      "Epoch 5/20 : Training loss: 2.3024 | Training Accuracy: 12.3767\n",
      "Epoch 6/20 : Training loss: 2.3022 | Training Accuracy: 12.8983\n",
      "Epoch 7/20 : Training loss: 2.3020 | Training Accuracy: 13.4550\n",
      "Epoch 8/20 : Training loss: 2.3018 | Training Accuracy: 16.7367\n",
      "Epoch 9/20 : Training loss: 2.3015 | Training Accuracy: 17.1967\n",
      "Epoch 10/20 : Training loss: 2.3012 | Training Accuracy: 11.6967\n",
      "Epoch 11/20 : Training loss: 2.3009 | Training Accuracy: 11.2433\n",
      "Epoch 12/20 : Training loss: 2.3006 | Training Accuracy: 11.2367\n",
      "Epoch 13/20 : Training loss: 2.3003 | Training Accuracy: 11.2367\n",
      "Epoch 14/20 : Training loss: 2.3000 | Training Accuracy: 11.2367\n",
      "Epoch 15/20 : Training loss: 2.2997 | Training Accuracy: 11.2367\n",
      "Epoch 16/20 : Training loss: 2.2994 | Training Accuracy: 11.2367\n",
      "Epoch 17/20 : Training loss: 2.2990 | Training Accuracy: 11.2367\n",
      "Epoch 18/20 : Training loss: 2.2987 | Training Accuracy: 11.2367\n",
      "Epoch 19/20 : Training loss: 2.2984 | Training Accuracy: 11.2367\n",
      "Epoch 20/20 : Training loss: 2.2980 | Training Accuracy: 11.2367\n",
      "\u001b[1mTest Loss for Batch Size : 256 is 2.2974111557006838 and Test Accuracy is: 0.1135\u001b[0m\n",
      "----------------------------------------------------------------------------------------------------------------------------------------\n",
      "\n",
      "\n",
      "\u001b[1mBatch Size is : 1024\u001b[0m\n",
      "Epoch 1/20 : Training loss: 2.3040 | Training Accuracy: 9.7517\n",
      "Epoch 2/20 : Training loss: 2.3039 | Training Accuracy: 9.7517\n",
      "Epoch 3/20 : Training loss: 2.3038 | Training Accuracy: 9.7517\n",
      "Epoch 4/20 : Training loss: 2.3036 | Training Accuracy: 9.7517\n",
      "Epoch 5/20 : Training loss: 2.3034 | Training Accuracy: 9.7517\n",
      "Epoch 6/20 : Training loss: 2.3032 | Training Accuracy: 9.7517\n",
      "Epoch 7/20 : Training loss: 2.3030 | Training Accuracy: 9.7517\n",
      "Epoch 8/20 : Training loss: 2.3027 | Training Accuracy: 9.7517\n",
      "Epoch 9/20 : Training loss: 2.3024 | Training Accuracy: 9.7517\n",
      "Epoch 10/20 : Training loss: 2.3021 | Training Accuracy: 9.7517\n",
      "Epoch 11/20 : Training loss: 2.3018 | Training Accuracy: 9.7517\n",
      "Epoch 12/20 : Training loss: 2.3015 | Training Accuracy: 9.7517\n",
      "Epoch 13/20 : Training loss: 2.3012 | Training Accuracy: 9.7517\n",
      "Epoch 14/20 : Training loss: 2.3008 | Training Accuracy: 9.7517\n",
      "Epoch 15/20 : Training loss: 2.3005 | Training Accuracy: 9.7750\n",
      "Epoch 16/20 : Training loss: 2.3001 | Training Accuracy: 13.1117\n",
      "Epoch 17/20 : Training loss: 2.2998 | Training Accuracy: 18.2417\n",
      "Epoch 18/20 : Training loss: 2.2994 | Training Accuracy: 14.9267\n",
      "Epoch 19/20 : Training loss: 2.2991 | Training Accuracy: 12.1900\n",
      "Epoch 20/20 : Training loss: 2.2987 | Training Accuracy: 11.4983\n",
      "\u001b[1mTest Loss for Batch Size : 1024 is 2.2980653762817385 and Test Accuracy is: 0.1153\u001b[0m\n",
      "----------------------------------------------------------------------------------------------------------------------------------------\n",
      "\n",
      "\n"
     ]
    }
   ],
   "source": [
    "train_loss_new = [[] for i in range(5)]\n",
    "train_acc_new = [[] for i in range(5)]\n",
    "\n",
    "y = 0\n",
    "\n",
    "for k in range(5):\n",
    "\n",
    "    class FFNN(nn.Module):\n",
    "    \n",
    "      def __init__(self):\n",
    "            super(FFNN, self).__init__()\n",
    "            self.fc1 = nn.Linear(28*28,100)\n",
    "            self.fc2 = nn.Linear(100,10)\n",
    "      \n",
    "      def forward(self,x):\n",
    "            x = self.fc1(x)\n",
    "            x = torch.sigmoid(x)\n",
    "            x = self.fc2(x)\n",
    "            x = F.softmax(x, dim = 1)\n",
    "            return x\n",
    "\n",
    "    net = FFNN()\n",
    "\n",
    "    trainLoader_new = torch.utils.data.DataLoader(trainset_new, batch_size=BatchSize_new[k],shuffle=True, num_workers=0) # Creating dataloader \n",
    "    testLoader_new = torch.utils.data.DataLoader(testset_new, batch_size=BatchSize_new[k], shuffle=False, num_workers=0) # Creating dataloader\n",
    "\n",
    "    optimizer_new = optim.SGD(net.parameters(), lr=learning_rate_new, momentum=0.8) # SGD\n",
    "\n",
    "    print(color.BOLD + \"Batch Size is : {}\".format(BatchSize_new[k]) + color.END)\n",
    "\n",
    "    for epoch in range(num_epochs_new):\n",
    "      \n",
    "        running_loss = 0.0 \n",
    "        running_corr = 0\n",
    "          \n",
    "        for i,data in enumerate(trainLoader_new):\n",
    "            inputs,labels = data\n",
    "            # Initializing model gradients to zero\n",
    "            optimizer_new.zero_grad() \n",
    "            # Data feed-forward through the network\n",
    "            outputs_new = net(inputs.view(inputs.shape[0],-1))\n",
    "            # Predicted class is the one with maximum probability\n",
    "            preds_new = torch.argmax(outputs_new,dim=1)\n",
    "            # Finding the loss\n",
    "            loss = criterion(outputs_new, labels)\n",
    "            # Accumulating the loss for each batch\n",
    "            running_loss += loss \n",
    "            # Accumulate number of correct predictions\n",
    "            running_corr += torch.sum(preds_new==labels)    \n",
    "          \n",
    "        totalLoss_new = running_loss/(i+1)\n",
    "        # Calculating gradients\n",
    "        totalLoss_new.backward()\n",
    "        # Updating the model parameters\n",
    "        # Updating the model parameters\n",
    "        optimizer_new.step()\n",
    "\n",
    "        epoch_loss = running_loss.item()/(i+1)   #Total loss for one epoch\n",
    "        epoch_acc = running_corr.item()/60000\n",
    "      \n",
    "      \n",
    "          \n",
    "        train_loss_new[y].append(epoch_loss) #Saving the loss over epochs for plotting the graph\n",
    "        train_acc_new[y].append(epoch_acc) #Saving the accuracy over epochs for plotting the graph\n",
    "        \n",
    "          \n",
    "        print('Epoch {:.0f}/{:.0f} : Training loss: {:.4f} | Training Accuracy: {:.4f}'.format(epoch+1,num_epochs_new,epoch_loss,epoch_acc*100))\n",
    "\n",
    "  \n",
    "    test_loss,test_acc = calc_test_loss_VaryingBatch(testLoader_new)\n",
    "    print(color.BOLD + \"Test Loss for Batch Size : {} is {} and Test Accuracy is: {}\".format(BatchSize_new[k] , test_loss , test_acc) + color.END)\n",
    "    y = y + 1\n",
    "\n",
    "    print('----------------------------------------------------------------------------------------------------------------------------------------')\n",
    "    print('\\n')\n",
    "  "
   ]
  },
  {
   "cell_type": "code",
   "execution_count": 26,
   "metadata": {
    "colab": {
     "base_uri": "https://localhost:8080/",
     "height": 1000
    },
    "id": "tpWJC43556nW",
    "outputId": "815c95bd-1625-4d57-f5fb-cf806fd2f326"
   },
   "outputs": [
    {
     "name": "stdout",
     "output_type": "stream",
     "text": [
      "\u001b[1m----------------------- Train_Loss vs No. of Epochs and Train_Accuracy vs No. of Epochs For Varying Batch Size -----------------------------------------------\u001b[0m\n"
     ]
    },
    {
     "data": {
      "image/png": "[encoded data removed]",
      "text/plain": [
       "<Figure size 1080x360 with 2 Axes>"
      ]
     },
     "metadata": {
      "needs_background": "light",
      "tags": []
     },
     "output_type": "display_data"
    },
    {
     "data": {
      "image/png": "[encoded data removed]",
      "text/plain": [
       "<Figure size 1080x360 with 2 Axes>"
      ]
     },
     "metadata": {
      "needs_background": "light",
      "tags": []
     },
     "output_type": "display_data"
    },
    {
     "data": {
      "image/png": "[encoded data removed]",
      "text/plain": [
       "<Figure size 1080x360 with 2 Axes>"
      ]
     },
     "metadata": {
      "needs_background": "light",
      "tags": []
     },
     "output_type": "display_data"
    },
    {
     "data": {
      "image/png": "[encoded data removed]",
      "text/plain": [
       "<Figure size 1080x360 with 2 Axes>"
      ]
     },
     "metadata": {
      "needs_background": "light",
      "tags": []
     },
     "output_type": "display_data"
    },
    {
     "data": {
      "image/png": "[encoded data removed]",
      "text/plain": [
       "<Figure size 1080x360 with 2 Axes>"
      ]
     },
     "metadata": {
      "needs_background": "light",
      "tags": []
     },
     "output_type": "display_data"
    }
   ],
   "source": [
    "print(color.BOLD + \"----------------------- Train_Loss vs No. of Epochs and Train_Accuracy vs No. of Epochs For Varying Batch Size -----------------------------------------------\" + color.END)\n",
    "for i in range(5):\n",
    "    fig = plt.figure(figsize=[15,5]) \n",
    "    plt.subplot(121)\n",
    "    plt.plot(range(num_epochs_new),train_loss_new[i],'r-',label='Loss') \n",
    "    plt.title(\"Batch Size is : {}\".format(BatchSize_new[i]))\n",
    "    plt.legend(loc='upper right')\n",
    "    plt.xlabel('Epochs')\n",
    "    plt.ylabel('Training')\n",
    "    plt.subplot(122)\n",
    "    plt.plot(range(num_epochs_new),train_acc_new[i],'g-',label='Accuracy') \n",
    "    plt.title(\"Batch Size is : {}\".format(BatchSize_new[i]))\n",
    "    plt.legend(loc='upper right')\n",
    "    plt.xlabel('Epochs')\n",
    "    plt.ylabel('Training')"
   ]
  },
  {
   "cell_type": "code",
   "execution_count": 28,
   "metadata": {
    "colab": {
     "base_uri": "https://localhost:8080/",
     "height": 368
    },
    "id": "WrDGByp78H4Z",
    "outputId": "fa370741-ff84-48c9-8325-23431a3eca5c"
   },
   "outputs": [
    {
     "name": "stdout",
     "output_type": "stream",
     "text": [
      "\u001b[1m--------------------Test Loss and Test Accuracy plots as a function of Batch Size ---------------\u001b[0m\n"
     ]
    },
    {
     "data": {
      "text/plain": [
       "Text(0.5, 0, 'Learning Rates')"
      ]
     },
     "execution_count": 28,
     "metadata": {
      "tags": []
     },
     "output_type": "execute_result"
    },
    {
     "data": {
      "image/png": "[encoded data removed]",
      "text/plain": [
       "<Figure size 1080x360 with 2 Axes>"
      ]
     },
     "metadata": {
      "needs_background": "light",
      "tags": []
     },
     "output_type": "display_data"
    }
   ],
   "source": [
    "test_loss_vals = [2.2980653762817385,  2.2974111557006838   ,2.295825386047363  ,2.295414924621582  , 2.2953636169433596 ] ## Obtained from the run above \n",
    "test_acc_vals = [0.1153,0.1135,0.1135,0.1135,0.1135]\n",
    "Batch_size_vals = [1024,256,128,64,32]\n",
    "\n",
    "print(color.BOLD + \"--------------------Test Loss and Test Accuracy plots as a function of Batch Size ---------------\" + color.END)\n",
    "\n",
    "fig = plt.figure(figsize=[15,5]) \n",
    "plt.subplot(121)\n",
    "plt.plot(Batch_size_vals ,test_loss_vals , 'r-',label = 'Test Loss')\n",
    "plt.ylabel(\"Test Loss\")\n",
    "plt.xlabel(\"Learning Rates\")\n",
    "\n",
    "plt.subplot(122)\n",
    "plt.plot( Batch_size_vals , test_acc_vals , 'g-',label = 'Test Accuracy')\n",
    "plt.ylabel(\"Test Accuracy\")\n",
    "plt.xlabel(\"Learning Rates\")"
   ]
  },
  {
   "cell_type": "markdown",
   "metadata": {},
   "source": [
    "#### <font color = 'RED'> Note : In the above two plots, by mistake the X_Label was given Learning_Rates, it is \"Batch_Size\" </font>"
   ]
  },
  {
   "cell_type": "markdown",
   "metadata": {
    "id": "_8Xr-9td0UBP"
   },
   "source": [
    "### **Function to calculate Test Accuracy and Test Loss**"
   ]
  },
  {
   "cell_type": "code",
   "execution_count": 31,
   "metadata": {
    "id": "pyfGgXYrh63c"
   },
   "outputs": [],
   "source": [
    "#####-------- Function to calculate Test Accuracy and Test Loss-----------###################\n",
    "\n",
    "\n",
    "def calc_test_loss():\n",
    "    test_loss = []\n",
    "    test_acc = []\n",
    "      \n",
    "    running_loss = 0.0 \n",
    "    running_corr = 0\n",
    "\n",
    "    testLoader_from_model = testLoader\n",
    "      \n",
    "    for i, data in enumerate(testLoader):\n",
    "        inputs,labels = data\n",
    "        # Initializing model gradients to zero\n",
    "        #optimizer2.zero_grad() \n",
    "        # Data feed-forward through the network\n",
    "        outputs = net(inputs.view(inputs.shape[0],-1))\n",
    "        # Predicted class is the one with maximum probability\n",
    "        preds = torch.argmax(outputs,dim=1)\n",
    "        # Finding the loss\n",
    "        loss = criterion(outputs, labels)\n",
    "        # Accumulating the loss for each batch\n",
    "        running_loss += loss \n",
    "        # Accumulate number of correct predictions\n",
    "        running_corr += torch.sum(preds==labels)    \n",
    "      \n",
    "    totalLoss = running_loss/(i+1)\n",
    "    # Calculating gradients\n",
    "    #totalLoss2.backward()\n",
    "    # Updating the model parameters\n",
    "    # Updating the model parameters\n",
    "    #optimizer2.step()\n",
    "      \n",
    "    epoch_loss = running_loss.item()/(i+1)   #Total loss for one epoch\n",
    "    epoch_acc = running_corr.item()/10000\n",
    "  \n",
    "  \n",
    "      \n",
    "    test_loss.append(epoch_loss) #Saving the loss over epochs for plotting the graph\n",
    "    test_acc.append(epoch_acc) #Saving the accuracy over epochs for plotting the graph\n",
    "    \n",
    "      \n",
    "    #print('Epoch {:.0f}/{:.0f} : Training loss: {:.4f} | Training Accuracy: {:.4f}'.format(epoch+1,num_epochs2,epoch_loss,epoch_acc*100))\n",
    "    return np.mean(test_loss) , np.mean(test_acc)"
   ]
  },
  {
   "cell_type": "markdown",
   "metadata": {
    "id": "sCqmCrPtVCIC"
   },
   "source": [
    "### **Q6.b) Varying the Learning Rates**"
   ]
  },
  {
   "cell_type": "code",
   "execution_count": 32,
   "metadata": {
    "colab": {
     "base_uri": "https://localhost:8080/"
    },
    "id": "hd1m2641xv3e",
    "outputId": "23febde5-69ca-4ca8-acb3-cd1bbe0206f9"
   },
   "outputs": [
    {
     "name": "stdout",
     "output_type": "stream",
     "text": [
      "\u001b[1mLearning Rate is :\u001b[0m\n",
      "0.025\n",
      "Epoch 1/20 : Training loss: 2.3026 | Training Accuracy: 9.8717\n",
      "Epoch 2/20 : Training loss: 2.3026 | Training Accuracy: 9.8717\n",
      "Epoch 3/20 : Training loss: 2.3026 | Training Accuracy: 9.8717\n",
      "Epoch 4/20 : Training loss: 2.3026 | Training Accuracy: 9.8717\n",
      "Epoch 5/20 : Training loss: 2.3025 | Training Accuracy: 9.8717\n",
      "Epoch 6/20 : Training loss: 2.3025 | Training Accuracy: 9.8717\n",
      "Epoch 7/20 : Training loss: 2.3024 | Training Accuracy: 9.8717\n",
      "Epoch 8/20 : Training loss: 2.3024 | Training Accuracy: 9.8717\n",
      "Epoch 9/20 : Training loss: 2.3023 | Training Accuracy: 9.8717\n",
      "Epoch 10/20 : Training loss: 2.3023 | Training Accuracy: 9.8717\n",
      "Epoch 11/20 : Training loss: 2.3022 | Training Accuracy: 9.8717\n",
      "Epoch 12/20 : Training loss: 2.3021 | Training Accuracy: 9.8717\n",
      "Epoch 13/20 : Training loss: 2.3021 | Training Accuracy: 9.8717\n",
      "Epoch 14/20 : Training loss: 2.3020 | Training Accuracy: 9.8717\n",
      "Epoch 15/20 : Training loss: 2.3019 | Training Accuracy: 9.8717\n",
      "Epoch 16/20 : Training loss: 2.3018 | Training Accuracy: 9.8717\n",
      "Epoch 17/20 : Training loss: 2.3017 | Training Accuracy: 9.8717\n",
      "Epoch 18/20 : Training loss: 2.3017 | Training Accuracy: 9.8717\n",
      "Epoch 19/20 : Training loss: 2.3016 | Training Accuracy: 9.8717\n",
      "Epoch 20/20 : Training loss: 2.3015 | Training Accuracy: 9.8717\n",
      "\u001b[1mTest Loss for learning rate : 0.025 is 2.301616096496582 and Test Accuracy is: 0.098\u001b[0m\n",
      "----------------------------------------------------------------------------------------------------------------------------------------\n",
      "\n",
      "\n",
      "\u001b[1mLearning Rate is :\u001b[0m\n",
      "0.05\n",
      "Epoch 1/20 : Training loss: 2.3024 | Training Accuracy: 9.2400\n",
      "Epoch 2/20 : Training loss: 2.3024 | Training Accuracy: 9.2350\n",
      "Epoch 3/20 : Training loss: 2.3023 | Training Accuracy: 9.2333\n",
      "Epoch 4/20 : Training loss: 2.3023 | Training Accuracy: 9.2650\n",
      "Epoch 5/20 : Training loss: 2.3023 | Training Accuracy: 9.3017\n",
      "Epoch 6/20 : Training loss: 2.3022 | Training Accuracy: 9.3400\n",
      "Epoch 7/20 : Training loss: 2.3021 | Training Accuracy: 9.4600\n",
      "Epoch 8/20 : Training loss: 2.3020 | Training Accuracy: 9.6850\n",
      "Epoch 9/20 : Training loss: 2.3019 | Training Accuracy: 9.9983\n",
      "Epoch 10/20 : Training loss: 2.3018 | Training Accuracy: 10.6300\n",
      "Epoch 11/20 : Training loss: 2.3017 | Training Accuracy: 12.1483\n",
      "Epoch 12/20 : Training loss: 2.3016 | Training Accuracy: 15.0750\n",
      "Epoch 13/20 : Training loss: 2.3015 | Training Accuracy: 17.6533\n",
      "Epoch 14/20 : Training loss: 2.3014 | Training Accuracy: 17.7883\n",
      "Epoch 15/20 : Training loss: 2.3013 | Training Accuracy: 16.7183\n",
      "Epoch 16/20 : Training loss: 2.3011 | Training Accuracy: 15.5833\n",
      "Epoch 17/20 : Training loss: 2.3010 | Training Accuracy: 14.5500\n",
      "Epoch 18/20 : Training loss: 2.3008 | Training Accuracy: 13.6250\n",
      "Epoch 19/20 : Training loss: 2.3007 | Training Accuracy: 12.8467\n",
      "Epoch 20/20 : Training loss: 2.3006 | Training Accuracy: 12.2900\n",
      "\u001b[1mTest Loss for learning rate : 0.05 is 2.3004009246826174 and Test Accuracy is: 0.12\u001b[0m\n",
      "----------------------------------------------------------------------------------------------------------------------------------------\n",
      "\n",
      "\n",
      "\u001b[1mLearning Rate is :\u001b[0m\n",
      "0.1\n",
      "Epoch 1/20 : Training loss: 2.3024 | Training Accuracy: 11.2367\n",
      "Epoch 2/20 : Training loss: 2.3024 | Training Accuracy: 11.2367\n",
      "Epoch 3/20 : Training loss: 2.3023 | Training Accuracy: 11.2367\n",
      "Epoch 4/20 : Training loss: 2.3022 | Training Accuracy: 11.2367\n",
      "Epoch 5/20 : Training loss: 2.3021 | Training Accuracy: 11.2367\n",
      "Epoch 6/20 : Training loss: 2.3020 | Training Accuracy: 11.2367\n",
      "Epoch 7/20 : Training loss: 2.3017 | Training Accuracy: 11.2367\n",
      "Epoch 8/20 : Training loss: 2.3016 | Training Accuracy: 11.2367\n",
      "Epoch 9/20 : Training loss: 2.3013 | Training Accuracy: 11.2367\n",
      "Epoch 10/20 : Training loss: 2.3011 | Training Accuracy: 11.2367\n",
      "Epoch 11/20 : Training loss: 2.3009 | Training Accuracy: 11.2367\n",
      "Epoch 12/20 : Training loss: 2.3007 | Training Accuracy: 11.2367\n",
      "Epoch 13/20 : Training loss: 2.3003 | Training Accuracy: 11.2367\n",
      "Epoch 14/20 : Training loss: 2.3001 | Training Accuracy: 11.2367\n",
      "Epoch 15/20 : Training loss: 2.2997 | Training Accuracy: 11.2367\n",
      "Epoch 16/20 : Training loss: 2.2995 | Training Accuracy: 11.2367\n",
      "Epoch 17/20 : Training loss: 2.2991 | Training Accuracy: 11.2367\n",
      "Epoch 18/20 : Training loss: 2.2988 | Training Accuracy: 11.2367\n",
      "Epoch 19/20 : Training loss: 2.2985 | Training Accuracy: 11.2367\n",
      "Epoch 20/20 : Training loss: 2.2980 | Training Accuracy: 11.2367\n",
      "\u001b[1mTest Loss for learning rate : 0.1 is 2.297645378112793 and Test Accuracy is: 0.1135\u001b[0m\n",
      "----------------------------------------------------------------------------------------------------------------------------------------\n",
      "\n",
      "\n",
      "\u001b[1mLearning Rate is :\u001b[0m\n",
      "0.2\n",
      "Epoch 1/20 : Training loss: 2.3025 | Training Accuracy: 12.7850\n",
      "Epoch 2/20 : Training loss: 2.3024 | Training Accuracy: 12.7850\n",
      "Epoch 3/20 : Training loss: 2.3023 | Training Accuracy: 12.3233\n",
      "Epoch 4/20 : Training loss: 2.3021 | Training Accuracy: 11.3167\n",
      "Epoch 5/20 : Training loss: 2.3018 | Training Accuracy: 10.3417\n",
      "Epoch 6/20 : Training loss: 2.3015 | Training Accuracy: 9.9200\n",
      "Epoch 7/20 : Training loss: 2.3011 | Training Accuracy: 9.8717\n",
      "Epoch 8/20 : Training loss: 2.3007 | Training Accuracy: 9.9400\n",
      "Epoch 9/20 : Training loss: 2.3003 | Training Accuracy: 20.7150\n",
      "Epoch 10/20 : Training loss: 2.2998 | Training Accuracy: 19.8650\n",
      "Epoch 11/20 : Training loss: 2.2993 | Training Accuracy: 17.7100\n",
      "Epoch 12/20 : Training loss: 2.2988 | Training Accuracy: 14.7817\n",
      "Epoch 13/20 : Training loss: 2.2982 | Training Accuracy: 12.4983\n",
      "Epoch 14/20 : Training loss: 2.2976 | Training Accuracy: 11.5317\n",
      "Epoch 15/20 : Training loss: 2.2970 | Training Accuracy: 11.2717\n",
      "Epoch 16/20 : Training loss: 2.2964 | Training Accuracy: 11.2383\n",
      "Epoch 17/20 : Training loss: 2.2957 | Training Accuracy: 11.2367\n",
      "Epoch 18/20 : Training loss: 2.2950 | Training Accuracy: 11.2367\n",
      "Epoch 19/20 : Training loss: 2.2943 | Training Accuracy: 11.2367\n",
      "Epoch 20/20 : Training loss: 2.2935 | Training Accuracy: 11.2367\n",
      "\u001b[1mTest Loss for learning rate : 0.2 is 2.2926025390625 and Test Accuracy is: 0.1135\u001b[0m\n",
      "----------------------------------------------------------------------------------------------------------------------------------------\n",
      "\n",
      "\n",
      "\u001b[1mLearning Rate is :\u001b[0m\n",
      "0.5\n",
      "Epoch 1/20 : Training loss: 2.3027 | Training Accuracy: 9.9300\n",
      "Epoch 2/20 : Training loss: 2.3026 | Training Accuracy: 9.9300\n",
      "Epoch 3/20 : Training loss: 2.3022 | Training Accuracy: 9.9300\n",
      "Epoch 4/20 : Training loss: 2.3017 | Training Accuracy: 9.9300\n",
      "Epoch 5/20 : Training loss: 2.3011 | Training Accuracy: 9.9283\n",
      "Epoch 6/20 : Training loss: 2.3004 | Training Accuracy: 18.1717\n",
      "Epoch 7/20 : Training loss: 2.2995 | Training Accuracy: 11.3900\n",
      "Epoch 8/20 : Training loss: 2.2985 | Training Accuracy: 11.2367\n",
      "Epoch 9/20 : Training loss: 2.2975 | Training Accuracy: 11.2367\n",
      "Epoch 10/20 : Training loss: 2.2964 | Training Accuracy: 11.2367\n",
      "Epoch 11/20 : Training loss: 2.2952 | Training Accuracy: 11.2367\n",
      "Epoch 12/20 : Training loss: 2.2938 | Training Accuracy: 11.2367\n",
      "Epoch 13/20 : Training loss: 2.2924 | Training Accuracy: 11.2367\n",
      "Epoch 14/20 : Training loss: 2.2908 | Training Accuracy: 11.2367\n",
      "Epoch 15/20 : Training loss: 2.2890 | Training Accuracy: 11.2367\n",
      "Epoch 16/20 : Training loss: 2.2870 | Training Accuracy: 11.2367\n",
      "Epoch 17/20 : Training loss: 2.2848 | Training Accuracy: 11.2367\n",
      "Epoch 18/20 : Training loss: 2.2822 | Training Accuracy: 11.2367\n",
      "Epoch 19/20 : Training loss: 2.2793 | Training Accuracy: 11.2367\n",
      "Epoch 20/20 : Training loss: 2.2759 | Training Accuracy: 11.2633\n",
      "\u001b[1mTest Loss for learning rate : 0.5 is 2.2711517333984377 and Test Accuracy is: 0.1179\u001b[0m\n",
      "----------------------------------------------------------------------------------------------------------------------------------------\n",
      "\n",
      "\n"
     ]
    }
   ],
   "source": [
    "criterion = nn.CrossEntropyLoss() \n",
    "learning_rate = [ 0.025, 0.05, 0.1, 0.2 ,0.5]\n",
    "num_epochs = 20\n",
    "train_loss = [[] for i in range(5)]\n",
    "train_acc = [[] for i in range(5)]\n",
    "m = 0\n",
    "for j in learning_rate:\n",
    "    class FFNN(nn.Module):\n",
    "    \n",
    "      def __init__(self):\n",
    "            super(FFNN, self).__init__()\n",
    "            self.fc1 = nn.Linear(28*28,100)\n",
    "            self.fc2 = nn.Linear(100,10)\n",
    "      \n",
    "      def forward(self,x):\n",
    "            x = self.fc1(x)\n",
    "            x = torch.sigmoid(x)\n",
    "            x = self.fc2(x)\n",
    "            x = F.softmax(x, dim = 1)\n",
    "            return x\n",
    "        \n",
    "    net = FFNN()\n",
    "\n",
    "    optimizer1 = optim.SGD(net.parameters(), lr=j, momentum = 0.9) # SGD\n",
    "    print(color.BOLD + \"Learning Rate is :\"  + color.END)\n",
    "    print(j)\n",
    "    \n",
    "    for epoch in range(num_epochs):\n",
    "        running_loss = 0.0 \n",
    "        running_corr = 0\n",
    "\n",
    "\n",
    "        for i,data in enumerate(trainLoader):\n",
    "            inputs,labels = data\n",
    "            # Initializing model gradients to zero\n",
    "            optimizer1.zero_grad() \n",
    "            # Data feed-forward through the network\n",
    "            outputs = net(inputs.view(inputs.shape[0],-1))\n",
    "            # Predicted class is the one with maximum probability\n",
    "            preds = torch.argmax(outputs,dim=1)\n",
    "            # Finding the loss\n",
    "            loss = criterion(outputs, labels) \n",
    "            # Accumulating the loss for each batch\n",
    "            running_loss += loss \n",
    "            # Accumulate number of correct predictions\n",
    "            running_corr += torch.sum(preds==labels)    \n",
    "\n",
    "        totalLoss = running_loss/(i+1)\n",
    "        # Calculating gradients\n",
    "        totalLoss.backward()\n",
    "        # Updating the model parameters\n",
    "        optimizer1.step()\n",
    "\n",
    "        epoch_loss = running_loss.item()/(i+1)   #Total loss for one epoch\n",
    "        epoch_acc = running_corr.item()/60000\n",
    "\n",
    "\n",
    "\n",
    "        train_loss[m].append(epoch_loss) #Saving the loss over epochs for plotting the graph\n",
    "        train_acc[m].append(epoch_acc) #Saving the accuracy over epochs for plotting the graph\n",
    "\n",
    "        \n",
    "\n",
    "        print('Epoch {:.0f}/{:.0f} : Training loss: {:.4f} | Training Accuracy: {:.4f}'.format(epoch+1,num_epochs,epoch_loss,epoch_acc*100))\n",
    "        \n",
    "    test_loss,test_acc = calc_test_loss()\n",
    "    print(color.BOLD + \"Test Loss for learning rate : {} is {} and Test Accuracy is: {}\".format(j , test_loss , test_acc) + color.END)\n",
    "\n",
    "    m  = m + 1\n",
    "    print('----------------------------------------------------------------------------------------------------------------------------------------')\n",
    "    print('\\n')"
   ]
  },
  {
   "cell_type": "code",
   "execution_count": 33,
   "metadata": {
    "colab": {
     "base_uri": "https://localhost:8080/",
     "height": 1000
    },
    "id": "7D6GKStXyb3P",
    "outputId": "b1ccd279-137a-462f-f134-24f2f660fde4"
   },
   "outputs": [
    {
     "name": "stdout",
     "output_type": "stream",
     "text": [
      "\u001b[1m----------------------- Train_Loss vs No. of Epochs and Train_Accuracy vs No. of Epochs For Varying Learning Rates -----------------------------------------------\u001b[0m\n"
     ]
    },
    {
     "data": {
      "image/png": "[encoded data removed]",
      "text/plain": [
       "<Figure size 1080x360 with 2 Axes>"
      ]
     },
     "metadata": {
      "needs_background": "light",
      "tags": []
     },
     "output_type": "display_data"
    },
    {
     "data": {
      "image/png": "[encoded data removed]",
      "text/plain": [
       "<Figure size 1080x360 with 2 Axes>"
      ]
     },
     "metadata": {
      "needs_background": "light",
      "tags": []
     },
     "output_type": "display_data"
    },
    {
     "data": {
      "image/png": "[encoded data removed]",
      "text/plain": [
       "<Figure size 1080x360 with 2 Axes>"
      ]
     },
     "metadata": {
      "needs_background": "light",
      "tags": []
     },
     "output_type": "display_data"
    },
    {
     "data": {
      "image/png": "[encoded data removed]",
      "text/plain": [
       "<Figure size 1080x360 with 2 Axes>"
      ]
     },
     "metadata": {
      "needs_background": "light",
      "tags": []
     },
     "output_type": "display_data"
    },
    {
     "data": {
      "image/png": "[encoded data removed]",
      "text/plain": [
       "<Figure size 1080x360 with 2 Axes>"
      ]
     },
     "metadata": {
      "needs_background": "light",
      "tags": []
     },
     "output_type": "display_data"
    }
   ],
   "source": [
    "print(color.BOLD + \"----------------------- Train_Loss vs No. of Epochs and Train_Accuracy vs No. of Epochs For Varying Learning Rates -----------------------------------------------\" + color.END)\n",
    "for i in range(5):\n",
    "    fig = plt.figure(figsize=[15,5]) \n",
    "    plt.subplot(121)\n",
    "    plt.plot(range(num_epochs),train_loss[i],'r-',label='Loss') \n",
    "    plt.title(\"Learning Rate is : {}\".format(learning_rate[i]))\n",
    "    plt.legend(loc='upper right')\n",
    "    plt.xlabel('Epochs')\n",
    "    plt.ylabel('Training')\n",
    "    plt.subplot(122)\n",
    "    plt.plot(range(num_epochs),train_acc[i],'g-',label='Accuracy') \n",
    "    plt.title(\"Learning Rate is : {}\".format(learning_rate[i]))\n",
    "    plt.legend(loc='upper right')\n",
    "    plt.xlabel('Epochs')\n",
    "    plt.ylabel('Training')"
   ]
  },
  {
   "cell_type": "code",
   "execution_count": 34,
   "metadata": {
    "colab": {
     "base_uri": "https://localhost:8080/",
     "height": 368
    },
    "id": "9fHXvqlXwHvt",
    "outputId": "0bca9e55-3006-4acf-f307-fe2ca728be54"
   },
   "outputs": [
    {
     "name": "stdout",
     "output_type": "stream",
     "text": [
      "\u001b[1m--------------------Test Loss and Test Accuracy plots as a function of Learning Rates---------------\u001b[0m\n"
     ]
    },
    {
     "data": {
      "text/plain": [
       "Text(0.5, 0, 'Learning Rates')"
      ]
     },
     "execution_count": 34,
     "metadata": {
      "tags": []
     },
     "output_type": "execute_result"
    },
    {
     "data": {
      "image/png": "[encoded data removed]",
      "text/plain": [
       "<Figure size 1080x360 with 2 Axes>"
      ]
     },
     "metadata": {
      "needs_background": "light",
      "tags": []
     },
     "output_type": "display_data"
    }
   ],
   "source": [
    "test_loss_vals = [2.2711517333984377 ,2.2931535720825194, 2.297645378112793 ,2.3004009246826174,  2.301616096496582 ]\n",
    "test_acc_vals = [0.1179,0.1135,0.1135,0.12,0.098]\n",
    "lr_vals = [0.5,0.2,0.1,0.05,0.025]\n",
    "\n",
    "print(color.BOLD + \"--------------------Test Loss and Test Accuracy plots as a function of Learning Rates---------------\" + color.END)\n",
    "\n",
    "fig = plt.figure(figsize=[15,5]) \n",
    "plt.subplot(121)\n",
    "plt.plot(lr_vals ,test_loss_vals , 'r-',label = 'Test Loss')\n",
    "plt.ylabel(\"Test Loss\")\n",
    "plt.xlabel(\"Learning Rates\")\n",
    "\n",
    "plt.subplot(122)\n",
    "plt.plot( lr_vals , test_acc_vals , 'g-',label = 'Test Accuracy')\n",
    "plt.ylabel(\"Test Accuracy\")\n",
    "plt.xlabel(\"Learning Rates\")"
   ]
  },
  {
   "cell_type": "code",
   "execution_count": null,
   "metadata": {
    "id": "4e3tf5MEY9K6"
   },
   "outputs": [],
   "source": []
  },
  {
   "cell_type": "markdown",
   "metadata": {
    "id": "7ILYoE7rYRfw"
   },
   "source": [
    "### **Q6.c) Stochastic Gradient Descent with Restarts (SGDR)**"
   ]
  },
  {
   "cell_type": "code",
   "execution_count": 69,
   "metadata": {
    "colab": {
     "base_uri": "https://localhost:8080/"
    },
    "id": "fyrJ-KbeYjxQ",
    "outputId": "a3578ab4-62c3-4c36-dc17-e0e13c5835b6"
   },
   "outputs": [
    {
     "name": "stdout",
     "output_type": "stream",
     "text": [
      "\u001b[1mLearning Rate is : 0.5\u001b[0m\n",
      "Epoch 1/40 : Training loss: 2.3032 | Training Accuracy: 9.7367\n",
      "Epoch 2/40 : Training loss: 2.3030 | Training Accuracy: 9.7433\n",
      "Epoch 3/40 : Training loss: 2.3027 | Training Accuracy: 9.7600\n",
      "Epoch 4/40 : Training loss: 2.3022 | Training Accuracy: 9.9117\n",
      "Epoch 5/40 : Training loss: 2.3015 | Training Accuracy: 18.4467\n",
      "Epoch 6/40 : Training loss: 2.3007 | Training Accuracy: 11.5650\n",
      "Epoch 7/40 : Training loss: 2.2999 | Training Accuracy: 11.2367\n",
      "Epoch 8/40 : Training loss: 2.2989 | Training Accuracy: 11.2367\n",
      "Epoch 9/40 : Training loss: 2.2977 | Training Accuracy: 11.2367\n",
      "Epoch 10/40 : Training loss: 2.2965 | Training Accuracy: 11.2367\n",
      "\u001b[1mLearning Rate is : 0.2\u001b[0m\n",
      "Epoch 11/40 : Training loss: 2.2951 | Training Accuracy: 11.2367\n",
      "Epoch 12/40 : Training loss: 2.2950 | Training Accuracy: 11.2367\n",
      "Epoch 13/40 : Training loss: 2.2948 | Training Accuracy: 11.2367\n",
      "Epoch 14/40 : Training loss: 2.2946 | Training Accuracy: 11.2367\n",
      "Epoch 15/40 : Training loss: 2.2942 | Training Accuracy: 11.2367\n",
      "Epoch 16/40 : Training loss: 2.2937 | Training Accuracy: 11.2367\n",
      "Epoch 17/40 : Training loss: 2.2932 | Training Accuracy: 11.2367\n",
      "Epoch 18/40 : Training loss: 2.2926 | Training Accuracy: 11.2367\n",
      "Epoch 19/40 : Training loss: 2.2919 | Training Accuracy: 11.2383\n",
      "Epoch 20/40 : Training loss: 2.2911 | Training Accuracy: 11.2400\n",
      "\u001b[1mLearning Rate is : 0.1\u001b[0m\n",
      "Epoch 21/40 : Training loss: 2.2902 | Training Accuracy: 11.2700\n",
      "Epoch 22/40 : Training loss: 2.2901 | Training Accuracy: 11.2733\n",
      "Epoch 23/40 : Training loss: 2.2900 | Training Accuracy: 11.2817\n",
      "Epoch 24/40 : Training loss: 2.2898 | Training Accuracy: 11.2950\n",
      "Epoch 25/40 : Training loss: 2.2896 | Training Accuracy: 11.3300\n",
      "Epoch 26/40 : Training loss: 2.2892 | Training Accuracy: 11.3800\n",
      "Epoch 27/40 : Training loss: 2.2889 | Training Accuracy: 11.4500\n",
      "Epoch 28/40 : Training loss: 2.2884 | Training Accuracy: 11.5667\n",
      "Epoch 29/40 : Training loss: 2.2878 | Training Accuracy: 11.7333\n",
      "Epoch 30/40 : Training loss: 2.2873 | Training Accuracy: 11.9733\n",
      "\u001b[1mLearning Rate is : 0.05\u001b[0m\n",
      "Epoch 31/40 : Training loss: 2.2867 | Training Accuracy: 12.2783\n",
      "Epoch 32/40 : Training loss: 2.2866 | Training Accuracy: 12.3000\n",
      "Epoch 33/40 : Training loss: 2.2866 | Training Accuracy: 12.3550\n",
      "Epoch 34/40 : Training loss: 2.2864 | Training Accuracy: 12.4433\n",
      "Epoch 35/40 : Training loss: 2.2862 | Training Accuracy: 12.5700\n",
      "Epoch 36/40 : Training loss: 2.2861 | Training Accuracy: 12.7300\n",
      "Epoch 37/40 : Training loss: 2.2859 | Training Accuracy: 12.8867\n",
      "Epoch 38/40 : Training loss: 2.2855 | Training Accuracy: 13.0900\n",
      "Epoch 39/40 : Training loss: 2.2852 | Training Accuracy: 13.2933\n",
      "Epoch 40/40 : Training loss: 2.2849 | Training Accuracy: 13.5267\n"
     ]
    }
   ],
   "source": [
    "class FFNN(nn.Module):\n",
    "    \n",
    "      def __init__(self):\n",
    "            super(FFNN, self).__init__()\n",
    "            self.fc1 = nn.Linear(28*28,100)\n",
    "            self.fc2 = nn.Linear(100,10)\n",
    "      \n",
    "      def forward(self,x):\n",
    "            x = self.fc1(x)\n",
    "            x = torch.sigmoid(x)\n",
    "            x = self.fc2(x)\n",
    "            x = F.softmax(x, dim = 1)\n",
    "            return x\n",
    "        \n",
    "\n",
    "net = FFNN()\n",
    "\n",
    "\n",
    "criterion = nn.CrossEntropyLoss() \n",
    "learning_rate = [0.5 , 0.2 , 0.1 , 0.05]\n",
    "num_epochs = 40\n",
    "optimizer1 = optim.SGD(net.parameters(), lr=learning_rate[0], momentum = 0.9) # SGD\n",
    "train_loss = []\n",
    "train_acc = []\n",
    "t = 0\n",
    "\n",
    "\n",
    "\n",
    "for epoch in range(num_epochs):\n",
    "    \n",
    "    if(epoch%10== 0):\n",
    "\n",
    "        optimizer1 = optim.SGD(net.parameters(), lr=learning_rate[t], momentum = 0.9) # SGD\n",
    "        print(color.BOLD + \"Learning Rate is : {}\".format(learning_rate[t]) + color.END)\n",
    "        t = t + 1\n",
    "\n",
    "    running_loss = 0.0 \n",
    "    running_corr = 0\n",
    "        \n",
    "    for i,data in enumerate(trainLoader):\n",
    "        inputs,labels = data\n",
    "        # Initializing model gradients to zero\n",
    "        optimizer1.zero_grad() \n",
    "        # Data feed-forward through the network\n",
    "        outputs = net(inputs.view(inputs.shape[0],-1))\n",
    "        # Predicted class is the one with maximum probability\n",
    "        preds = torch.argmax(outputs,dim=1)\n",
    "        # Finding the loss\n",
    "        loss = criterion(outputs, labels) \n",
    "        # Accumulating the loss for each batch\n",
    "        running_loss += loss \n",
    "        # Accumulate number of correct predictions\n",
    "        running_corr += torch.sum(preds==labels)    \n",
    "        \n",
    "    totalLoss = running_loss/(i+1)\n",
    "    # Calculating gradients\n",
    "    totalLoss.backward()\n",
    "    # Updating the model parameters\n",
    "    optimizer1.step()\n",
    "        \n",
    "    epoch_loss = running_loss.item()/(i+1)   #Total loss for one epoch\n",
    "    epoch_acc = running_corr.item()/60000\n",
    "    \n",
    "    \n",
    "         \n",
    "    train_loss.append(epoch_loss) #Saving the loss over epochs for plotting the graph\n",
    "    train_acc.append(epoch_acc) #Saving the accuracy over epochs for plotting the graph\n",
    "       \n",
    "        \n",
    "    print('Epoch {:.0f}/{:.0f} : Training loss: {:.4f} | Training Accuracy: {:.4f}'.format(epoch+1,num_epochs,epoch_loss,epoch_acc*100))"
   ]
  },
  {
   "cell_type": "code",
   "execution_count": 70,
   "metadata": {
    "colab": {
     "base_uri": "https://localhost:8080/",
     "height": 351
    },
    "id": "yXOAO_K_3O4D",
    "outputId": "c405a361-3168-4d4c-b3b4-9da34e39eced"
   },
   "outputs": [
    {
     "data": {
      "text/plain": [
       "Text(0, 0.5, 'Training')"
      ]
     },
     "execution_count": 70,
     "metadata": {
      "tags": []
     },
     "output_type": "execute_result"
    },
    {
     "data": {
      "image/png": "[encoded data removed]",
      "text/plain": [
       "<Figure size 1080x360 with 2 Axes>"
      ]
     },
     "metadata": {
      "needs_background": "light",
      "tags": []
     },
     "output_type": "display_data"
    }
   ],
   "source": [
    "fig = plt.figure(figsize=[15,5]) \n",
    "plt.subplot(121)\n",
    "plt.plot(range(num_epochs),train_loss,'r-',label='Loss') \n",
    "plt.legend(loc='upper right')\n",
    "plt.xlabel('Epochs')\n",
    "plt.ylabel('Training')\n",
    "plt.subplot(122)\n",
    "plt.plot(range(num_epochs),train_acc,'g-',label='Accuracy') \n",
    "plt.legend(loc='upper right')\n",
    "plt.xlabel('Epochs')\n",
    "plt.ylabel('Training')"
   ]
  },
  {
   "cell_type": "code",
   "execution_count": null,
   "metadata": {
    "id": "d1gxDbnq4i-C"
   },
   "outputs": [],
   "source": []
  },
  {
   "cell_type": "markdown",
   "metadata": {},
   "source": [
    "#### Answer to Q6.b) From the plot of Accuracy Vs Learning Rates we can clearly see that Accuracy is Maxmimum and Loss is minimum for Learning Rate = 0.05. Therefore Low Learning Rate would be preferable\n",
    "\n",
    "#### Answer to Q6.c) Here we reduce the learning rate after 10 epochs interval. The SGDR plot of Loss vs No. of Epochs shows epoch wise loss decrement i.e training loss is decreasing step-wise(here step-size = 10epochs) which could clearly be observed through the kinks in the curve. That is the model is converging steadily as we keep on decreasing the learning rate with increasing no. of iterations."
   ]
  },
  {
   "cell_type": "code",
   "execution_count": null,
   "metadata": {},
   "outputs": [],
   "source": []
  }
 ],
 "metadata": {
  "colab": {
   "collapsed_sections": [],
   "name": "Training_FullyConnected_Network.ipynb",
   "provenance": []
  },
  "kernelspec": {
   "display_name": "Python 3",
   "language": "python",
   "name": "python3"
  },
  "language_info": {
   "codemirror_mode": {
    "name": "ipython",
    "version": 3
   },
   "file_extension": ".py",
   "mimetype": "text/x-python",
   "name": "python",
   "nbconvert_exporter": "python",
   "pygments_lexer": "ipython3",
   "version": "3.8.5"
  },
  "widgets": {
   "application/vnd.jupyter.widget-state+json": {
    "157bf53dcb8b4e88a2ad446334ad8a7f": {
     "model_module": "@jupyter-widgets/base",
     "model_name": "LayoutModel",
     "state": {
      "_model_module": "@jupyter-widgets/base",
      "_model_module_version": "1.2.0",
      "_model_name": "LayoutModel",
      "_view_count": null,
      "_view_module": "@jupyter-widgets/base",
      "_view_module_version": "1.2.0",
      "_view_name": "LayoutView",
      "align_content": null,
      "align_items": null,
      "align_self": null,
      "border": null,
      "bottom": null,
      "display": null,
      "flex": null,
      "flex_flow": null,
      "grid_area": null,
      "grid_auto_columns": null,
      "grid_auto_flow": null,
      "grid_auto_rows": null,
      "grid_column": null,
      "grid_gap": null,
      "grid_row": null,
      "grid_template_areas": null,
      "grid_template_columns": null,
      "grid_template_rows": null,
      "height": null,
      "justify_content": null,
      "justify_items": null,
      "left": null,
      "margin": null,
      "max_height": null,
      "max_width": null,
      "min_height": null,
      "min_width": null,
      "object_fit": null,
      "object_position": null,
      "order": null,
      "overflow": null,
      "overflow_x": null,
      "overflow_y": null,
      "padding": null,
      "right": null,
      "top": null,
      "visibility": null,
      "width": null
     }
    },
    "16561ee8a5d74862864aaf9ae1674187": {
     "model_module": "@jupyter-widgets/base",
     "model_name": "LayoutModel",
     "state": {
      "_model_module": "@jupyter-widgets/base",
      "_model_module_version": "1.2.0",
      "_model_name": "LayoutModel",
      "_view_count": null,
      "_view_module": "@jupyter-widgets/base",
      "_view_module_version": "1.2.0",
      "_view_name": "LayoutView",
      "align_content": null,
      "align_items": null,
      "align_self": null,
      "border": null,
      "bottom": null,
      "display": null,
      "flex": null,
      "flex_flow": null,
      "grid_area": null,
      "grid_auto_columns": null,
      "grid_auto_flow": null,
      "grid_auto_rows": null,
      "grid_column": null,
      "grid_gap": null,
      "grid_row": null,
      "grid_template_areas": null,
      "grid_template_columns": null,
      "grid_template_rows": null,
      "height": null,
      "justify_content": null,
      "justify_items": null,
      "left": null,
      "margin": null,
      "max_height": null,
      "max_width": null,
      "min_height": null,
      "min_width": null,
      "object_fit": null,
      "object_position": null,
      "order": null,
      "overflow": null,
      "overflow_x": null,
      "overflow_y": null,
      "padding": null,
      "right": null,
      "top": null,
      "visibility": null,
      "width": null
     }
    },
    "1ecb40ff87304f31a9b90c30864ba920": {
     "model_module": "@jupyter-widgets/controls",
     "model_name": "FloatProgressModel",
     "state": {
      "_dom_classes": [],
      "_model_module": "@jupyter-widgets/controls",
      "_model_module_version": "1.5.0",
      "_model_name": "FloatProgressModel",
      "_view_count": null,
      "_view_module": "@jupyter-widgets/controls",
      "_view_module_version": "1.5.0",
      "_view_name": "ProgressView",
      "bar_style": "info",
      "description": "",
      "description_tooltip": null,
      "layout": "IPY_MODEL_905e156eb1c547d6b80ace49f34abd9b",
      "max": 1,
      "min": 0,
      "orientation": "horizontal",
      "style": "IPY_MODEL_28d798effaa5465eb6acc964af162a8d",
      "value": 1
     }
    },
    "289fa75270474649b120a34466740fad": {
     "model_module": "@jupyter-widgets/controls",
     "model_name": "HTMLModel",
     "state": {
      "_dom_classes": [],
      "_model_module": "@jupyter-widgets/controls",
      "_model_module_version": "1.5.0",
      "_model_name": "HTMLModel",
      "_view_count": null,
      "_view_module": "@jupyter-widgets/controls",
      "_view_module_version": "1.5.0",
      "_view_name": "HTMLView",
      "description": "",
      "description_tooltip": null,
      "layout": "IPY_MODEL_b0017de2c2254ff9abb3c1063be766b7",
      "placeholder": "​",
      "style": "IPY_MODEL_fdfe545830f14d6ca4103f88cc8c93ca",
      "value": " 9920512/? [00:19&lt;00:00, 10289058.24it/s]"
     }
    },
    "28d798effaa5465eb6acc964af162a8d": {
     "model_module": "@jupyter-widgets/controls",
     "model_name": "ProgressStyleModel",
     "state": {
      "_model_module": "@jupyter-widgets/controls",
      "_model_module_version": "1.5.0",
      "_model_name": "ProgressStyleModel",
      "_view_count": null,
      "_view_module": "@jupyter-widgets/base",
      "_view_module_version": "1.2.0",
      "_view_name": "StyleView",
      "bar_color": null,
      "description_width": "initial"
     }
    },
    "3cd8f2612e6f40c4927a2dd984c8cb11": {
     "model_module": "@jupyter-widgets/controls",
     "model_name": "HBoxModel",
     "state": {
      "_dom_classes": [],
      "_model_module": "@jupyter-widgets/controls",
      "_model_module_version": "1.5.0",
      "_model_name": "HBoxModel",
      "_view_count": null,
      "_view_module": "@jupyter-widgets/controls",
      "_view_module_version": "1.5.0",
      "_view_name": "HBoxView",
      "box_style": "",
      "children": [
       "IPY_MODEL_1ecb40ff87304f31a9b90c30864ba920",
       "IPY_MODEL_289fa75270474649b120a34466740fad"
      ],
      "layout": "IPY_MODEL_3de81701a0384571ab458c1b11e0ef71"
     }
    },
    "3de81701a0384571ab458c1b11e0ef71": {
     "model_module": "@jupyter-widgets/base",
     "model_name": "LayoutModel",
     "state": {
      "_model_module": "@jupyter-widgets/base",
      "_model_module_version": "1.2.0",
      "_model_name": "LayoutModel",
      "_view_count": null,
      "_view_module": "@jupyter-widgets/base",
      "_view_module_version": "1.2.0",
      "_view_name": "LayoutView",
      "align_content": null,
      "align_items": null,
      "align_self": null,
      "border": null,
      "bottom": null,
      "display": null,
      "flex": null,
      "flex_flow": null,
      "grid_area": null,
      "grid_auto_columns": null,
      "grid_auto_flow": null,
      "grid_auto_rows": null,
      "grid_column": null,
      "grid_gap": null,
      "grid_row": null,
      "grid_template_areas": null,
      "grid_template_columns": null,
      "grid_template_rows": null,
      "height": null,
      "justify_content": null,
      "justify_items": null,
      "left": null,
      "margin": null,
      "max_height": null,
      "max_width": null,
      "min_height": null,
      "min_width": null,
      "object_fit": null,
      "object_position": null,
      "order": null,
      "overflow": null,
      "overflow_x": null,
      "overflow_y": null,
      "padding": null,
      "right": null,
      "top": null,
      "visibility": null,
      "width": null
     }
    },
    "3ee6432aab284a3b909c65c66ee1bb16": {
     "model_module": "@jupyter-widgets/controls",
     "model_name": "DescriptionStyleModel",
     "state": {
      "_model_module": "@jupyter-widgets/controls",
      "_model_module_version": "1.5.0",
      "_model_name": "DescriptionStyleModel",
      "_view_count": null,
      "_view_module": "@jupyter-widgets/base",
      "_view_module_version": "1.2.0",
      "_view_name": "StyleView",
      "description_width": ""
     }
    },
    "4c639a3a66d743af842adcd54d9ed62d": {
     "model_module": "@jupyter-widgets/base",
     "model_name": "LayoutModel",
     "state": {
      "_model_module": "@jupyter-widgets/base",
      "_model_module_version": "1.2.0",
      "_model_name": "LayoutModel",
      "_view_count": null,
      "_view_module": "@jupyter-widgets/base",
      "_view_module_version": "1.2.0",
      "_view_name": "LayoutView",
      "align_content": null,
      "align_items": null,
      "align_self": null,
      "border": null,
      "bottom": null,
      "display": null,
      "flex": null,
      "flex_flow": null,
      "grid_area": null,
      "grid_auto_columns": null,
      "grid_auto_flow": null,
      "grid_auto_rows": null,
      "grid_column": null,
      "grid_gap": null,
      "grid_row": null,
      "grid_template_areas": null,
      "grid_template_columns": null,
      "grid_template_rows": null,
      "height": null,
      "justify_content": null,
      "justify_items": null,
      "left": null,
      "margin": null,
      "max_height": null,
      "max_width": null,
      "min_height": null,
      "min_width": null,
      "object_fit": null,
      "object_position": null,
      "order": null,
      "overflow": null,
      "overflow_x": null,
      "overflow_y": null,
      "padding": null,
      "right": null,
      "top": null,
      "visibility": null,
      "width": null
     }
    },
    "4f5cf238243a4c22808fc4ab0df8dd53": {
     "model_module": "@jupyter-widgets/controls",
     "model_name": "HTMLModel",
     "state": {
      "_dom_classes": [],
      "_model_module": "@jupyter-widgets/controls",
      "_model_module_version": "1.5.0",
      "_model_name": "HTMLModel",
      "_view_count": null,
      "_view_module": "@jupyter-widgets/controls",
      "_view_module_version": "1.5.0",
      "_view_name": "HTMLView",
      "description": "",
      "description_tooltip": null,
      "layout": "IPY_MODEL_85f48cd211da484996ad07d85008270f",
      "placeholder": "​",
      "style": "IPY_MODEL_aa906cf93139480da08974f5804ac980",
      "value": " 8192/? [00:02&lt;00:00, 3238.33it/s]"
     }
    },
    "5f81ef1c372e40f6a99d44bbcbf1933b": {
     "model_module": "@jupyter-widgets/controls",
     "model_name": "HBoxModel",
     "state": {
      "_dom_classes": [],
      "_model_module": "@jupyter-widgets/controls",
      "_model_module_version": "1.5.0",
      "_model_name": "HBoxModel",
      "_view_count": null,
      "_view_module": "@jupyter-widgets/controls",
      "_view_module_version": "1.5.0",
      "_view_name": "HBoxView",
      "box_style": "",
      "children": [
       "IPY_MODEL_781428588aa0462db5a256705afc0554",
       "IPY_MODEL_4f5cf238243a4c22808fc4ab0df8dd53"
      ],
      "layout": "IPY_MODEL_4c639a3a66d743af842adcd54d9ed62d"
     }
    },
    "671602881efe4847ba875fcd8ec87261": {
     "model_module": "@jupyter-widgets/base",
     "model_name": "LayoutModel",
     "state": {
      "_model_module": "@jupyter-widgets/base",
      "_model_module_version": "1.2.0",
      "_model_name": "LayoutModel",
      "_view_count": null,
      "_view_module": "@jupyter-widgets/base",
      "_view_module_version": "1.2.0",
      "_view_name": "LayoutView",
      "align_content": null,
      "align_items": null,
      "align_self": null,
      "border": null,
      "bottom": null,
      "display": null,
      "flex": null,
      "flex_flow": null,
      "grid_area": null,
      "grid_auto_columns": null,
      "grid_auto_flow": null,
      "grid_auto_rows": null,
      "grid_column": null,
      "grid_gap": null,
      "grid_row": null,
      "grid_template_areas": null,
      "grid_template_columns": null,
      "grid_template_rows": null,
      "height": null,
      "justify_content": null,
      "justify_items": null,
      "left": null,
      "margin": null,
      "max_height": null,
      "max_width": null,
      "min_height": null,
      "min_width": null,
      "object_fit": null,
      "object_position": null,
      "order": null,
      "overflow": null,
      "overflow_x": null,
      "overflow_y": null,
      "padding": null,
      "right": null,
      "top": null,
      "visibility": null,
      "width": null
     }
    },
    "6aacb9bab5c44b07a260eee2941ec2eb": {
     "model_module": "@jupyter-widgets/base",
     "model_name": "LayoutModel",
     "state": {
      "_model_module": "@jupyter-widgets/base",
      "_model_module_version": "1.2.0",
      "_model_name": "LayoutModel",
      "_view_count": null,
      "_view_module": "@jupyter-widgets/base",
      "_view_module_version": "1.2.0",
      "_view_name": "LayoutView",
      "align_content": null,
      "align_items": null,
      "align_self": null,
      "border": null,
      "bottom": null,
      "display": null,
      "flex": null,
      "flex_flow": null,
      "grid_area": null,
      "grid_auto_columns": null,
      "grid_auto_flow": null,
      "grid_auto_rows": null,
      "grid_column": null,
      "grid_gap": null,
      "grid_row": null,
      "grid_template_areas": null,
      "grid_template_columns": null,
      "grid_template_rows": null,
      "height": null,
      "justify_content": null,
      "justify_items": null,
      "left": null,
      "margin": null,
      "max_height": null,
      "max_width": null,
      "min_height": null,
      "min_width": null,
      "object_fit": null,
      "object_position": null,
      "order": null,
      "overflow": null,
      "overflow_x": null,
      "overflow_y": null,
      "padding": null,
      "right": null,
      "top": null,
      "visibility": null,
      "width": null
     }
    },
    "745e85fd004243f79fc144fb1bfe0e9e": {
     "model_module": "@jupyter-widgets/controls",
     "model_name": "HBoxModel",
     "state": {
      "_dom_classes": [],
      "_model_module": "@jupyter-widgets/controls",
      "_model_module_version": "1.5.0",
      "_model_name": "HBoxModel",
      "_view_count": null,
      "_view_module": "@jupyter-widgets/controls",
      "_view_module_version": "1.5.0",
      "_view_name": "HBoxView",
      "box_style": "",
      "children": [
       "IPY_MODEL_e121d9663b6946efa4af5675ad099cd3",
       "IPY_MODEL_df88c94849af4f2d9475d95b58942367"
      ],
      "layout": "IPY_MODEL_a82bb78773a541539c017e30abb447be"
     }
    },
    "781428588aa0462db5a256705afc0554": {
     "model_module": "@jupyter-widgets/controls",
     "model_name": "FloatProgressModel",
     "state": {
      "_dom_classes": [],
      "_model_module": "@jupyter-widgets/controls",
      "_model_module_version": "1.5.0",
      "_model_name": "FloatProgressModel",
      "_view_count": null,
      "_view_module": "@jupyter-widgets/controls",
      "_view_module_version": "1.5.0",
      "_view_name": "ProgressView",
      "bar_style": "success",
      "description": "",
      "description_tooltip": null,
      "layout": "IPY_MODEL_bac8d5884cff4d24aa1bbd985861758e",
      "max": 1,
      "min": 0,
      "orientation": "horizontal",
      "style": "IPY_MODEL_fb3c2a0af2bd4d82b17d690172637f34",
      "value": 1
     }
    },
    "845ddf82591b497d927c55c2c6e38348": {
     "model_module": "@jupyter-widgets/controls",
     "model_name": "HBoxModel",
     "state": {
      "_dom_classes": [],
      "_model_module": "@jupyter-widgets/controls",
      "_model_module_version": "1.5.0",
      "_model_name": "HBoxModel",
      "_view_count": null,
      "_view_module": "@jupyter-widgets/controls",
      "_view_module_version": "1.5.0",
      "_view_name": "HBoxView",
      "box_style": "",
      "children": [
       "IPY_MODEL_ffcd70dd8a354c29b5ebde22a0944e17",
       "IPY_MODEL_e14eb9ac2921457f9bd69dfd62cd4de2"
      ],
      "layout": "IPY_MODEL_157bf53dcb8b4e88a2ad446334ad8a7f"
     }
    },
    "85f48cd211da484996ad07d85008270f": {
     "model_module": "@jupyter-widgets/base",
     "model_name": "LayoutModel",
     "state": {
      "_model_module": "@jupyter-widgets/base",
      "_model_module_version": "1.2.0",
      "_model_name": "LayoutModel",
      "_view_count": null,
      "_view_module": "@jupyter-widgets/base",
      "_view_module_version": "1.2.0",
      "_view_name": "LayoutView",
      "align_content": null,
      "align_items": null,
      "align_self": null,
      "border": null,
      "bottom": null,
      "display": null,
      "flex": null,
      "flex_flow": null,
      "grid_area": null,
      "grid_auto_columns": null,
      "grid_auto_flow": null,
      "grid_auto_rows": null,
      "grid_column": null,
      "grid_gap": null,
      "grid_row": null,
      "grid_template_areas": null,
      "grid_template_columns": null,
      "grid_template_rows": null,
      "height": null,
      "justify_content": null,
      "justify_items": null,
      "left": null,
      "margin": null,
      "max_height": null,
      "max_width": null,
      "min_height": null,
      "min_width": null,
      "object_fit": null,
      "object_position": null,
      "order": null,
      "overflow": null,
      "overflow_x": null,
      "overflow_y": null,
      "padding": null,
      "right": null,
      "top": null,
      "visibility": null,
      "width": null
     }
    },
    "8b3a8aa1738e48fc8f3fdff066b10fe6": {
     "model_module": "@jupyter-widgets/controls",
     "model_name": "ProgressStyleModel",
     "state": {
      "_model_module": "@jupyter-widgets/controls",
      "_model_module_version": "1.5.0",
      "_model_name": "ProgressStyleModel",
      "_view_count": null,
      "_view_module": "@jupyter-widgets/base",
      "_view_module_version": "1.2.0",
      "_view_name": "StyleView",
      "bar_color": null,
      "description_width": "initial"
     }
    },
    "905e156eb1c547d6b80ace49f34abd9b": {
     "model_module": "@jupyter-widgets/base",
     "model_name": "LayoutModel",
     "state": {
      "_model_module": "@jupyter-widgets/base",
      "_model_module_version": "1.2.0",
      "_model_name": "LayoutModel",
      "_view_count": null,
      "_view_module": "@jupyter-widgets/base",
      "_view_module_version": "1.2.0",
      "_view_name": "LayoutView",
      "align_content": null,
      "align_items": null,
      "align_self": null,
      "border": null,
      "bottom": null,
      "display": null,
      "flex": null,
      "flex_flow": null,
      "grid_area": null,
      "grid_auto_columns": null,
      "grid_auto_flow": null,
      "grid_auto_rows": null,
      "grid_column": null,
      "grid_gap": null,
      "grid_row": null,
      "grid_template_areas": null,
      "grid_template_columns": null,
      "grid_template_rows": null,
      "height": null,
      "justify_content": null,
      "justify_items": null,
      "left": null,
      "margin": null,
      "max_height": null,
      "max_width": null,
      "min_height": null,
      "min_width": null,
      "object_fit": null,
      "object_position": null,
      "order": null,
      "overflow": null,
      "overflow_x": null,
      "overflow_y": null,
      "padding": null,
      "right": null,
      "top": null,
      "visibility": null,
      "width": null
     }
    },
    "a82bb78773a541539c017e30abb447be": {
     "model_module": "@jupyter-widgets/base",
     "model_name": "LayoutModel",
     "state": {
      "_model_module": "@jupyter-widgets/base",
      "_model_module_version": "1.2.0",
      "_model_name": "LayoutModel",
      "_view_count": null,
      "_view_module": "@jupyter-widgets/base",
      "_view_module_version": "1.2.0",
      "_view_name": "LayoutView",
      "align_content": null,
      "align_items": null,
      "align_self": null,
      "border": null,
      "bottom": null,
      "display": null,
      "flex": null,
      "flex_flow": null,
      "grid_area": null,
      "grid_auto_columns": null,
      "grid_auto_flow": null,
      "grid_auto_rows": null,
      "grid_column": null,
      "grid_gap": null,
      "grid_row": null,
      "grid_template_areas": null,
      "grid_template_columns": null,
      "grid_template_rows": null,
      "height": null,
      "justify_content": null,
      "justify_items": null,
      "left": null,
      "margin": null,
      "max_height": null,
      "max_width": null,
      "min_height": null,
      "min_width": null,
      "object_fit": null,
      "object_position": null,
      "order": null,
      "overflow": null,
      "overflow_x": null,
      "overflow_y": null,
      "padding": null,
      "right": null,
      "top": null,
      "visibility": null,
      "width": null
     }
    },
    "a87fe9a4cf9a4a90987e2769c861c593": {
     "model_module": "@jupyter-widgets/controls",
     "model_name": "ProgressStyleModel",
     "state": {
      "_model_module": "@jupyter-widgets/controls",
      "_model_module_version": "1.5.0",
      "_model_name": "ProgressStyleModel",
      "_view_count": null,
      "_view_module": "@jupyter-widgets/base",
      "_view_module_version": "1.2.0",
      "_view_name": "StyleView",
      "bar_color": null,
      "description_width": "initial"
     }
    },
    "aa906cf93139480da08974f5804ac980": {
     "model_module": "@jupyter-widgets/controls",
     "model_name": "DescriptionStyleModel",
     "state": {
      "_model_module": "@jupyter-widgets/controls",
      "_model_module_version": "1.5.0",
      "_model_name": "DescriptionStyleModel",
      "_view_count": null,
      "_view_module": "@jupyter-widgets/base",
      "_view_module_version": "1.2.0",
      "_view_name": "StyleView",
      "description_width": ""
     }
    },
    "af2c57d9405d41bf83462e7f8f498a56": {
     "model_module": "@jupyter-widgets/controls",
     "model_name": "DescriptionStyleModel",
     "state": {
      "_model_module": "@jupyter-widgets/controls",
      "_model_module_version": "1.5.0",
      "_model_name": "DescriptionStyleModel",
      "_view_count": null,
      "_view_module": "@jupyter-widgets/base",
      "_view_module_version": "1.2.0",
      "_view_name": "StyleView",
      "description_width": ""
     }
    },
    "b0017de2c2254ff9abb3c1063be766b7": {
     "model_module": "@jupyter-widgets/base",
     "model_name": "LayoutModel",
     "state": {
      "_model_module": "@jupyter-widgets/base",
      "_model_module_version": "1.2.0",
      "_model_name": "LayoutModel",
      "_view_count": null,
      "_view_module": "@jupyter-widgets/base",
      "_view_module_version": "1.2.0",
      "_view_name": "LayoutView",
      "align_content": null,
      "align_items": null,
      "align_self": null,
      "border": null,
      "bottom": null,
      "display": null,
      "flex": null,
      "flex_flow": null,
      "grid_area": null,
      "grid_auto_columns": null,
      "grid_auto_flow": null,
      "grid_auto_rows": null,
      "grid_column": null,
      "grid_gap": null,
      "grid_row": null,
      "grid_template_areas": null,
      "grid_template_columns": null,
      "grid_template_rows": null,
      "height": null,
      "justify_content": null,
      "justify_items": null,
      "left": null,
      "margin": null,
      "max_height": null,
      "max_width": null,
      "min_height": null,
      "min_width": null,
      "object_fit": null,
      "object_position": null,
      "order": null,
      "overflow": null,
      "overflow_x": null,
      "overflow_y": null,
      "padding": null,
      "right": null,
      "top": null,
      "visibility": null,
      "width": null
     }
    },
    "b5b9813d87904d70b2541b0a923b30c8": {
     "model_module": "@jupyter-widgets/base",
     "model_name": "LayoutModel",
     "state": {
      "_model_module": "@jupyter-widgets/base",
      "_model_module_version": "1.2.0",
      "_model_name": "LayoutModel",
      "_view_count": null,
      "_view_module": "@jupyter-widgets/base",
      "_view_module_version": "1.2.0",
      "_view_name": "LayoutView",
      "align_content": null,
      "align_items": null,
      "align_self": null,
      "border": null,
      "bottom": null,
      "display": null,
      "flex": null,
      "flex_flow": null,
      "grid_area": null,
      "grid_auto_columns": null,
      "grid_auto_flow": null,
      "grid_auto_rows": null,
      "grid_column": null,
      "grid_gap": null,
      "grid_row": null,
      "grid_template_areas": null,
      "grid_template_columns": null,
      "grid_template_rows": null,
      "height": null,
      "justify_content": null,
      "justify_items": null,
      "left": null,
      "margin": null,
      "max_height": null,
      "max_width": null,
      "min_height": null,
      "min_width": null,
      "object_fit": null,
      "object_position": null,
      "order": null,
      "overflow": null,
      "overflow_x": null,
      "overflow_y": null,
      "padding": null,
      "right": null,
      "top": null,
      "visibility": null,
      "width": null
     }
    },
    "bac8d5884cff4d24aa1bbd985861758e": {
     "model_module": "@jupyter-widgets/base",
     "model_name": "LayoutModel",
     "state": {
      "_model_module": "@jupyter-widgets/base",
      "_model_module_version": "1.2.0",
      "_model_name": "LayoutModel",
      "_view_count": null,
      "_view_module": "@jupyter-widgets/base",
      "_view_module_version": "1.2.0",
      "_view_name": "LayoutView",
      "align_content": null,
      "align_items": null,
      "align_self": null,
      "border": null,
      "bottom": null,
      "display": null,
      "flex": null,
      "flex_flow": null,
      "grid_area": null,
      "grid_auto_columns": null,
      "grid_auto_flow": null,
      "grid_auto_rows": null,
      "grid_column": null,
      "grid_gap": null,
      "grid_row": null,
      "grid_template_areas": null,
      "grid_template_columns": null,
      "grid_template_rows": null,
      "height": null,
      "justify_content": null,
      "justify_items": null,
      "left": null,
      "margin": null,
      "max_height": null,
      "max_width": null,
      "min_height": null,
      "min_width": null,
      "object_fit": null,
      "object_position": null,
      "order": null,
      "overflow": null,
      "overflow_x": null,
      "overflow_y": null,
      "padding": null,
      "right": null,
      "top": null,
      "visibility": null,
      "width": null
     }
    },
    "df88c94849af4f2d9475d95b58942367": {
     "model_module": "@jupyter-widgets/controls",
     "model_name": "HTMLModel",
     "state": {
      "_dom_classes": [],
      "_model_module": "@jupyter-widgets/controls",
      "_model_module_version": "1.5.0",
      "_model_name": "HTMLModel",
      "_view_count": null,
      "_view_module": "@jupyter-widgets/controls",
      "_view_module_version": "1.5.0",
      "_view_name": "HTMLView",
      "description": "",
      "description_tooltip": null,
      "layout": "IPY_MODEL_b5b9813d87904d70b2541b0a923b30c8",
      "placeholder": "​",
      "style": "IPY_MODEL_3ee6432aab284a3b909c65c66ee1bb16",
      "value": " 1654784/? [00:02&lt;00:00, 583143.39it/s]"
     }
    },
    "e121d9663b6946efa4af5675ad099cd3": {
     "model_module": "@jupyter-widgets/controls",
     "model_name": "FloatProgressModel",
     "state": {
      "_dom_classes": [],
      "_model_module": "@jupyter-widgets/controls",
      "_model_module_version": "1.5.0",
      "_model_name": "FloatProgressModel",
      "_view_count": null,
      "_view_module": "@jupyter-widgets/controls",
      "_view_module_version": "1.5.0",
      "_view_name": "ProgressView",
      "bar_style": "success",
      "description": "",
      "description_tooltip": null,
      "layout": "IPY_MODEL_671602881efe4847ba875fcd8ec87261",
      "max": 1,
      "min": 0,
      "orientation": "horizontal",
      "style": "IPY_MODEL_a87fe9a4cf9a4a90987e2769c861c593",
      "value": 1
     }
    },
    "e14eb9ac2921457f9bd69dfd62cd4de2": {
     "model_module": "@jupyter-widgets/controls",
     "model_name": "HTMLModel",
     "state": {
      "_dom_classes": [],
      "_model_module": "@jupyter-widgets/controls",
      "_model_module_version": "1.5.0",
      "_model_name": "HTMLModel",
      "_view_count": null,
      "_view_module": "@jupyter-widgets/controls",
      "_view_module_version": "1.5.0",
      "_view_name": "HTMLView",
      "description": "",
      "description_tooltip": null,
      "layout": "IPY_MODEL_16561ee8a5d74862864aaf9ae1674187",
      "placeholder": "​",
      "style": "IPY_MODEL_af2c57d9405d41bf83462e7f8f498a56",
      "value": " 0/28881 [00:00&lt;?, ?it/s]"
     }
    },
    "fb3c2a0af2bd4d82b17d690172637f34": {
     "model_module": "@jupyter-widgets/controls",
     "model_name": "ProgressStyleModel",
     "state": {
      "_model_module": "@jupyter-widgets/controls",
      "_model_module_version": "1.5.0",
      "_model_name": "ProgressStyleModel",
      "_view_count": null,
      "_view_module": "@jupyter-widgets/base",
      "_view_module_version": "1.2.0",
      "_view_name": "StyleView",
      "bar_color": null,
      "description_width": "initial"
     }
    },
    "fdfe545830f14d6ca4103f88cc8c93ca": {
     "model_module": "@jupyter-widgets/controls",
     "model_name": "DescriptionStyleModel",
     "state": {
      "_model_module": "@jupyter-widgets/controls",
      "_model_module_version": "1.5.0",
      "_model_name": "DescriptionStyleModel",
      "_view_count": null,
      "_view_module": "@jupyter-widgets/base",
      "_view_module_version": "1.2.0",
      "_view_name": "StyleView",
      "description_width": ""
     }
    },
    "ffcd70dd8a354c29b5ebde22a0944e17": {
     "model_module": "@jupyter-widgets/controls",
     "model_name": "FloatProgressModel",
     "state": {
      "_dom_classes": [],
      "_model_module": "@jupyter-widgets/controls",
      "_model_module_version": "1.5.0",
      "_model_name": "FloatProgressModel",
      "_view_count": null,
      "_view_module": "@jupyter-widgets/controls",
      "_view_module_version": "1.5.0",
      "_view_name": "ProgressView",
      "bar_style": "info",
      "description": "  0%",
      "description_tooltip": null,
      "layout": "IPY_MODEL_6aacb9bab5c44b07a260eee2941ec2eb",
      "max": 1,
      "min": 0,
      "orientation": "horizontal",
      "style": "IPY_MODEL_8b3a8aa1738e48fc8f3fdff066b10fe6",
      "value": 0
     }
    }
   }
  }
 },
 "nbformat": 4,
 "nbformat_minor": 1
}
