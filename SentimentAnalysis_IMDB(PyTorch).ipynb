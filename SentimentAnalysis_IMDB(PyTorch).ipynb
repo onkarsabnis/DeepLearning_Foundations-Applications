{
 "cells": [
  {
   "cell_type": "markdown",
   "metadata": {
    "id": "x5veYOHNmwmm"
   },
   "source": [
    "### **DLFA Assignment-2 (RNN)**\n",
    "### **Name : Onkar Sabnis (18CH30018)**\n",
    "\n",
    "#### *This notebook contains the Sentiment Analysis on the provided IMDB dataset and is been divided into multiple subsections*"
   ]
  },
  {
   "cell_type": "code",
   "execution_count": 3,
   "metadata": {
    "id": "p5dGDzlTXYe7"
   },
   "outputs": [],
   "source": [
    "### Importing the necessary Libraries\n",
    "\n",
    "\n",
    "import numpy as np\n",
    "import pandas as pd\n",
    "import matplotlib.pyplot as plt\n",
    "%matplotlib inline\n",
    "import seaborn as sns\n",
    "import torch\n",
    "import nltk\n",
    "import spacy\n",
    "from nltk import word_tokenize,sent_tokenize\n",
    "from nltk.corpus import stopwords\n",
    "import re\n",
    "from nltk.tokenize import RegexpTokenizer\n",
    "from nltk.stem import WordNetLemmatizer, PorterStemmer\n",
    "from string import punctuation\n",
    "#!pip install texthero\n",
    "import texthero as hero\n",
    "import collections"
   ]
  },
  {
   "cell_type": "code",
   "execution_count": 4,
   "metadata": {
    "colab": {
     "base_uri": "https://localhost:8080/"
    },
    "id": "TQr2MnDGgfj2",
    "outputId": "6e098d4e-6631-4352-ffcf-d844ba48df65"
   },
   "outputs": [
    {
     "name": "stderr",
     "output_type": "stream",
     "text": [
      "[nltk_data] Downloading package stopwords to /root/nltk_data...\n",
      "[nltk_data]   Package stopwords is already up-to-date!\n",
      "[nltk_data] Downloading package wordnet to /root/nltk_data...\n",
      "[nltk_data]   Package wordnet is already up-to-date!\n",
      "[nltk_data] Downloading package punkt to /root/nltk_data...\n",
      "[nltk_data]   Package punkt is already up-to-date!\n"
     ]
    }
   ],
   "source": [
    "nltk.download('stopwords')\n",
    "nltk.download('wordnet')\n",
    "nltk.download('punkt')\n",
    "wordlemmatizer = WordNetLemmatizer()\n",
    "stemmer = PorterStemmer() "
   ]
  },
  {
   "cell_type": "markdown",
   "metadata": {
    "id": "3Jnhh49-cfzC"
   },
   "source": [
    "### **Loading Data, Basic Processing, Analyzing the Sentiment and Visualization**"
   ]
  },
  {
   "cell_type": "code",
   "execution_count": 5,
   "metadata": {
    "colab": {
     "base_uri": "https://localhost:8080/"
    },
    "id": "70E04Hl0XzI1",
    "outputId": "a37635f5-4779-45f0-8738-f27c84237796"
   },
   "outputs": [
    {
     "name": "stdout",
     "output_type": "stream",
     "text": [
      "Drive already mounted at /content/gdrive; to attempt to forcibly remount, call drive.mount(\"/content/gdrive\", force_remount=True).\n"
     ]
    }
   ],
   "source": [
    "from google.colab import drive\n",
    "drive.mount('/content/gdrive')"
   ]
  },
  {
   "cell_type": "code",
   "execution_count": 6,
   "metadata": {
    "id": "dV3AHjSWYaGi"
   },
   "outputs": [],
   "source": [
    "df = pd.read_csv('./gdrive/My Drive/data/IMDB Dataset.csv')   ### Reading the provided IMDB data"
   ]
  },
  {
   "cell_type": "code",
   "execution_count": 7,
   "metadata": {
    "colab": {
     "base_uri": "https://localhost:8080/",
     "height": 402
    },
    "id": "taw-Tb8LYxOB",
    "outputId": "767db1d7-5dcc-4b81-cd41-083bead475ee"
   },
   "outputs": [
    {
     "data": {
      "text/html": [
       "<div>\n",
       "<style scoped>\n",
       "    .dataframe tbody tr th:only-of-type {\n",
       "        vertical-align: middle;\n",
       "    }\n",
       "\n",
       "    .dataframe tbody tr th {\n",
       "        vertical-align: top;\n",
       "    }\n",
       "\n",
       "    .dataframe thead th {\n",
       "        text-align: right;\n",
       "    }\n",
       "</style>\n",
       "<table border=\"1\" class=\"dataframe\">\n",
       "  <thead>\n",
       "    <tr style=\"text-align: right;\">\n",
       "      <th></th>\n",
       "      <th>review</th>\n",
       "      <th>sentiment</th>\n",
       "    </tr>\n",
       "  </thead>\n",
       "  <tbody>\n",
       "    <tr>\n",
       "      <th>0</th>\n",
       "      <td>One of the other reviewers has mentioned that ...</td>\n",
       "      <td>positive</td>\n",
       "    </tr>\n",
       "    <tr>\n",
       "      <th>1</th>\n",
       "      <td>A wonderful little production. &lt;br /&gt;&lt;br /&gt;The...</td>\n",
       "      <td>positive</td>\n",
       "    </tr>\n",
       "    <tr>\n",
       "      <th>2</th>\n",
       "      <td>I thought this was a wonderful way to spend ti...</td>\n",
       "      <td>positive</td>\n",
       "    </tr>\n",
       "    <tr>\n",
       "      <th>3</th>\n",
       "      <td>Basically there's a family where a little boy ...</td>\n",
       "      <td>negative</td>\n",
       "    </tr>\n",
       "    <tr>\n",
       "      <th>4</th>\n",
       "      <td>Petter Mattei's \"Love in the Time of Money\" is...</td>\n",
       "      <td>positive</td>\n",
       "    </tr>\n",
       "    <tr>\n",
       "      <th>...</th>\n",
       "      <td>...</td>\n",
       "      <td>...</td>\n",
       "    </tr>\n",
       "    <tr>\n",
       "      <th>49995</th>\n",
       "      <td>I thought this movie did a down right good job...</td>\n",
       "      <td>positive</td>\n",
       "    </tr>\n",
       "    <tr>\n",
       "      <th>49996</th>\n",
       "      <td>Bad plot, bad dialogue, bad acting, idiotic di...</td>\n",
       "      <td>negative</td>\n",
       "    </tr>\n",
       "    <tr>\n",
       "      <th>49997</th>\n",
       "      <td>I am a Catholic taught in parochial elementary...</td>\n",
       "      <td>negative</td>\n",
       "    </tr>\n",
       "    <tr>\n",
       "      <th>49998</th>\n",
       "      <td>I'm going to have to disagree with the previou...</td>\n",
       "      <td>negative</td>\n",
       "    </tr>\n",
       "    <tr>\n",
       "      <th>49999</th>\n",
       "      <td>No one expects the Star Trek movies to be high...</td>\n",
       "      <td>negative</td>\n",
       "    </tr>\n",
       "  </tbody>\n",
       "</table>\n",
       "<p>50000 rows × 2 columns</p>\n",
       "</div>"
      ],
      "text/plain": [
       "                                                  review sentiment\n",
       "0      One of the other reviewers has mentioned that ...  positive\n",
       "1      A wonderful little production. <br /><br />The...  positive\n",
       "2      I thought this was a wonderful way to spend ti...  positive\n",
       "3      Basically there's a family where a little boy ...  negative\n",
       "4      Petter Mattei's \"Love in the Time of Money\" is...  positive\n",
       "...                                                  ...       ...\n",
       "49995  I thought this movie did a down right good job...  positive\n",
       "49996  Bad plot, bad dialogue, bad acting, idiotic di...  negative\n",
       "49997  I am a Catholic taught in parochial elementary...  negative\n",
       "49998  I'm going to have to disagree with the previou...  negative\n",
       "49999  No one expects the Star Trek movies to be high...  negative\n",
       "\n",
       "[50000 rows x 2 columns]"
      ]
     },
     "execution_count": 7,
     "metadata": {
      "tags": []
     },
     "output_type": "execute_result"
    }
   ],
   "source": [
    "df"
   ]
  },
  {
   "cell_type": "code",
   "execution_count": 8,
   "metadata": {
    "colab": {
     "base_uri": "https://localhost:8080/",
     "height": 166
    },
    "id": "XF3GMt4xZ7_F",
    "outputId": "8820b1d6-52c7-49bf-c2d4-2ffb04409e50"
   },
   "outputs": [
    {
     "data": {
      "text/html": [
       "<div>\n",
       "<style scoped>\n",
       "    .dataframe tbody tr th:only-of-type {\n",
       "        vertical-align: middle;\n",
       "    }\n",
       "\n",
       "    .dataframe tbody tr th {\n",
       "        vertical-align: top;\n",
       "    }\n",
       "\n",
       "    .dataframe thead th {\n",
       "        text-align: right;\n",
       "    }\n",
       "</style>\n",
       "<table border=\"1\" class=\"dataframe\">\n",
       "  <thead>\n",
       "    <tr style=\"text-align: right;\">\n",
       "      <th></th>\n",
       "      <th>review</th>\n",
       "      <th>sentiment</th>\n",
       "    </tr>\n",
       "  </thead>\n",
       "  <tbody>\n",
       "    <tr>\n",
       "      <th>count</th>\n",
       "      <td>50000</td>\n",
       "      <td>50000</td>\n",
       "    </tr>\n",
       "    <tr>\n",
       "      <th>unique</th>\n",
       "      <td>49582</td>\n",
       "      <td>2</td>\n",
       "    </tr>\n",
       "    <tr>\n",
       "      <th>top</th>\n",
       "      <td>Loved today's show!!! It was a variety and not...</td>\n",
       "      <td>negative</td>\n",
       "    </tr>\n",
       "    <tr>\n",
       "      <th>freq</th>\n",
       "      <td>5</td>\n",
       "      <td>25000</td>\n",
       "    </tr>\n",
       "  </tbody>\n",
       "</table>\n",
       "</div>"
      ],
      "text/plain": [
       "                                                   review sentiment\n",
       "count                                               50000     50000\n",
       "unique                                              49582         2\n",
       "top     Loved today's show!!! It was a variety and not...  negative\n",
       "freq                                                    5     25000"
      ]
     },
     "execution_count": 8,
     "metadata": {
      "tags": []
     },
     "output_type": "execute_result"
    }
   ],
   "source": [
    "df.describe()\n",
    "### General statistical description of dataset"
   ]
  },
  {
   "cell_type": "code",
   "execution_count": 9,
   "metadata": {
    "colab": {
     "base_uri": "https://localhost:8080/"
    },
    "id": "69Bj_MWnaAKe",
    "outputId": "8c13a298-6afe-402d-d954-ac9ce7f24d80"
   },
   "outputs": [
    {
     "data": {
      "text/plain": [
       "review       0\n",
       "sentiment    0\n",
       "dtype: int64"
      ]
     },
     "execution_count": 9,
     "metadata": {
      "tags": []
     },
     "output_type": "execute_result"
    }
   ],
   "source": [
    "\n",
    "df.isnull().sum() \n",
    "### No null values"
   ]
  },
  {
   "cell_type": "code",
   "execution_count": 10,
   "metadata": {
    "colab": {
     "base_uri": "https://localhost:8080/",
     "height": 282
    },
    "id": "gjMhvyKQaDVj",
    "outputId": "86b2e0b6-b24a-4bfb-b7d6-406a46ed8bee"
   },
   "outputs": [
    {
     "data": {
      "text/plain": [
       "<matplotlib.axes._subplots.AxesSubplot at 0x7f9f3748c1d0>"
      ]
     },
     "execution_count": 10,
     "metadata": {
      "tags": []
     },
     "output_type": "execute_result"
    },
    {
     "data": {
      "image/png": "[encoded data removed]",
      "text/plain": [
       "<Figure size 432x288 with 1 Axes>"
      ]
     },
     "metadata": {
      "needs_background": "light",
      "tags": []
     },
     "output_type": "display_data"
    }
   ],
   "source": [
    "\n",
    "(df['sentiment'].value_counts()).plot.barh()\n",
    "### Equal no. of positive and Negative sentiment. No imbalance in dataset"
   ]
  },
  {
   "cell_type": "code",
   "execution_count": 11,
   "metadata": {
    "colab": {
     "base_uri": "https://localhost:8080/"
    },
    "id": "aQl0A4UnaQ_b",
    "outputId": "f698de1a-4992-4a88-fb9c-9c83b2b3855a"
   },
   "outputs": [
    {
     "data": {
      "text/plain": [
       "418"
      ]
     },
     "execution_count": 11,
     "metadata": {
      "tags": []
     },
     "output_type": "execute_result"
    }
   ],
   "source": [
    "df['review'].duplicated().sum()           ### 418 duplicated entries in dataset"
   ]
  },
  {
   "cell_type": "code",
   "execution_count": 12,
   "metadata": {
    "id": "TE_lJgAjbG0y"
   },
   "outputs": [],
   "source": [
    "df_duplicate_entries = df[df['review'].duplicated(keep='first') == True]"
   ]
  },
  {
   "cell_type": "code",
   "execution_count": 13,
   "metadata": {
    "colab": {
     "base_uri": "https://localhost:8080/",
     "height": 282
    },
    "id": "H4tYi06hb7wt",
    "outputId": "40e5f0a8-93ea-484a-f7bb-209a245b2ad9"
   },
   "outputs": [
    {
     "data": {
      "text/plain": [
       "<matplotlib.axes._subplots.AxesSubplot at 0x7f9f373e06d0>"
      ]
     },
     "execution_count": 13,
     "metadata": {
      "tags": []
     },
     "output_type": "execute_result"
    },
    {
     "data": {
      "image/png": "[encoded data removed]",
      "text/plain": [
       "<Figure size 432x288 with 1 Axes>"
      ]
     },
     "metadata": {
      "needs_background": "light",
      "tags": []
     },
     "output_type": "display_data"
    }
   ],
   "source": [
    "df_duplicate_entries['sentiment'].value_counts().plot.barh()\n",
    "#### There are more duplicate entries for negative sentiment than positive sentiment"
   ]
  },
  {
   "cell_type": "code",
   "execution_count": 14,
   "metadata": {
    "id": "uqVKnxVtcXVD"
   },
   "outputs": [],
   "source": [
    "df_modified = df.drop_duplicates(subset=['review'])\n",
    "df_modified.reset_index(inplace = True)\n",
    "### df_modified is dataset obtained after removal of duplicate entries"
   ]
  },
  {
   "cell_type": "code",
   "execution_count": 15,
   "metadata": {
    "colab": {
     "base_uri": "https://localhost:8080/",
     "height": 282
    },
    "id": "YlSSKOgOcuVQ",
    "outputId": "10400d93-0afd-462c-c3d5-6138c093a4c8"
   },
   "outputs": [
    {
     "data": {
      "text/plain": [
       "<matplotlib.axes._subplots.AxesSubplot at 0x7f9f36f0e290>"
      ]
     },
     "execution_count": 15,
     "metadata": {
      "tags": []
     },
     "output_type": "execute_result"
    },
    {
     "data": {
      "image/png": "[encoded data removed]",
      "text/plain": [
       "<Figure size 432x288 with 1 Axes>"
      ]
     },
     "metadata": {
      "needs_background": "light",
      "tags": []
     },
     "output_type": "display_data"
    }
   ],
   "source": [
    "df_modified['sentiment'].value_counts().plot.barh()\n",
    "#### Negative sentiment entries are slightly less than positive sentiment entries but we can proceed with this as the difference\n",
    "### is not that big to make the dataset imbalanced"
   ]
  },
  {
   "cell_type": "markdown",
   "metadata": {
    "id": "n7B5y0hTeAyI"
   },
   "source": [
    "### **Data_PreProcessing (Processing the Reviews)**"
   ]
  },
  {
   "cell_type": "code",
   "execution_count": 16,
   "metadata": {
    "id": "uAjDn_l8eH4-"
   },
   "outputs": [],
   "source": [
    "### Preprocessing Functions\n",
    "\n",
    "\n",
    "def lemmatize_words(words):       ###Lemmatizing\n",
    "    lemmatized_words = []\n",
    "    for word in words:\n",
    "        lemmatized_words.append(wordlemmatizer.lemmatize(word))\n",
    "    return lemmatized_words\n",
    "\n",
    "\n",
    "\n",
    "def stem_words(words):          ####Stemming\n",
    "    stemmed_words = []\n",
    "    for word in words:\n",
    "        stemmed_words.append(stemmer.stem(word))\n",
    "    return stemmed_words\n",
    "\n"
   ]
  },
  {
   "cell_type": "code",
   "execution_count": 17,
   "metadata": {
    "id": "iOJnGa93eH7K"
   },
   "outputs": [],
   "source": [
    "def remove_special_characters(text):          ####Special char removal\n",
    "    regex = r'[^a-zA-Z0-9\\s ]+'\n",
    "    text = re.sub(regex,'',text)\n",
    "    return text\n",
    "\n",
    "\n",
    "def lower(text):\n",
    "    return text.lower()\n",
    "\n",
    "\n",
    "### Calculating the frequency of each word in the document\n",
    "def freq(words):\n",
    "    words = [word.lower() for word in words]\n",
    "    dict_freq = {}\n",
    "    words_unique = []\n",
    "    for word in words:\n",
    "        if word not in words_unique:\n",
    "            words_unique.append(word)\n",
    "    for word in words_unique:\n",
    "        dict_freq[word] = words.count(word)\n",
    "    return dict_freq\n",
    "\n",
    "stop_words = set(stopwords.words('english'))  \n",
    "\n",
    "\n",
    "def remove_stopwords(text):\n",
    "    word_tokens = word_tokenize(text)  \n",
    "    filtered_sentence = [w for w in word_tokens if not w in stop_words]  \n",
    "    return ' '.join(filtered_sentence)"
   ]
  },
  {
   "cell_type": "code",
   "execution_count": 18,
   "metadata": {
    "colab": {
     "base_uri": "https://localhost:8080/"
    },
    "id": "KngkAsuSSw6F",
    "outputId": "dafcc712-b045-42be-dea1-19942c7d26b8"
   },
   "outputs": [
    {
     "name": "stderr",
     "output_type": "stream",
     "text": [
      "/usr/local/lib/python3.7/dist-packages/ipykernel_launcher.py:1: SettingWithCopyWarning:\n",
      "\n",
      "\n",
      "A value is trying to be set on a copy of a slice from a DataFrame.\n",
      "Try using .loc[row_indexer,col_indexer] = value instead\n",
      "\n",
      "See the caveats in the documentation: https://pandas.pydata.org/pandas-docs/stable/user_guide/indexing.html#returning-a-view-versus-a-copy\n",
      "\n"
     ]
    }
   ],
   "source": [
    "df_modified['review(HTML_tags_removed)'] = hero.remove_html_tags((df_modified['review']))\n",
    "### Reviews contained some HTML tags which are removed using above code"
   ]
  },
  {
   "cell_type": "code",
   "execution_count": 19,
   "metadata": {
    "id": "YGxHeTolhEmr"
   },
   "outputs": [],
   "source": [
    "#### Removes all the special characters from the reviews and lowers the text\n",
    "### Also removes the stopwords from the review (stopwords used are standard english stopwords)\n",
    "\n",
    "arr = [[] for i in range(len(df_modified))]\n",
    "m = 0\n",
    "for i in range(len(df_modified['review(HTML_tags_removed)'])):\n",
    "    a = sent_tokenize(df_modified['review(HTML_tags_removed)'][i])\n",
    "    for j in a:  \n",
    "    arr[m].append(remove_stopwords( remove_special_characters(lower(j))))\n",
    "    m = m + 1"
   ]
  },
  {
   "cell_type": "code",
   "execution_count": 20,
   "metadata": {
    "id": "ZfGAqeDCKByl"
   },
   "outputs": [],
   "source": [
    "brr = []\n",
    "for i in range(len(arr)):\n",
    "    brr.append('.'.join(arr[i]))"
   ]
  },
  {
   "cell_type": "code",
   "execution_count": 21,
   "metadata": {
    "colab": {
     "base_uri": "https://localhost:8080/"
    },
    "id": "jIxJXZxQZRC6",
    "outputId": "26746064-b48f-48c3-931f-46fc840303e1"
   },
   "outputs": [
    {
     "name": "stderr",
     "output_type": "stream",
     "text": [
      "/usr/local/lib/python3.7/dist-packages/ipykernel_launcher.py:1: SettingWithCopyWarning:\n",
      "\n",
      "\n",
      "A value is trying to be set on a copy of a slice from a DataFrame.\n",
      "Try using .loc[row_indexer,col_indexer] = value instead\n",
      "\n",
      "See the caveats in the documentation: https://pandas.pydata.org/pandas-docs/stable/user_guide/indexing.html#returning-a-view-versus-a-copy\n",
      "\n"
     ]
    }
   ],
   "source": [
    "df_modified['Preprocessed_Reviews'] = brr  ### This gives a preprocessed column in our dataframe"
   ]
  },
  {
   "cell_type": "markdown",
   "metadata": {
    "id": "OnuwdlQFmEip"
   },
   "source": [
    "### **Creating a word2id Dictionary**"
   ]
  },
  {
   "cell_type": "code",
   "execution_count": 35,
   "metadata": {
    "id": "bRJKKFPpxY06"
   },
   "outputs": [],
   "source": [
    "string_list = list(df_modified['Preprocessed_Reviews'])\n",
    "string = ''\n",
    "for item in string_list:\n",
    "    string = string + '.' + item"
   ]
  },
  {
   "cell_type": "code",
   "execution_count": 36,
   "metadata": {
    "id": "0jj5VEsHl2_j"
   },
   "outputs": [],
   "source": [
    "#### Function to generate a bag of words\n",
    "# create a list of words\n",
    "words = string.split()\n",
    "# Count all the words using Counter Method\n",
    "count_words = collections.Counter(words)\n",
    "\n",
    "total_words = len(words)\n",
    "sorted_words = count_words.most_common(total_words)"
   ]
  },
  {
   "cell_type": "code",
   "execution_count": 37,
   "metadata": {
    "id": "V_7pQ_kLol6y"
   },
   "outputs": [],
   "source": [
    "## vocab to int mapping dictionary\n",
    "vocab_to_int = {w:i+1 for i, (w,c) in enumerate(sorted_words)}"
   ]
  },
  {
   "cell_type": "code",
   "execution_count": 38,
   "metadata": {
    "id": "J-vOEsZPIDum"
   },
   "outputs": [],
   "source": [
    "total_words_in_review = []\n",
    "for i in range(len(sorted_words)):\n",
    "    total_words_in_review.append(sorted_words[i][0])"
   ]
  },
  {
   "cell_type": "code",
   "execution_count": 40,
   "metadata": {
    "id": "pCpZNETA5Nco"
   },
   "outputs": [],
   "source": [
    "top_words_review = total_words_in_review[:20000]   #### Selecing Only top 20000 words"
   ]
  },
  {
   "cell_type": "code",
   "execution_count": 44,
   "metadata": {
    "colab": {
     "base_uri": "https://localhost:8080/"
    },
    "id": "cUdSr9XFm2Kb",
    "outputId": "0973a7b9-ad7d-4986-b208-013b5cc5f64d"
   },
   "outputs": [
    {
     "name": "stdout",
     "output_type": "stream",
     "text": [
      "time: 2.06 ms (started: 2021-03-21 13:09:26 +00:00)\n"
     ]
    }
   ],
   "source": [
    "arr_of_split = np.linspace(0,49582,27)"
   ]
  },
  {
   "cell_type": "markdown",
   "metadata": {
    "id": "GaA2Z3A4k94G"
   },
   "source": [
    "### **Tokenization(i.e Encoding words in our reviews by integers)**"
   ]
  },
  {
   "cell_type": "code",
   "execution_count": 49,
   "metadata": {
    "colab": {
     "base_uri": "https://localhost:8080/"
    },
    "id": "7ASrqKWTFu14",
    "outputId": "6118b00b-194d-42b5-cde9-490b87ce2abc"
   },
   "outputs": [
    {
     "name": "stdout",
     "output_type": "stream",
     "text": [
      "time: 13min 42s (started: 2021-03-21 13:12:45 +00:00)\n"
     ]
    }
   ],
   "source": [
    "### Encoding of reviews (replace words in our reviews by integers)\n",
    "\n",
    "arre1 = []\n",
    "#arre2 = []\n",
    "d = 2\n",
    "while(d<27):\n",
    "    arre1 = []\n",
    "    for review in list(df_modified['Preprocessed_Reviews'][int(arr_of_split[d-1]):int(arr_of_split[d])]):\n",
    "    for w in review.split():\n",
    "        if str(w) in top_words_review:\n",
    "            arre1.append(vocab_to_int[w])\n",
    "    arre2.append(arre1)\n",
    "    arre1 = []\n",
    "    d = d + 1"
   ]
  },
  {
   "cell_type": "code",
   "execution_count": 50,
   "metadata": {
    "colab": {
     "base_uri": "https://localhost:8080/"
    },
    "id": "TE4r9i9H6Dg7",
    "outputId": "59008d75-d59f-4881-e3a3-054723164df0"
   },
   "outputs": [
    {
     "data": {
      "text/plain": [
       "49582"
      ]
     },
     "execution_count": 50,
     "metadata": {
      "tags": []
     },
     "output_type": "execute_result"
    },
    {
     "name": "stdout",
     "output_type": "stream",
     "text": [
      "time: 3.57 ms (started: 2021-03-21 13:29:20 +00:00)\n"
     ]
    }
   ],
   "source": [
    "len(arre2)"
   ]
  },
  {
   "cell_type": "code",
   "execution_count": 51,
   "metadata": {
    "colab": {
     "base_uri": "https://localhost:8080/"
    },
    "id": "9VQFpe-N-_sA",
    "outputId": "5409918d-3d61-4246-e592-948356b9cf83"
   },
   "outputs": [
    {
     "name": "stdout",
     "output_type": "stream",
     "text": [
      "time: 1.11 ms (started: 2021-03-21 13:31:58 +00:00)\n"
     ]
    }
   ],
   "source": [
    "reviews_int = arre2"
   ]
  },
  {
   "cell_type": "code",
   "execution_count": 52,
   "metadata": {
    "colab": {
     "base_uri": "https://localhost:8080/"
    },
    "id": "V1WI53lCy4De",
    "outputId": "3efc6c1c-7882-402a-a96b-928df41cb809"
   },
   "outputs": [
    {
     "name": "stdout",
     "output_type": "stream",
     "text": [
      "time: 18.9 ms (started: 2021-03-21 13:32:00 +00:00)\n"
     ]
    }
   ],
   "source": [
    "###Encoding Labels (i.e Our Target Sentiments)\n",
    "#### Positive = 0 and Negative = 1 for sentiments\n",
    "\n",
    "encoded_labels = [1 if label =='positive' else 0 for label in list(df_modified['sentiment'])]\n",
    "encoded_labels = np.array(encoded_labels)"
   ]
  },
  {
   "cell_type": "markdown",
   "metadata": {
    "id": "5GWsIq4Tlz-8"
   },
   "source": [
    "### **Analysis of Review Length**"
   ]
  },
  {
   "cell_type": "code",
   "execution_count": 53,
   "metadata": {
    "colab": {
     "base_uri": "https://localhost:8080/",
     "height": 416
    },
    "id": "oGFA-AX-5rm1",
    "outputId": "2c238acf-34ea-4618-f5ed-2c879d96c68d"
   },
   "outputs": [
    {
     "data": {
      "image/png": "[encoded data removed]",
      "text/plain": [
       "<Figure size 432x288 with 1 Axes>"
      ]
     },
     "metadata": {
      "needs_background": "light",
      "tags": []
     },
     "output_type": "display_data"
    },
    {
     "data": {
      "text/plain": [
       "count    49582.000000\n",
       "mean        92.719213\n",
       "std         70.826571\n",
       "min          1.000000\n",
       "25%         49.000000\n",
       "50%         69.000000\n",
       "75%        113.000000\n",
       "max        989.000000\n",
       "dtype: float64"
      ]
     },
     "execution_count": 53,
     "metadata": {
      "tags": []
     },
     "output_type": "execute_result"
    },
    {
     "name": "stdout",
     "output_type": "stream",
     "text": [
      "time: 256 ms (started: 2021-03-21 13:32:07 +00:00)\n"
     ]
    }
   ],
   "source": [
    "reviews_len = [len(x) for x in reviews_int]\n",
    "pd.Series(reviews_len).hist()\n",
    "plt.show()\n",
    "pd.Series(reviews_len).describe()"
   ]
  },
  {
   "cell_type": "markdown",
   "metadata": {
    "id": "8p2asizwpssm"
   },
   "source": [
    " **Observations** : a) Mean review length = 93 b) Some reviews are of 1 length. Keeping this review won’t make any sense for our analysis \n",
    " c) Most of the reviews less than 200 words or more d) There are quite a few reviews that are extremely long, we can manually investigate them to\n",
    "  check whether we need to include or exclude them from our analysis\n"
   ]
  },
  {
   "cell_type": "code",
   "execution_count": 55,
   "metadata": {
    "colab": {
     "base_uri": "https://localhost:8080/"
    },
    "id": "6ArdgAt05xms",
    "outputId": "80a9567b-b8b0-4e15-dc43-d831cdf54f1f"
   },
   "outputs": [
    {
     "name": "stdout",
     "output_type": "stream",
     "text": [
      "time: 23.1 ms (started: 2021-03-21 13:48:50 +00:00)\n"
     ]
    }
   ],
   "source": [
    "###Removing Outliers — Getting rid of extremely long or short reviews\n",
    "### Remove 0 length reviews\n",
    "reviews_int = [ reviews_int[i] for i, l in enumerate(reviews_len) if l>0 ]\n",
    "encoded_labels = [ encoded_labels[i] for i, l in enumerate(reviews_len) if l> 0 ]"
   ]
  },
  {
   "cell_type": "markdown",
   "metadata": {
    "id": "xaduVrB8lHuJ"
   },
   "source": [
    "### **Padding**"
   ]
  },
  {
   "cell_type": "code",
   "execution_count": 56,
   "metadata": {
    "colab": {
     "base_uri": "https://localhost:8080/"
    },
    "id": "S_RCANZq6Irh",
    "outputId": "b43765ba-9800-41f6-eae8-25855693c0f8"
   },
   "outputs": [
    {
     "name": "stdout",
     "output_type": "stream",
     "text": [
      "time: 11 ms (started: 2021-03-21 13:48:56 +00:00)\n"
     ]
    }
   ],
   "source": [
    "### Padding / Truncating the remaining data\n",
    "seq_length = 100\n",
    "def pad_features(reviews_int, seq_length):\n",
    "    ''' Return features of review_ints, where each review is padded with 0's or truncated to the input seq_length.\n",
    "    '''\n",
    "    features = np.zeros((len(reviews_int), seq_length), dtype = int)\n",
    "    \n",
    "    for i, review in enumerate(reviews_int):\n",
    "        review_len = len(review)\n",
    "        \n",
    "        if review_len <= seq_length:\n",
    "            zeroes = list(np.zeros(seq_length-review_len))\n",
    "            new = zeroes+review\n",
    "        elif review_len > seq_length:\n",
    "            new = review[0:seq_length]\n",
    "        \n",
    "        features[i,:] = np.array(new)\n",
    "    \n",
    "    return features"
   ]
  },
  {
   "cell_type": "code",
   "execution_count": 59,
   "metadata": {
    "colab": {
     "base_uri": "https://localhost:8080/"
    },
    "id": "awZBWPe06It8",
    "outputId": "87b4d30f-8559-421e-cc1f-b4f3622402ee"
   },
   "outputs": [
    {
     "name": "stdout",
     "output_type": "stream",
     "text": [
      "[[    3  1880   937    63   424  3702   296   333   467   579]\n",
      " [    0     0     0     0     0     0     0     0     0     0]\n",
      " [    0     0     0     0     0     0     0     0     0     0]\n",
      " [    0     0     0     0     0     0     0     0     0     0]\n",
      " [   38    10   186  2101  1280     2 12155  1249    68  3823]\n",
      " [    0     0     0     0     0     0     0     0     0     0]\n",
      " [    0     0     0     0     0     0     0     0     0     0]\n",
      " [    0     0     0     0     0     0     0     0     0     0]\n",
      " [    0     0     0     0     0     0     0     0     0     0]\n",
      " [    0     0     0     0     0     0     0     0     0     0]]\n",
      "time: 858 ms (started: 2021-03-21 13:50:04 +00:00)\n"
     ]
    }
   ],
   "source": [
    "features = pad_features(reviews_int, seq_length=seq_length)\n",
    "print(features[:10,:10])      # print first 10 values of the first 10 batches "
   ]
  },
  {
   "cell_type": "markdown",
   "metadata": {
    "id": "qiwgR0hNlPMz"
   },
   "source": [
    "### **Train,Test Split of Data**"
   ]
  },
  {
   "cell_type": "code",
   "execution_count": 79,
   "metadata": {
    "colab": {
     "base_uri": "https://localhost:8080/"
    },
    "id": "D-nLPuC66IwZ",
    "outputId": "592440b3-c1da-4730-e4c9-6cbadbc31805"
   },
   "outputs": [
    {
     "name": "stdout",
     "output_type": "stream",
     "text": [
      "time: 11.2 ms (started: 2021-03-21 14:12:22 +00:00)\n"
     ]
    }
   ],
   "source": [
    "split_frac = 0.8\n",
    "len_feat = len(features)\n",
    "train_x = features[0:int(split_frac*len_feat)]\n",
    "train_y = encoded_labels[0:int(split_frac*len_feat)]\n",
    "remaining_x = features[int(split_frac*len_feat):]\n",
    "remaining_y = encoded_labels[int(split_frac*len_feat):]\n",
    "valid_x = remaining_x[0:int(len(remaining_x)*0.5)]\n",
    "valid_y = remaining_y[0:int(len(remaining_y)*0.5)]\n",
    "test_x = remaining_x[int(len(remaining_x)*0.5):]\n",
    "test_y = remaining_y[int(len(remaining_y)*0.5):]"
   ]
  },
  {
   "cell_type": "code",
   "execution_count": 80,
   "metadata": {
    "colab": {
     "base_uri": "https://localhost:8080/"
    },
    "id": "S3jYlKV2HyL9",
    "outputId": "dfa7ac6b-7d46-4e75-82b8-0a333ceff275"
   },
   "outputs": [
    {
     "name": "stdout",
     "output_type": "stream",
     "text": [
      "time: 1.77 ms (started: 2021-03-21 14:12:24 +00:00)\n"
     ]
    }
   ],
   "source": [
    "train_x = train_x[:39600]\n",
    "valid_x = valid_x[:4950]\n",
    "test_x = test_x[:4950]"
   ]
  },
  {
   "cell_type": "code",
   "execution_count": 81,
   "metadata": {
    "colab": {
     "base_uri": "https://localhost:8080/"
    },
    "id": "GsMoqnvjIOUe",
    "outputId": "788aaf37-8d0f-45ee-c2d2-0d161923d594"
   },
   "outputs": [
    {
     "name": "stdout",
     "output_type": "stream",
     "text": [
      "time: 2.4 ms (started: 2021-03-21 14:12:31 +00:00)\n"
     ]
    }
   ],
   "source": [
    "train_y = train_y[:39600]\n",
    "valid_y = valid_y[:4950]\n",
    "test_y = test_y[:4950]"
   ]
  },
  {
   "cell_type": "code",
   "execution_count": 82,
   "metadata": {
    "colab": {
     "base_uri": "https://localhost:8080/"
    },
    "id": "WlC5M_89DZNP",
    "outputId": "301c8bbe-73ce-4e65-b0ae-073babef90f4"
   },
   "outputs": [
    {
     "name": "stdout",
     "output_type": "stream",
     "text": [
      "\t\t\tFeature Shapes:\n",
      "Train set: \t\t(39600, 100) \n",
      "Validation set: \t(4950, 100) \n",
      "Test set: \t\t(4950, 100)\n",
      "time: 4.31 ms (started: 2021-03-21 14:12:34 +00:00)\n"
     ]
    }
   ],
   "source": [
    "## print out the shapes of your resultant feature data\n",
    "print(\"\\t\\t\\tFeature Shapes:\")\n",
    "print(\"Train set: \\t\\t{}\".format(train_x.shape), \n",
    "      \"\\nValidation set: \\t{}\".format(valid_x.shape),\n",
    "      \"\\nTest set: \\t\\t{}\".format(test_x.shape))\n"
   ]
  },
  {
   "cell_type": "markdown",
   "metadata": {
    "id": "DPnvC5felXpu"
   },
   "source": [
    "### **Batching and loading as tensor (batch size =50)**"
   ]
  },
  {
   "cell_type": "code",
   "execution_count": 83,
   "metadata": {
    "colab": {
     "base_uri": "https://localhost:8080/"
    },
    "id": "pZjijnvPBgXx",
    "outputId": "37b31d86-a915-4bd9-e46e-8873777ce6e3"
   },
   "outputs": [
    {
     "name": "stdout",
     "output_type": "stream",
     "text": [
      "time: 36 ms (started: 2021-03-21 14:12:37 +00:00)\n"
     ]
    }
   ],
   "source": [
    "from torch.utils.data import DataLoader, TensorDataset\n",
    "# create Tensor datasets\n",
    "train_data = TensorDataset(torch.from_numpy(np.array(train_x)), torch.from_numpy(np.array(train_y)))\n",
    "valid_data = TensorDataset(torch.from_numpy(np.array(valid_x)), torch.from_numpy(np.array(valid_y)))\n",
    "test_data = TensorDataset(torch.from_numpy(np.array(test_x)), torch.from_numpy(np.array((test_y))))\n",
    "\n",
    "\n",
    "# dataloaders\n",
    "batch_size = 50\n",
    "# make sure to SHUFFLE your data\n",
    "train_loader = DataLoader(train_data, shuffle=True, batch_size=batch_size)\n",
    "valid_loader = DataLoader(valid_data, shuffle=True, batch_size=batch_size)\n",
    "test_loader = DataLoader(test_data, shuffle=True, batch_size=batch_size)"
   ]
  },
  {
   "cell_type": "code",
   "execution_count": 84,
   "metadata": {
    "colab": {
     "base_uri": "https://localhost:8080/"
    },
    "id": "3xlwcXicBgcF",
    "outputId": "112a7b0d-3f1b-4cdd-f41c-6bf263c2e421"
   },
   "outputs": [
    {
     "name": "stdout",
     "output_type": "stream",
     "text": [
      "Sample input size:  torch.Size([50, 100])\n",
      "Sample input: \n",
      " tensor([[    0,     0,     0,  ...,  3942,  3586,  2979],\n",
      "        [    0,     0,     0,  ...,   426,   119,  2516],\n",
      "        [    0,     0,     0,  ...,   917,    15,  1064],\n",
      "        ...,\n",
      "        [   23,   267,    46,  ...,  3417,  2419, 11184],\n",
      "        [    0,     0,     0,  ...,    36,    98,    10],\n",
      "        [ 2003,    17,   978,  ...,    77,     8,   291]])\n",
      "\n",
      "Sample label size:  torch.Size([50])\n",
      "Sample label: \n",
      " tensor([1, 0, 1, 0, 1, 1, 1, 1, 1, 1, 1, 0, 1, 0, 1, 0, 1, 1, 0, 1, 1, 0, 0, 1,\n",
      "        1, 0, 0, 1, 0, 0, 1, 1, 0, 1, 1, 0, 1, 1, 0, 1, 0, 0, 0, 0, 0, 0, 0, 0,\n",
      "        1, 0])\n",
      "time: 19.3 ms (started: 2021-03-21 14:12:45 +00:00)\n"
     ]
    }
   ],
   "source": [
    "# obtain one batch of training data\n",
    "dataiter = iter(train_loader)\n",
    "sample_x, sample_y = dataiter.next()\n",
    "print('Sample input size: ', sample_x.size()) # batch_size, seq_length\n",
    "print('Sample input: \\n', sample_x)\n",
    "print()\n",
    "print('Sample label size: ', sample_y.size()) # batch_size\n",
    "print('Sample label: \\n', sample_y)"
   ]
  },
  {
   "cell_type": "code",
   "execution_count": null,
   "metadata": {
    "id": "VZmulk0qEinH"
   },
   "outputs": [],
   "source": [
    "# Here, 50 is the batch size and 100 is the sequence length that we have defined. Now our data prep step is complete and next \n",
    "# we will look at the LSTM network architecture for start building our model."
   ]
  },
  {
   "cell_type": "code",
   "execution_count": 85,
   "metadata": {
    "colab": {
     "base_uri": "https://localhost:8080/"
    },
    "id": "pByMu5KPEpdx",
    "outputId": "dda017a6-6022-4c04-f390-742819ad5f95"
   },
   "outputs": [
    {
     "name": "stdout",
     "output_type": "stream",
     "text": [
      "No GPU available, training on CPU.\n",
      "time: 4.04 ms (started: 2021-03-21 14:13:05 +00:00)\n"
     ]
    }
   ],
   "source": [
    "# First checking if GPU is available\n",
    "train_on_gpu=torch.cuda.is_available()\n",
    "if(train_on_gpu):\n",
    "  print('Training on GPU.')\n",
    "else:\n",
    "  print('No GPU available, training on CPU.')"
   ]
  },
  {
   "cell_type": "markdown",
   "metadata": {
    "id": "GZnzPGnVlfOy"
   },
   "source": [
    "### **Model Designing (LSTM architecture)**"
   ]
  },
  {
   "cell_type": "code",
   "execution_count": 86,
   "metadata": {
    "colab": {
     "base_uri": "https://localhost:8080/"
    },
    "id": "lJ2G93rjBge2",
    "outputId": "5091c7b7-b750-404f-ff4a-03ec67a9223f"
   },
   "outputs": [
    {
     "name": "stdout",
     "output_type": "stream",
     "text": [
      "time: 57.3 ms (started: 2021-03-21 14:13:08 +00:00)\n"
     ]
    }
   ],
   "source": [
    "import torch.nn as nn\n",
    "\n",
    "class SentimentLSTM(nn.Module):\n",
    "    \"\"\"\n",
    "    The RNN model that will be used to perform Sentiment analysis.\n",
    "    \"\"\"\n",
    "\n",
    "    def __init__(self, vocab_size, output_size, embedding_dim, hidden_dim, n_layers, drop_prob=0.5):\n",
    "        \"\"\"\n",
    "        Initialize the model by setting up the layers.\n",
    "        \"\"\"\n",
    "        super().__init__()\n",
    "\n",
    "        self.output_size = output_size\n",
    "        self.n_layers = n_layers\n",
    "        self.hidden_dim = hidden_dim\n",
    "        \n",
    "        # embedding and LSTM layers\n",
    "        self.embedding = nn.Embedding(vocab_size, embedding_dim)\n",
    "        self.lstm = nn.LSTM(embedding_dim, hidden_dim, n_layers, \n",
    "                            dropout=drop_prob, batch_first=True)\n",
    "        \n",
    "        # dropout layer\n",
    "        self.dropout = nn.Dropout(0.3)\n",
    "        \n",
    "        # linear and sigmoid layers\n",
    "        self.fc = nn.Linear(hidden_dim, output_size)\n",
    "        self.sig = nn.Sigmoid()\n",
    "        \n",
    "\n",
    "    def forward(self, x, hidden):\n",
    "        \"\"\"\n",
    "        Perform a forward pass of our model on some input and hidden state.\n",
    "        \"\"\"\n",
    "        batch_size = x.size(0)\n",
    "\n",
    "        # embeddings and lstm_out\n",
    "        embeds = self.embedding(x)\n",
    "        lstm_out, hidden = self.lstm(embeds, hidden)\n",
    "    \n",
    "        # stack up lstm outputs\n",
    "        lstm_out = lstm_out.contiguous().view(-1, self.hidden_dim)\n",
    "        \n",
    "        # dropout and fully-connected layer\n",
    "        out = self.dropout(lstm_out)\n",
    "        out = self.fc(out)\n",
    "        # sigmoid function\n",
    "        sig_out = self.sig(out)\n",
    "        \n",
    "        # reshape to be batch_size first\n",
    "        sig_out = sig_out.view(batch_size, -1)\n",
    "        sig_out = sig_out[:, -1] # get last batch of labels\n",
    "        \n",
    "        # return last sigmoid output and hidden state\n",
    "        return sig_out, hidden\n",
    "    \n",
    "    \n",
    "    def init_hidden(self, batch_size):\n",
    "        ''' Initializes hidden state '''\n",
    "        # Create two new tensors with sizes n_layers x batch_size x hidden_dim,\n",
    "        # initialized to zero, for hidden state and cell state of LSTM\n",
    "        weight = next(self.parameters()).data\n",
    "        \n",
    "        if (train_on_gpu):\n",
    "            hidden = (weight.new(self.n_layers, batch_size, self.hidden_dim).zero_().cuda(),\n",
    "                  weight.new(self.n_layers, batch_size, self.hidden_dim).zero_().cuda())\n",
    "        else:\n",
    "            hidden = (weight.new(self.n_layers, batch_size, self.hidden_dim).zero_(),\n",
    "                      weight.new(self.n_layers, batch_size, self.hidden_dim).zero_())\n",
    "        \n",
    "        return hidden"
   ]
  },
  {
   "cell_type": "code",
   "execution_count": 87,
   "metadata": {
    "colab": {
     "base_uri": "https://localhost:8080/"
    },
    "id": "86UpDMLDBzUP",
    "outputId": "c66b0d6c-d7f8-4704-ed0a-47562165a581"
   },
   "outputs": [
    {
     "name": "stdout",
     "output_type": "stream",
     "text": [
      "SentimentLSTM(\n",
      "  (embedding): Embedding(20001, 400)\n",
      "  (lstm): LSTM(400, 256, num_layers=2, batch_first=True, dropout=0.5)\n",
      "  (dropout): Dropout(p=0.3, inplace=False)\n",
      "  (fc): Linear(in_features=256, out_features=1, bias=True)\n",
      "  (sig): Sigmoid()\n",
      ")\n",
      "time: 127 ms (started: 2021-03-21 14:13:14 +00:00)\n"
     ]
    }
   ],
   "source": [
    "# Instantiate the model w/ hyperparams\n",
    "vocab_size = len(top_words_review)+1 # +1 for the 0 padding\n",
    "output_size = 1\n",
    "embedding_dim = 400\n",
    "hidden_dim = 256\n",
    "n_layers = 2\n",
    "net = SentimentLSTM(vocab_size, output_size, embedding_dim, hidden_dim, n_layers)\n",
    "print(net)"
   ]
  },
  {
   "cell_type": "code",
   "execution_count": 88,
   "metadata": {
    "colab": {
     "base_uri": "https://localhost:8080/"
    },
    "id": "wPqlUzjzBzXI",
    "outputId": "d90bd327-0a11-450b-9a27-a1981e164aba"
   },
   "outputs": [
    {
     "name": "stdout",
     "output_type": "stream",
     "text": [
      "time: 8.06 ms (started: 2021-03-21 14:13:18 +00:00)\n"
     ]
    }
   ],
   "source": [
    "# loss and optimization functions\n",
    "lr=0.001\n",
    "\n",
    "criterion = nn.BCELoss()   ###Binary Cross Entropy Loss Function\n",
    "optimizer = torch.optim.Adam(net.parameters(), lr=lr)"
   ]
  },
  {
   "cell_type": "markdown",
   "metadata": {
    "id": "FfMF4x76lo2_"
   },
   "source": [
    "### **Training**"
   ]
  },
  {
   "cell_type": "code",
   "execution_count": 89,
   "metadata": {
    "colab": {
     "base_uri": "https://localhost:8080/"
    },
    "id": "OkGw8ZfSGgAI",
    "outputId": "e765a597-bae1-4910-8839-47ec8c5f1c0a"
   },
   "outputs": [
    {
     "name": "stdout",
     "output_type": "stream",
     "text": [
      "Epoch: 1/4... Step: 100... Loss: 0.639396... Val Loss: 0.616795\n",
      "Epoch: 1/4... Step: 200... Loss: 0.635035... Val Loss: 0.608087\n",
      "Epoch: 1/4... Step: 300... Loss: 0.575148... Val Loss: 0.639320\n",
      "Epoch: 1/4... Step: 400... Loss: 0.693257... Val Loss: 0.648894\n",
      "Epoch: 1/4... Step: 500... Loss: 0.661227... Val Loss: 0.662558\n",
      "Epoch: 1/4... Step: 600... Loss: 0.693952... Val Loss: 0.661903\n",
      "Epoch: 1/4... Step: 700... Loss: 0.650615... Val Loss: 0.584691\n",
      "Epoch: 2/4... Step: 800... Loss: 0.386591... Val Loss: 0.501767\n",
      "Epoch: 2/4... Step: 900... Loss: 0.413901... Val Loss: 0.484918\n",
      "Epoch: 2/4... Step: 1000... Loss: 0.565341... Val Loss: 0.433561\n",
      "Epoch: 2/4... Step: 1100... Loss: 0.362952... Val Loss: 0.410579\n",
      "Epoch: 2/4... Step: 1200... Loss: 0.371103... Val Loss: 0.410274\n",
      "Epoch: 2/4... Step: 1300... Loss: 0.279257... Val Loss: 0.420763\n",
      "Epoch: 2/4... Step: 1400... Loss: 0.436639... Val Loss: 0.390046\n",
      "Epoch: 2/4... Step: 1500... Loss: 0.350240... Val Loss: 0.386693\n",
      "Epoch: 3/4... Step: 1600... Loss: 0.213624... Val Loss: 0.369122\n",
      "Epoch: 3/4... Step: 1700... Loss: 0.260720... Val Loss: 0.379575\n",
      "Epoch: 3/4... Step: 1800... Loss: 0.183426... Val Loss: 0.394310\n",
      "Epoch: 3/4... Step: 1900... Loss: 0.279856... Val Loss: 0.398176\n",
      "Epoch: 3/4... Step: 2000... Loss: 0.319289... Val Loss: 0.381724\n",
      "Epoch: 3/4... Step: 2100... Loss: 0.354588... Val Loss: 0.372648\n",
      "Epoch: 3/4... Step: 2200... Loss: 0.291701... Val Loss: 0.375084\n",
      "Epoch: 3/4... Step: 2300... Loss: 0.388850... Val Loss: 0.363883\n",
      "Epoch: 4/4... Step: 2400... Loss: 0.159097... Val Loss: 0.422830\n",
      "Epoch: 4/4... Step: 2500... Loss: 0.197815... Val Loss: 0.444418\n",
      "Epoch: 4/4... Step: 2600... Loss: 0.218079... Val Loss: 0.425943\n",
      "Epoch: 4/4... Step: 2700... Loss: 0.124437... Val Loss: 0.436822\n",
      "Epoch: 4/4... Step: 2800... Loss: 0.164247... Val Loss: 0.408880\n",
      "Epoch: 4/4... Step: 2900... Loss: 0.354738... Val Loss: 0.391283\n",
      "Epoch: 4/4... Step: 3000... Loss: 0.313559... Val Loss: 0.384254\n",
      "Epoch: 4/4... Step: 3100... Loss: 0.216872... Val Loss: 0.411898\n",
      "time: 1h 3min 43s (started: 2021-03-21 14:13:24 +00:00)\n"
     ]
    }
   ],
   "source": [
    "# training params\n",
    "\n",
    "epochs = 4        # 3-4 is approx where I noticed the validation loss stop decreasing\n",
    "\n",
    "counter = 0\n",
    "print_every = 100\n",
    "clip=5       # gradient clipping\n",
    "\n",
    "# move model to GPU, if available\n",
    "if(train_on_gpu):\n",
    "    net.cuda()\n",
    "\n",
    "net.train()\n",
    "# train for some number of epochs\n",
    "for e in range(epochs):\n",
    "    # initialize hidden state\n",
    "    h = net.init_hidden(batch_size)\n",
    "\n",
    "    # batch loop\n",
    "    for inputs, labels in train_loader:\n",
    "        counter += 1\n",
    "\n",
    "        if(train_on_gpu):\n",
    "            inputs, labels = inputs.cuda(), labels.cuda()\n",
    "\n",
    "        # Creating new variables for the hidden state, otherwise\n",
    "        # we'd backprop through the entire training history\n",
    "        h = tuple([each.data for each in h])\n",
    "\n",
    "        # zero accumulated gradients\n",
    "        net.zero_grad()\n",
    "\n",
    "        # get the output from the model\n",
    "        inputs = inputs.type(torch.LongTensor)\n",
    "        output, h = net(inputs, h)\n",
    "\n",
    "        # calculate the loss and perform backprop\n",
    "        loss = criterion(output.squeeze(), labels.float())\n",
    "        loss.backward()\n",
    "        # `clip_grad_norm` helps prevent the exploding gradient problem in RNNs / LSTMs.\n",
    "        nn.utils.clip_grad_norm_(net.parameters(), clip)\n",
    "        optimizer.step()\n",
    "\n",
    "        # loss stats\n",
    "        if counter % print_every == 0:\n",
    "            # Get validation loss\n",
    "            val_h = net.init_hidden(batch_size)\n",
    "            val_losses = []\n",
    "            net.eval()\n",
    "            for inputs, labels in valid_loader:\n",
    "\n",
    "                # Creating new variables for the hidden state, otherwise\n",
    "                # we'd backprop through the entire training history\n",
    "                val_h = tuple([each.data for each in val_h])\n",
    "\n",
    "                if(train_on_gpu):\n",
    "                    inputs, labels = inputs.cuda(), labels.cuda()\n",
    "\n",
    "                inputs = inputs.type(torch.LongTensor)\n",
    "                output, val_h = net(inputs, val_h)\n",
    "                val_loss = criterion(output.squeeze(), labels.float())\n",
    "\n",
    "                val_losses.append(val_loss.item())\n",
    "\n",
    "            net.train()\n",
    "            print(\"Epoch: {}/{}...\".format(e+1, epochs),\n",
    "                  \"Step: {}...\".format(counter),\n",
    "                  \"Loss: {:.6f}...\".format(loss.item()),\n",
    "                  \"Val Loss: {:.6f}\".format(np.mean(val_losses)))"
   ]
  },
  {
   "cell_type": "markdown",
   "metadata": {
    "id": "9MSJvadUlsCe"
   },
   "source": [
    "### **Test Data Loss and Accuracy**"
   ]
  },
  {
   "cell_type": "code",
   "execution_count": 90,
   "metadata": {
    "colab": {
     "base_uri": "https://localhost:8080/"
    },
    "id": "7qHHVKM7B6V_",
    "outputId": "aa08a587-94a2-43be-bbf1-544cce4beb05"
   },
   "outputs": [
    {
     "name": "stdout",
     "output_type": "stream",
     "text": [
      "Test loss: 0.410\n",
      "Test accuracy: 0.839\n",
      "time: 27.8 s (started: 2021-03-21 15:17:18 +00:00)\n"
     ]
    }
   ],
   "source": [
    "# Get test data loss and accuracy\n",
    "\n",
    "test_losses = [] # track loss\n",
    "num_correct = 0\n",
    "\n",
    "# init hidden state\n",
    "h = net.init_hidden(batch_size)\n",
    "\n",
    "net.eval()\n",
    "# iterate over test data\n",
    "for inputs, labels in test_loader:\n",
    "\n",
    "    # Creating new variables for the hidden state, otherwise\n",
    "    # we'd backprop through the entire training history\n",
    "    h = tuple([each.data for each in h])\n",
    "\n",
    "    if(train_on_gpu):\n",
    "        inputs, labels = inputs.cuda(), labels.cuda()\n",
    "    \n",
    "    # get predicted outputs\n",
    "    inputs = inputs.type(torch.LongTensor)\n",
    "    output, h = net(inputs, h)\n",
    "    \n",
    "    # calculate loss\n",
    "    test_loss = criterion(output.squeeze(), labels.float())\n",
    "    test_losses.append(test_loss.item())\n",
    "    \n",
    "    # convert output probabilities to predicted class (0 or 1)\n",
    "    pred = torch.round(output.squeeze())  # rounds to the nearest integer\n",
    "    \n",
    "    # compare predictions to true label\n",
    "    correct_tensor = pred.eq(labels.float().view_as(pred))\n",
    "    correct = np.squeeze(correct_tensor.numpy()) if not train_on_gpu else np.squeeze(correct_tensor.cpu().numpy())\n",
    "    num_correct += np.sum(correct)\n",
    "\n",
    "\n",
    "# -- stats! -- ##\n",
    "# avg test loss\n",
    "print(\"Test loss: {:.3f}\".format(np.mean(test_losses)))\n",
    "\n",
    "# accuracy over all test data\n",
    "test_acc = num_correct/len(test_loader.dataset)\n",
    "print(\"Test accuracy: {:.3f}\".format(test_acc))"
   ]
  },
  {
   "cell_type": "code",
   "execution_count": null,
   "metadata": {
    "id": "0OplCkb0B6Y0"
   },
   "outputs": [],
   "source": []
  },
  {
   "cell_type": "code",
   "execution_count": null,
   "metadata": {
    "id": "lzygj_e2rSk4"
   },
   "outputs": [],
   "source": []
  }
 ],
 "metadata": {
  "accelerator": "TPU",
  "colab": {
   "collapsed_sections": [],
   "name": "IMDB_sentiment_analysis",
   "provenance": []
  },
  "kernelspec": {
   "display_name": "Python 3",
   "language": "python",
   "name": "python3"
  },
  "language_info": {
   "codemirror_mode": {
    "name": "ipython",
    "version": 3
   },
   "file_extension": ".py",
   "mimetype": "text/x-python",
   "name": "python",
   "nbconvert_exporter": "python",
   "pygments_lexer": "ipython3",
   "version": "3.8.5"
  }
 },
 "nbformat": 4,
 "nbformat_minor": 1
}
