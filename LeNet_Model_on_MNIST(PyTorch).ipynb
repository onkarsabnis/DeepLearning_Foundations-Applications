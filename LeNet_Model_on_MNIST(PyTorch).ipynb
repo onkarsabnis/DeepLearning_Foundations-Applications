{
 "cells": [
  {
   "cell_type": "markdown",
   "metadata": {},
   "source": [
    "### DLFA : Assignment 1   Onkar Sabnis (18CH300018)\n",
    "***\n",
    "#### <font color = 'BLUE'><b><u>*The notebook is divided into different sections/segments as per the questions of the Assignment, Contents of the Notebook are:*</u></b></font>\n",
    "\n",
    "\n"
   ]
  },
  {
   "cell_type": "markdown",
   "metadata": {},
   "source": [
    "#### • Training a LeNet Model with MNIST data (On Batch_sizes = 512 and 256) using SGD for optimization (This completes Q2, Q3, Q4 and Q5)\n",
    "#### • Varying the Batch Size (32 to 1024) and plotting train and test error with changing batch_size (Q6.a)\n",
    "#### • Varying the Learning Rates and plotting Test Error vs Learning Rate (Q6.b)\n",
    "#### • Varying the learning rate with number of epochs(SGDR) (Q6.c)"
   ]
  },
  {
   "cell_type": "markdown",
   "metadata": {
    "id": "eWDwQqUp6OX0"
   },
   "source": [
    "#### **Loading Libraries**"
   ]
  },
  {
   "cell_type": "code",
   "execution_count": 1,
   "metadata": {
    "id": "s1hWn-1iqo8r"
   },
   "outputs": [],
   "source": [
    "\n",
    "import torch\n",
    "import torch.nn as nn\n",
    "import torch.nn.functional as F\n",
    "import numpy as np\n",
    "from torchvision import transforms,datasets\n",
    "import torch.optim as optim\n",
    "from torch.autograd import Variable\n",
    "import torchvision\n",
    "\n",
    "\n",
    "\n",
    "import matplotlib.pyplot as plt\n",
    "%matplotlib inline\n",
    "import time\n",
    "\n"
   ]
  },
  {
   "cell_type": "code",
   "execution_count": 2,
   "metadata": {
    "id": "svxvRbK3UiBB"
   },
   "outputs": [],
   "source": [
    "class color:\n",
    "    PURPLE = '\\033[95m'\n",
    "    CYAN = '\\033[96m'\n",
    "    DARKCYAN = '\\033[36m'\n",
    "    BLUE = '\\033[94m'\n",
    "    GREEN = '\\033[92m'\n",
    "    YELLOW = '\\033[93m'\n",
    "    RED = '\\033[91m'\n",
    "    BOLD = '\\033[1m'\n",
    "    UNDERLINE = '\\033[4m'\n",
    "    END = '\\033[0m'"
   ]
  },
  {
   "cell_type": "markdown",
   "metadata": {
    "id": "VkcLma8BGJ_g"
   },
   "source": [
    "#### **Q2), Q3) and Q5) LeNet_Model (Batch_Size = 512)**"
   ]
  },
  {
   "cell_type": "code",
   "execution_count": 3,
   "metadata": {
    "colab": {
     "base_uri": "https://localhost:8080/",
     "height": 366,
     "referenced_widgets": [
      "2d43618074a44b3a8e2dbf365ea4c6e2",
      "1923da3291b44f48b85111d5ca834202",
      "3de25ef9bb974a3a97ced3db5b7df6af",
      "2e69c4b9f54849b3b52217cb7d1b85f8",
      "46dfc333469e4222a0adae6cdbe7ae06",
      "a2ab792287bc44b296f759dea0a53b08",
      "ea907e15e63c4274a4b724e704d5e252",
      "9b5e2ed58437486c93bc5b26022fd32f",
      "6f02342f0e93422499806bf48d595c1c",
      "1e3e94d09052495d8345314ce7ce4e20",
      "2d0e4964a734441ea670e4012374998f",
      "fdcff0674f8b495982bf05bace85c89a",
      "6f35669c4a7c4476a1d78a3617773d92",
      "4546fe94fdf04bb3b930e2446c0c6e23",
      "86e36eb6d109408ca9699de2ec069947",
      "c74ed3bda12746cea3b4ac7ed2297da2",
      "98a911811d1743a9b97ace03d298688a",
      "06e538a7c306462b909eec44d9c2be59",
      "68260ed5df2c49a589cb84f770ca097a",
      "744094ab021e4f03b3043ad8fd60fc1d",
      "ae3623a0445d4c7d976953b81ffbdd03",
      "2f4a2cce096d4c5bbe94d28159e1a9d5",
      "375b1214702c4933badace1251b00e14",
      "4b13f1157df04cb393e12134a083d655",
      "bdb8a267edda4e279a8687c260d7bae1",
      "3a217d5a13484f37a64b2d6506f0b910",
      "add94c5757d54d089a95126f95ad2ab0",
      "64a8b6a8b8154d029e35d74515353c0a",
      "a0a340d429714b9b8427b8980e303258",
      "524b4037469e4db9bb3b965ceeacc23f",
      "2473205c70944cc9a99abb44ad452fd6",
      "743e922ad9e7410dab2ceeaadae156ef"
     ]
    },
    "id": "nxAWW3Edqwcr",
    "outputId": "b9c0d055-aac9-4117-95be-e3fac0429a65"
   },
   "outputs": [
    {
     "name": "stdout",
     "output_type": "stream",
     "text": [
      "Downloading http://yann.lecun.com/exdb/mnist/train-images-idx3-ubyte.gz to ./MNIST/MNIST/raw/train-images-idx3-ubyte.gz\n"
     ]
    },
    {
     "data": {
      "application/vnd.jupyter.widget-view+json": {
       "model_id": "2d43618074a44b3a8e2dbf365ea4c6e2",
       "version_major": 2,
       "version_minor": 0
      },
      "text/plain": [
       "HBox(children=(FloatProgress(value=1.0, bar_style='info', max=1.0), HTML(value='')))"
      ]
     },
     "metadata": {
      "tags": []
     },
     "output_type": "display_data"
    },
    {
     "name": "stdout",
     "output_type": "stream",
     "text": [
      "Extracting ./MNIST/MNIST/raw/train-images-idx3-ubyte.gz to ./MNIST/MNIST/raw\n",
      "Downloading http://yann.lecun.com/exdb/mnist/train-labels-idx1-ubyte.gz to ./MNIST/MNIST/raw/train-labels-idx1-ubyte.gz\n"
     ]
    },
    {
     "data": {
      "application/vnd.jupyter.widget-view+json": {
       "model_id": "6f02342f0e93422499806bf48d595c1c",
       "version_major": 2,
       "version_minor": 0
      },
      "text/plain": [
       "HBox(children=(FloatProgress(value=1.0, bar_style='info', max=1.0), HTML(value='')))"
      ]
     },
     "metadata": {
      "tags": []
     },
     "output_type": "display_data"
    },
    {
     "name": "stdout",
     "output_type": "stream",
     "text": [
      "Extracting ./MNIST/MNIST/raw/train-labels-idx1-ubyte.gz to ./MNIST/MNIST/raw\n",
      "Downloading http://yann.lecun.com/exdb/mnist/t10k-images-idx3-ubyte.gz to ./MNIST/MNIST/raw/t10k-images-idx3-ubyte.gz\n"
     ]
    },
    {
     "data": {
      "application/vnd.jupyter.widget-view+json": {
       "model_id": "98a911811d1743a9b97ace03d298688a",
       "version_major": 2,
       "version_minor": 0
      },
      "text/plain": [
       "HBox(children=(FloatProgress(value=1.0, bar_style='info', max=1.0), HTML(value='')))"
      ]
     },
     "metadata": {
      "tags": []
     },
     "output_type": "display_data"
    },
    {
     "name": "stdout",
     "output_type": "stream",
     "text": [
      "Extracting ./MNIST/MNIST/raw/t10k-images-idx3-ubyte.gz to ./MNIST/MNIST/raw\n",
      "Downloading http://yann.lecun.com/exdb/mnist/t10k-labels-idx1-ubyte.gz to ./MNIST/MNIST/raw/t10k-labels-idx1-ubyte.gz\n"
     ]
    },
    {
     "data": {
      "application/vnd.jupyter.widget-view+json": {
       "model_id": "bdb8a267edda4e279a8687c260d7bae1",
       "version_major": 2,
       "version_minor": 0
      },
      "text/plain": [
       "HBox(children=(FloatProgress(value=1.0, bar_style='info', max=1.0), HTML(value='')))"
      ]
     },
     "metadata": {
      "tags": []
     },
     "output_type": "display_data"
    },
    {
     "name": "stdout",
     "output_type": "stream",
     "text": [
      "Extracting ./MNIST/MNIST/raw/t10k-labels-idx1-ubyte.gz to ./MNIST/MNIST/raw\n",
      "Processing...\n",
      "Done!\n"
     ]
    },
    {
     "name": "stderr",
     "output_type": "stream",
     "text": [
      "/usr/local/lib/python3.7/dist-packages/torchvision/datasets/mnist.py:480: UserWarning: The given NumPy array is not writeable, and PyTorch does not support non-writeable tensors. This means you can write to the underlying (supposedly non-writeable) NumPy array using the tensor. You may want to copy the array to protect its data or make it writeable before converting it to a tensor. This type of warning will be suppressed for the rest of this program. (Triggered internally at  /pytorch/torch/csrc/utils/tensor_numpy.cpp:141.)\n",
      "  return torch.from_numpy(parsed.astype(m[2], copy=False)).view(*s)\n"
     ]
    }
   ],
   "source": [
    "### Loading Data\n",
    "\n",
    "apply_transform = transforms.Compose([transforms.Resize(32), transforms.ToTensor()])\n",
    "BatchSize = 512 # change according to system specs\n",
    "\n",
    "trainset = datasets.MNIST(root='./MNIST', train=True, download=True, transform=apply_transform)\n",
    "trainLoader = torch.utils.data.DataLoader(trainset, batch_size=BatchSize, shuffle=True, num_workers=0) # Creating dataloader\n",
    "\n",
    "# Validation set with random rotations in the range [-90,90]\n",
    "testset = datasets.MNIST(root='./MNIST', train=False, download=True, transform=apply_transform)\n",
    "testLoader = torch.utils.data.DataLoader(testset, batch_size=BatchSize,shuffle=False, num_workers=0) # Creating dataloader\n",
    "\n"
   ]
  },
  {
   "cell_type": "code",
   "execution_count": 4,
   "metadata": {
    "colab": {
     "base_uri": "https://localhost:8080/"
    },
    "id": "b7EYZYCSqwfR",
    "outputId": "59d5c0a0-9cf2-45b8-af6b-d2ad6a0e3f55"
   },
   "outputs": [
    {
     "name": "stdout",
     "output_type": "stream",
     "text": [
      "No. of samples in train set: 60000\n",
      "No. of samples in test set: 10000\n"
     ]
    }
   ],
   "source": [
    "# Size of train and test datasets\n",
    "print('No. of samples in train set: '+str(len(trainLoader.dataset)))\n",
    "print('No. of samples in test set: '+str(len(testLoader.dataset)))\n",
    "\n"
   ]
  },
  {
   "cell_type": "code",
   "execution_count": 5,
   "metadata": {
    "colab": {
     "base_uri": "https://localhost:8080/"
    },
    "id": "VPQUTq4sqwiR",
    "outputId": "7c39b742-cbb6-40cf-8070-26a0d1a360f8"
   },
   "outputs": [
    {
     "name": "stdout",
     "output_type": "stream",
     "text": [
      "LeNet(\n",
      "  (conv1): Conv2d(1, 6, kernel_size=(5, 5), stride=(1, 1))\n",
      "  (pool1): MaxPool2d(kernel_size=2, stride=2, padding=0, dilation=1, ceil_mode=False)\n",
      "  (conv2): Conv2d(6, 16, kernel_size=(5, 5), stride=(1, 1))\n",
      "  (pool2): MaxPool2d(kernel_size=2, stride=2, padding=0, dilation=1, ceil_mode=False)\n",
      "  (fc1): Linear(in_features=400, out_features=120, bias=True)\n",
      "  (fc2): Linear(in_features=120, out_features=84, bias=True)\n",
      "  (fc3): Linear(in_features=84, out_features=10, bias=True)\n",
      ")\n"
     ]
    }
   ],
   "source": [
    "### Model Architecture (Fully Connected)\n",
    "\n",
    "class LeNet(nn.Module):\n",
    "    def __init__(self):\n",
    "        super(LeNet, self).__init__()\n",
    "        self.conv1 = nn.Conv2d(1, 6, kernel_size=5)\n",
    "        self.pool1 = nn.MaxPool2d(kernel_size=2,stride=2)\n",
    "        self.conv2 = nn.Conv2d(6, 16, kernel_size=5)\n",
    "        self.pool2 = nn.MaxPool2d(kernel_size=2,stride=2)        \n",
    "        self.fc1 = nn.Linear(400, 120)\n",
    "        self.fc2 = nn.Linear(120, 84)\n",
    "        self.fc3 = nn.Linear(84, 10)\n",
    "\n",
    "    def forward(self, x):\n",
    "        x = F.relu(self.conv1(x))\n",
    "        x = self.pool1(x)\n",
    "        x = F.relu(self.conv2(x))\n",
    "        x = self.pool2(x)\n",
    "        x = x.view(-1, 400)\n",
    "        x = F.relu(self.fc1(x)) \n",
    "        x = F.relu(self.fc2(x))\n",
    "        x = self.fc3(x)\n",
    "        return F.softmax(x,dim=1)\n",
    "        \n",
    "\n",
    "net = LeNet()\n",
    "print(net)\n",
    "\n"
   ]
  },
  {
   "cell_type": "code",
   "execution_count": 9,
   "metadata": {
    "id": "-jrohucvDGmS"
   },
   "outputs": [],
   "source": [
    "criterion = nn.CrossEntropyLoss() \n",
    "learning_rate = 0.1\n",
    "optimizer1 = optim.SGD(net.parameters(), lr=learning_rate, momentum = 0.9) # ADAM \n",
    "num_epochs = 20"
   ]
  },
  {
   "cell_type": "code",
   "execution_count": 10,
   "metadata": {
    "colab": {
     "base_uri": "https://localhost:8080/"
    },
    "id": "_vxf8FgqDGpT",
    "outputId": "642919f9-e338-46da-cf0e-107252d614ad"
   },
   "outputs": [
    {
     "name": "stdout",
     "output_type": "stream",
     "text": [
      "Epoch 1/20 : Training loss: 2.3025 | Training Accuracy: 6.4300\n",
      "Epoch 2/20 : Training loss: 2.3025 | Training Accuracy: 6.2950\n",
      "Epoch 3/20 : Training loss: 2.3025 | Training Accuracy: 6.1100\n",
      "Epoch 4/20 : Training loss: 2.3025 | Training Accuracy: 5.8667\n",
      "Epoch 5/20 : Training loss: 2.3025 | Training Accuracy: 5.6633\n",
      "Epoch 6/20 : Training loss: 2.3025 | Training Accuracy: 5.3583\n",
      "Epoch 7/20 : Training loss: 2.3025 | Training Accuracy: 5.2200\n",
      "Epoch 8/20 : Training loss: 2.3025 | Training Accuracy: 5.0667\n",
      "Epoch 9/20 : Training loss: 2.3025 | Training Accuracy: 5.2500\n",
      "Epoch 10/20 : Training loss: 2.3025 | Training Accuracy: 5.6600\n",
      "Epoch 11/20 : Training loss: 2.3025 | Training Accuracy: 6.4317\n",
      "Epoch 12/20 : Training loss: 2.3025 | Training Accuracy: 7.3300\n",
      "Epoch 13/20 : Training loss: 2.3025 | Training Accuracy: 8.3183\n",
      "Epoch 14/20 : Training loss: 2.3025 | Training Accuracy: 9.5333\n",
      "Epoch 15/20 : Training loss: 2.3025 | Training Accuracy: 11.0050\n",
      "Epoch 16/20 : Training loss: 2.3025 | Training Accuracy: 12.4017\n",
      "Epoch 17/20 : Training loss: 2.3025 | Training Accuracy: 12.9683\n",
      "Epoch 18/20 : Training loss: 2.3025 | Training Accuracy: 12.6450\n",
      "Epoch 19/20 : Training loss: 2.3025 | Training Accuracy: 11.9683\n",
      "Epoch 20/20 : Training loss: 2.3024 | Training Accuracy: 11.5417\n"
     ]
    }
   ],
   "source": [
    "train_loss = []\n",
    "train_acc = []\n",
    "for epoch in range(num_epochs):\n",
    "    running_loss = 0.0 \n",
    "    running_corr = 0\n",
    "        \n",
    "    for i,data in enumerate(trainLoader):\n",
    "        inputs,labels = data\n",
    "        # Initializing model gradients to zero\n",
    "        optimizer1.zero_grad() \n",
    "        # Data feed-forward through the network\n",
    "        outputs = net(inputs)\n",
    "        # Predicted class is the one with maximum probability\n",
    "        preds = torch.argmax(outputs,dim=1)\n",
    "        # Finding the loss\n",
    "        loss = criterion(outputs, labels) \n",
    "        # Accumulating the loss for each batch\n",
    "        running_loss += loss \n",
    "        # Accumulate number of correct predictions\n",
    "        running_corr += torch.sum(preds==labels)    \n",
    "        \n",
    "    totalLoss = running_loss/(i+1)\n",
    "    # Calculating gradients\n",
    "    totalLoss.backward()\n",
    "    # Updating the model parameters\n",
    "    optimizer1.step()\n",
    "        \n",
    "    epoch_loss = running_loss.item()/(i+1)   #Total loss for one epoch\n",
    "    epoch_acc = running_corr.item()/60000\n",
    "    \n",
    "    \n",
    "         \n",
    "    train_loss.append(epoch_loss) #Saving the loss over epochs for plotting the graph\n",
    "    train_acc.append(epoch_acc) #Saving the accuracy over epochs for plotting the graph\n",
    "       \n",
    "        \n",
    "    print('Epoch {:.0f}/{:.0f} : Training loss: {:.4f} | Training Accuracy: {:.4f}'.format(epoch+1,num_epochs,epoch_loss,epoch_acc*100))"
   ]
  },
  {
   "cell_type": "code",
   "execution_count": 11,
   "metadata": {
    "colab": {
     "base_uri": "https://localhost:8080/"
    },
    "id": "wDib86d-HjQo",
    "outputId": "f400308e-0c3b-4b58-f67a-d47e37f48cfd"
   },
   "outputs": [
    {
     "name": "stdout",
     "output_type": "stream",
     "text": [
      "Testing accuracy (Batch size=512, lr=0.1 =  11.4\n"
     ]
    }
   ],
   "source": [
    "correct_pred1=0\n",
    "for data in testLoader:\n",
    "    inputs,labels = data\n",
    "    # Feedforward train data batch through model\n",
    "    output = net(inputs)\n",
    "    # Predicted class is the one with maximum probability\n",
    "    preds1 = torch.argmax(output,dim=1)\n",
    "    correct_pred1 += torch.sum(preds1==labels)\n",
    "\n",
    "test_accuracy = correct_pred1.item()/10000.0\n",
    "print('Testing accuracy (Batch size=512, lr=0.1 = ',test_accuracy*100) #for bathch1"
   ]
  },
  {
   "cell_type": "code",
   "execution_count": 12,
   "metadata": {
    "colab": {
     "base_uri": "https://localhost:8080/",
     "height": 362
    },
    "id": "s8DoBWFUD7bi",
    "outputId": "81eb4600-09cd-4d31-d94c-aa07d6bea5a6"
   },
   "outputs": [
    {
     "data": {
      "text/plain": [
       "Text(0, 0.5, 'Training')"
      ]
     },
     "execution_count": 12,
     "metadata": {
      "tags": []
     },
     "output_type": "execute_result"
    },
    {
     "data": {
      "image/png": "[encoded data removed]",
      "text/plain": [
       "<Figure size 1080x360 with 2 Axes>"
      ]
     },
     "metadata": {
      "needs_background": "light",
      "tags": []
     },
     "output_type": "display_data"
    }
   ],
   "source": [
    "fig = plt.figure(figsize=[15,5]) \n",
    "plt.subplot(121)\n",
    "plt.plot(range(num_epochs),train_loss,'r-',label='Loss') \n",
    "plt.legend(loc='upper right')\n",
    "plt.xlabel('Epochs')\n",
    "plt.ylabel('Training')\n",
    "plt.subplot(122)\n",
    "plt.plot(range(num_epochs),train_acc,'g-',label='Accuracy') \n",
    "plt.legend(loc='upper right')\n",
    "plt.xlabel('Epochs')\n",
    "plt.ylabel('Training')"
   ]
  },
  {
   "cell_type": "code",
   "execution_count": null,
   "metadata": {
    "id": "5vaLohP25HoF"
   },
   "outputs": [],
   "source": []
  },
  {
   "cell_type": "markdown",
   "metadata": {
    "id": "FIFETdltGCky"
   },
   "source": [
    "#### **Q2), Q3) and Q5) LeNet_Model (Batch_Size = 256)**"
   ]
  },
  {
   "cell_type": "code",
   "execution_count": 13,
   "metadata": {
    "id": "lFQWyJNpEtuI"
   },
   "outputs": [],
   "source": [
    "BatchSize2 = 256 # change according to system specs\n",
    "\n",
    "trainset2 = datasets.MNIST(root='./MNIST', train=True, download=True, transform=apply_transform)\n",
    "trainLoader2 = torch.utils.data.DataLoader(trainset2, batch_size=BatchSize2,\n",
    "                                          shuffle=True, num_workers=4) # Creating dataloader\n",
    "\n",
    "# Validation set with random rotations in the range [-90,90]\n",
    "testset2 = datasets.MNIST(root='./MNIST', train=False, download=True, transform=apply_transform)\n",
    "testLoader2 = torch.utils.data.DataLoader(testset2, batch_size=BatchSize2,\n",
    "                                         shuffle=False, num_workers=4) # Creating dataloader"
   ]
  },
  {
   "cell_type": "code",
   "execution_count": 14,
   "metadata": {
    "colab": {
     "base_uri": "https://localhost:8080/"
    },
    "id": "1NrWpomLEtwe",
    "outputId": "ab33f074-6921-428d-995e-7ce9fe52f581"
   },
   "outputs": [
    {
     "name": "stdout",
     "output_type": "stream",
     "text": [
      "No. of samples in train set2: 60000\n",
      "No. of samples in test set2: 10000\n"
     ]
    }
   ],
   "source": [
    "# Size of train and test datasets\n",
    "print('No. of samples in train set2: '+str(len(trainLoader2.dataset)))\n",
    "print('No. of samples in test set2: '+str(len(testLoader2.dataset)))"
   ]
  },
  {
   "cell_type": "code",
   "execution_count": 15,
   "metadata": {
    "id": "jv-5-6YHFkAE"
   },
   "outputs": [],
   "source": [
    "net2 = LeNet()"
   ]
  },
  {
   "cell_type": "code",
   "execution_count": 16,
   "metadata": {
    "id": "npgYJ91lFaIR"
   },
   "outputs": [],
   "source": [
    "criterion = nn.CrossEntropyLoss() \n",
    "learning_rate2 = 0.1\n",
    "optimizer2 = optim.SGD(net2.parameters(), lr=learning_rate2, momentum=0.8) # SGD\n",
    "num_epochs2 = 20"
   ]
  },
  {
   "cell_type": "code",
   "execution_count": 17,
   "metadata": {
    "colab": {
     "base_uri": "https://localhost:8080/"
    },
    "id": "YeC4KZVsEtzG",
    "outputId": "f5ebd112-5383-4ce3-c7fe-847bb81f9fda"
   },
   "outputs": [
    {
     "name": "stdout",
     "output_type": "stream",
     "text": [
      "Epoch 1/20 : Training loss: 2.3026 | Training Accuracy: 9.5283\n",
      "Epoch 2/20 : Training loss: 2.3026 | Training Accuracy: 9.5067\n",
      "Epoch 3/20 : Training loss: 2.3026 | Training Accuracy: 9.4667\n",
      "Epoch 4/20 : Training loss: 2.3026 | Training Accuracy: 9.4200\n",
      "Epoch 5/20 : Training loss: 2.3025 | Training Accuracy: 9.3867\n",
      "Epoch 6/20 : Training loss: 2.3025 | Training Accuracy: 9.3433\n",
      "Epoch 7/20 : Training loss: 2.3025 | Training Accuracy: 9.2683\n",
      "Epoch 8/20 : Training loss: 2.3025 | Training Accuracy: 9.1600\n",
      "Epoch 9/20 : Training loss: 2.3025 | Training Accuracy: 9.0433\n",
      "Epoch 10/20 : Training loss: 2.3025 | Training Accuracy: 8.9683\n",
      "Epoch 11/20 : Training loss: 2.3024 | Training Accuracy: 8.8917\n",
      "Epoch 12/20 : Training loss: 2.3024 | Training Accuracy: 8.8567\n",
      "Epoch 13/20 : Training loss: 2.3024 | Training Accuracy: 8.9000\n",
      "Epoch 14/20 : Training loss: 2.3024 | Training Accuracy: 8.9333\n",
      "Epoch 15/20 : Training loss: 2.3023 | Training Accuracy: 8.9733\n",
      "Epoch 16/20 : Training loss: 2.3023 | Training Accuracy: 9.0583\n",
      "Epoch 17/20 : Training loss: 2.3023 | Training Accuracy: 9.1750\n",
      "Epoch 18/20 : Training loss: 2.3023 | Training Accuracy: 9.3700\n",
      "Epoch 19/20 : Training loss: 2.3023 | Training Accuracy: 9.6333\n",
      "Epoch 20/20 : Training loss: 2.3022 | Training Accuracy: 9.9217\n"
     ]
    }
   ],
   "source": [
    "train_loss2 = []\n",
    "train_acc2 = []\n",
    "for epoch in range(num_epochs2):\n",
    "    \n",
    "    running_loss = 0.0 \n",
    "    running_corr = 0\n",
    "        \n",
    "    for i,data in enumerate(trainLoader2):\n",
    "        inputs,labels = data\n",
    "        # Initializing model gradients to zero\n",
    "        optimizer2.zero_grad() \n",
    "        # Data feed-forward through the network\n",
    "        outputs2 = net2(inputs)\n",
    "        # Predicted class is the one with maximum probability\n",
    "        preds2 = torch.argmax(outputs2,dim=1)\n",
    "        # Finding the loss\n",
    "        loss = criterion(outputs2, labels)\n",
    "        # Accumulating the loss for each batch\n",
    "        running_loss += loss \n",
    "        # Accumulate number of correct predictions\n",
    "        running_corr += torch.sum(preds2==labels)    \n",
    "        \n",
    "    totalLoss2 = running_loss/(i+1)\n",
    "    # Calculating gradients\n",
    "    totalLoss2.backward()\n",
    "    # Updating the model parameters\n",
    "    # Updating the model parameters\n",
    "    optimizer2.step()\n",
    "        \n",
    "    epoch_loss = running_loss.item()/(i+1)   #Total loss for one epoch\n",
    "    epoch_acc = running_corr.item()/60000\n",
    "    \n",
    "    \n",
    "         \n",
    "    train_loss2.append(epoch_loss) #Saving the loss over epochs for plotting the graph\n",
    "    train_acc2.append(epoch_acc) #Saving the accuracy over epochs for plotting the graph\n",
    "       \n",
    "        \n",
    "    print('Epoch {:.0f}/{:.0f} : Training loss: {:.4f} | Training Accuracy: {:.4f}'.format(epoch+1,num_epochs2,epoch_loss,epoch_acc*100))"
   ]
  },
  {
   "cell_type": "code",
   "execution_count": 18,
   "metadata": {
    "colab": {
     "base_uri": "https://localhost:8080/",
     "height": 362
    },
    "id": "Yg_ZB1e7Et1d",
    "outputId": "8450b238-f353-4aa0-b8de-2d67035db5eb"
   },
   "outputs": [
    {
     "data": {
      "text/plain": [
       "Text(0, 0.5, 'Training Accuracy')"
      ]
     },
     "execution_count": 18,
     "metadata": {
      "tags": []
     },
     "output_type": "execute_result"
    },
    {
     "data": {
      "image/png": "[encoded data removed]",
      "text/plain": [
       "<Figure size 1080x360 with 2 Axes>"
      ]
     },
     "metadata": {
      "needs_background": "light",
      "tags": []
     },
     "output_type": "display_data"
    }
   ],
   "source": [
    "fig = plt.figure(figsize=[15,5]) \n",
    "plt.subplot(121)\n",
    "plt.plot(range(num_epochs),train_loss,'r-',label='Batch size=512') \n",
    "plt.plot(range(num_epochs2),train_loss2,'r-',color='blue',label='Batch size=256') \n",
    "\n",
    "plt.legend(loc='upper right')\n",
    "plt.xlabel('Epochs')\n",
    "plt.ylabel('Training loss/error')\n",
    "plt.subplot(122)\n",
    "plt.plot(range(num_epochs),train_acc,'g-',label='Batch size=512') \n",
    "plt.plot(range(num_epochs2),train_acc2,'g-', color='blue',label='Batch size=256') #learning rate in both is same\n",
    " \n",
    "plt.legend(loc='upper right')\n",
    "plt.xlabel('Epochs')\n",
    "plt.ylabel('Training Accuracy')"
   ]
  },
  {
   "cell_type": "code",
   "execution_count": 19,
   "metadata": {
    "colab": {
     "base_uri": "https://localhost:8080/"
    },
    "id": "akIrE5a-G-c9",
    "outputId": "f88bacff-c0d2-4215-af12-8ac0e22f42e4"
   },
   "outputs": [
    {
     "name": "stdout",
     "output_type": "stream",
     "text": [
      "Testing accuracy (Batch size=256, lr=0.1) =  10.05\n"
     ]
    }
   ],
   "source": [
    "correct_pred2=0\n",
    "for data in testLoader2:\n",
    "    inputs,labels = data\n",
    "    # Feedforward train data batch through model\n",
    "    output = net2(inputs)\n",
    "    # Predicted class is the one with maximum probability\n",
    "    preds2 = torch.argmax(output,dim=1)\n",
    "    correct_pred2 += torch.sum(preds2==labels)\n",
    "\n",
    "test_accuracy2 = correct_pred2.item()/10000.0\n",
    "print('Testing accuracy (Batch size=256, lr=0.1) = ',test_accuracy2*100) "
   ]
  },
  {
   "cell_type": "code",
   "execution_count": null,
   "metadata": {
    "id": "osSS0n_X5y_M"
   },
   "outputs": [],
   "source": []
  },
  {
   "cell_type": "markdown",
   "metadata": {},
   "source": [
    "#### Answers to Q4) :  \n",
    "\n",
    "#### For (Batch Size 512 , LR = 0.1 , Epochs = 20) :  a) Training accuracy = 13%    b) Testing accuracy =  11.4%    c) Training loss =  2.3025   d) Testing loss = 2.3012\n",
    "\n",
    "\n",
    "#### For (Batch Size 256 , LR = 0.1 , Epochs = 20) : a) Training accuracy = 10.11%    b) Testing accuracy = 10.05%    c) Training loss = 2.3026    d) Testing loss = 2.3021\n"
   ]
  },
  {
   "cell_type": "code",
   "execution_count": null,
   "metadata": {},
   "outputs": [],
   "source": []
  },
  {
   "cell_type": "markdown",
   "metadata": {
    "id": "E13fV0CK5yhs"
   },
   "source": [
    "#### **Q6.a) Varying the Batch_Size (32 to 1024)**\n"
   ]
  },
  {
   "cell_type": "code",
   "execution_count": 20,
   "metadata": {
    "id": "ug4Wy34A56ku"
   },
   "outputs": [],
   "source": [
    "BatchSize_new = [32 , 64 , 128 , 256 , 1024] # change according to system specs\n",
    "apply_transform = transforms.Compose([transforms.Resize(32), transforms.ToTensor()])\n",
    "trainset_new = datasets.MNIST(root='./MNIST', train=True, download=True, transform=apply_transform)\n",
    "\n",
    "\n",
    "# Validation set with random rotations in the range [-90,90]\n",
    "testset_new = datasets.MNIST(root='./MNIST', train=False, download=True, transform=apply_transform)\n",
    "\n",
    "\n",
    "#trainLoader_new = torch.utils.data.DataLoader(trainset_new, batch_size=BatchSize_new[0],shuffle=True, num_workers=4) # Creating dataloader   \n",
    "\n",
    "\n",
    "#testLoader_new = torch.utils.data.DataLoader(testset_new, batch_size=BatchSize_new[0], shuffle=False, num_workers=4) # Creating dataloader                                                                          "
   ]
  },
  {
   "cell_type": "code",
   "execution_count": 21,
   "metadata": {
    "id": "Y9EZZyKA7BNN"
   },
   "outputs": [],
   "source": [
    "class LeNet(nn.Module):\n",
    "\n",
    "    def __init__(self):\n",
    "        super(LeNet, self).__init__()\n",
    "        self.conv1 = nn.Conv2d(1, 6, kernel_size=5)\n",
    "        self.pool1 = nn.MaxPool2d(kernel_size=2,stride=2)\n",
    "        self.conv2 = nn.Conv2d(6, 16, kernel_size=5)\n",
    "        self.pool2 = nn.MaxPool2d(kernel_size=2,stride=2)        \n",
    "        self.fc1 = nn.Linear(400, 120)\n",
    "        self.fc2 = nn.Linear(120, 84)\n",
    "        self.fc3 = nn.Linear(84, 10)\n",
    "\n",
    "    def forward(self, x):\n",
    "        x = F.relu(self.conv1(x))\n",
    "        x = self.pool1(x)\n",
    "        x = F.relu(self.conv2(x))\n",
    "        x = self.pool2(x)\n",
    "        x = x.view(-1, 400)\n",
    "        x = F.relu(self.fc1(x)) \n",
    "        x = F.relu(self.fc2(x))\n",
    "        x = self.fc3(x)\n",
    "        return F.softmax(x,dim=1)\n",
    "        \n",
    "\n",
    "net = LeNet()"
   ]
  },
  {
   "cell_type": "code",
   "execution_count": 22,
   "metadata": {
    "id": "XMzqKvmOI86Q"
   },
   "outputs": [],
   "source": [
    "#####-------- Function to calculate Test Accuracy and Test Loss-----------###################\n",
    "\n",
    "\n",
    "def calc_test_loss_VaryingBatch(testLoader_from_model):          \n",
    "    test_loss = []\n",
    "    test_acc = []\n",
    "\n",
    "    running_loss = 0.0 \n",
    "    running_corr = 0\n",
    "\n",
    "    testLoader_from_model = testLoader\n",
    "\n",
    "    for i, data in enumerate(testLoader):\n",
    "        inputs,labels = data\n",
    "        # Initializing model gradients to zero\n",
    "        #optimizer2.zero_grad() \n",
    "        # Data feed-forward through the network\n",
    "        outputs = net(inputs)\n",
    "        # Predicted class is the one with maximum probability\n",
    "        preds = torch.argmax(outputs,dim=1)\n",
    "        # Finding the loss\n",
    "        loss = criterion(outputs, labels)\n",
    "        # Accumulating the loss for each batch\n",
    "        running_loss += loss \n",
    "        # Accumulate number of correct predictions\n",
    "        running_corr += torch.sum(preds==labels)    \n",
    "      \n",
    "    totalLoss = running_loss/(i+1)\n",
    "    # Calculating gradients\n",
    "    #totalLoss2.backward()\n",
    "    # Updating the model parameters\n",
    "    # Updating the model parameters\n",
    "    #optimizer2.step()\n",
    "\n",
    "    epoch_loss = running_loss.item()/(i+1)   #Total loss for one epoch\n",
    "    epoch_acc = running_corr.item()/10000\n",
    "\n",
    "\n",
    "\n",
    "    test_loss.append(epoch_loss) #Saving the loss over epochs for plotting the graph\n",
    "    test_acc.append(epoch_acc) #Saving the accuracy over epochs for plotting the graph\n",
    "\n",
    "\n",
    "    #print('Epoch {:.0f}/{:.0f} : Training loss: {:.4f} | Training Accuracy: {:.4f}'.format(epoch+1,num_epochs2,epoch_loss,epoch_acc*100))\n",
    "    return np.mean(test_loss) , np.mean(test_acc)"
   ]
  },
  {
   "cell_type": "code",
   "execution_count": 24,
   "metadata": {
    "id": "bN4vwQwZ5MG_"
   },
   "outputs": [],
   "source": [
    "criterion = nn.CrossEntropyLoss() \n",
    "learning_rate_new = 0.1\n",
    "optimizer_new = optim.SGD(net.parameters(), lr=learning_rate_new, momentum=0.9) # SGD\n",
    "num_epochs_new = 20"
   ]
  },
  {
   "cell_type": "code",
   "execution_count": 25,
   "metadata": {
    "colab": {
     "base_uri": "https://localhost:8080/"
    },
    "id": "A1hcb4mp7BPL",
    "outputId": "cee4a5d7-07b6-46eb-85d1-13a7d3983a9c"
   },
   "outputs": [
    {
     "name": "stdout",
     "output_type": "stream",
     "text": [
      "\u001b[1mBatch Size is : 32\u001b[0m\n",
      "Epoch 1/20 : Training loss: 2.3025 | Training Accuracy: 9.8917\n",
      "Epoch 2/20 : Training loss: 2.3025 | Training Accuracy: 9.8900\n",
      "Epoch 3/20 : Training loss: 2.3025 | Training Accuracy: 9.8867\n",
      "Epoch 4/20 : Training loss: 2.3025 | Training Accuracy: 9.8783\n",
      "Epoch 5/20 : Training loss: 2.3025 | Training Accuracy: 9.8750\n",
      "Epoch 6/20 : Training loss: 2.3025 | Training Accuracy: 9.8600\n",
      "Epoch 7/20 : Training loss: 2.3025 | Training Accuracy: 9.8533\n",
      "Epoch 8/20 : Training loss: 2.3024 | Training Accuracy: 9.8317\n",
      "Epoch 9/20 : Training loss: 2.3024 | Training Accuracy: 9.8100\n",
      "Epoch 10/20 : Training loss: 2.3024 | Training Accuracy: 9.7617\n",
      "Epoch 11/20 : Training loss: 2.3024 | Training Accuracy: 9.7233\n",
      "Epoch 12/20 : Training loss: 2.3024 | Training Accuracy: 9.6633\n",
      "Epoch 13/20 : Training loss: 2.3024 | Training Accuracy: 9.5933\n",
      "Epoch 14/20 : Training loss: 2.3024 | Training Accuracy: 9.5083\n",
      "Epoch 15/20 : Training loss: 2.3023 | Training Accuracy: 9.4100\n",
      "Epoch 16/20 : Training loss: 2.3023 | Training Accuracy: 9.3067\n",
      "Epoch 17/20 : Training loss: 2.3023 | Training Accuracy: 9.1367\n",
      "Epoch 18/20 : Training loss: 2.3023 | Training Accuracy: 8.9817\n",
      "Epoch 19/20 : Training loss: 2.3023 | Training Accuracy: 8.8383\n",
      "Epoch 20/20 : Training loss: 2.3023 | Training Accuracy: 8.7067\n",
      "\u001b[1mTest Loss for Batch Size : 32 is 2.3022647857666017 and Test Accuracy is: 0.0874\u001b[0m\n",
      "----------------------------------------------------------------------------------------------------------------------------------------\n",
      "\n",
      "\n",
      "\u001b[1mBatch Size is : 64\u001b[0m\n",
      "Epoch 1/20 : Training loss: 2.3024 | Training Accuracy: 14.4800\n",
      "Epoch 2/20 : Training loss: 2.3024 | Training Accuracy: 14.5267\n",
      "Epoch 3/20 : Training loss: 2.3024 | Training Accuracy: 14.6050\n",
      "Epoch 4/20 : Training loss: 2.3024 | Training Accuracy: 14.7283\n",
      "Epoch 5/20 : Training loss: 2.3024 | Training Accuracy: 14.8500\n",
      "Epoch 6/20 : Training loss: 2.3024 | Training Accuracy: 14.9900\n",
      "Epoch 7/20 : Training loss: 2.3024 | Training Accuracy: 15.1533\n",
      "Epoch 8/20 : Training loss: 2.3023 | Training Accuracy: 15.3017\n",
      "Epoch 9/20 : Training loss: 2.3023 | Training Accuracy: 15.4717\n",
      "Epoch 10/20 : Training loss: 2.3023 | Training Accuracy: 15.6067\n",
      "Epoch 11/20 : Training loss: 2.3023 | Training Accuracy: 15.7500\n",
      "Epoch 12/20 : Training loss: 2.3022 | Training Accuracy: 15.9150\n",
      "Epoch 13/20 : Training loss: 2.3022 | Training Accuracy: 16.0633\n",
      "Epoch 14/20 : Training loss: 2.3022 | Training Accuracy: 16.2067\n",
      "Epoch 15/20 : Training loss: 2.3021 | Training Accuracy: 16.3450\n",
      "Epoch 16/20 : Training loss: 2.3021 | Training Accuracy: 16.4700\n",
      "Epoch 17/20 : Training loss: 2.3021 | Training Accuracy: 16.6183\n",
      "Epoch 18/20 : Training loss: 2.3020 | Training Accuracy: 16.7467\n",
      "Epoch 19/20 : Training loss: 2.3020 | Training Accuracy: 16.8417\n",
      "Epoch 20/20 : Training loss: 2.3020 | Training Accuracy: 16.9333\n",
      "\u001b[1mTest Loss for Batch Size : 64 is 2.3020151138305662 and Test Accuracy is: 0.1711\u001b[0m\n",
      "----------------------------------------------------------------------------------------------------------------------------------------\n",
      "\n",
      "\n",
      "\u001b[1mBatch Size is : 128\u001b[0m\n",
      "Epoch 1/20 : Training loss: 2.3028 | Training Accuracy: 11.1700\n",
      "Epoch 2/20 : Training loss: 2.3028 | Training Accuracy: 11.1917\n",
      "Epoch 3/20 : Training loss: 2.3028 | Training Accuracy: 11.2383\n",
      "Epoch 4/20 : Training loss: 2.3028 | Training Accuracy: 11.2883\n",
      "Epoch 5/20 : Training loss: 2.3027 | Training Accuracy: 11.3517\n",
      "Epoch 6/20 : Training loss: 2.3027 | Training Accuracy: 11.4267\n",
      "Epoch 7/20 : Training loss: 2.3027 | Training Accuracy: 11.4933\n",
      "Epoch 8/20 : Training loss: 2.3027 | Training Accuracy: 11.5650\n",
      "Epoch 9/20 : Training loss: 2.3027 | Training Accuracy: 11.6117\n",
      "Epoch 10/20 : Training loss: 2.3027 | Training Accuracy: 11.6717\n",
      "Epoch 11/20 : Training loss: 2.3027 | Training Accuracy: 11.7533\n",
      "Epoch 12/20 : Training loss: 2.3027 | Training Accuracy: 11.8467\n",
      "Epoch 13/20 : Training loss: 2.3027 | Training Accuracy: 11.9167\n",
      "Epoch 14/20 : Training loss: 2.3027 | Training Accuracy: 11.9983\n",
      "Epoch 15/20 : Training loss: 2.3027 | Training Accuracy: 12.0750\n",
      "Epoch 16/20 : Training loss: 2.3027 | Training Accuracy: 12.1600\n",
      "Epoch 17/20 : Training loss: 2.3027 | Training Accuracy: 12.2500\n",
      "Epoch 18/20 : Training loss: 2.3027 | Training Accuracy: 12.3183\n",
      "Epoch 19/20 : Training loss: 2.3026 | Training Accuracy: 12.3733\n",
      "Epoch 20/20 : Training loss: 2.3026 | Training Accuracy: 12.4367\n",
      "\u001b[1mTest Loss for Batch Size : 128 is 2.3025415420532225 and Test Accuracy is: 0.1222\u001b[0m\n",
      "----------------------------------------------------------------------------------------------------------------------------------------\n",
      "\n",
      "\n",
      "\u001b[1mBatch Size is : 256\u001b[0m\n",
      "Epoch 1/20 : Training loss: 2.3026 | Training Accuracy: 9.9300\n",
      "Epoch 2/20 : Training loss: 2.3026 | Training Accuracy: 9.9300\n",
      "Epoch 3/20 : Training loss: 2.3026 | Training Accuracy: 9.9300\n",
      "Epoch 4/20 : Training loss: 2.3026 | Training Accuracy: 9.9300\n",
      "Epoch 5/20 : Training loss: 2.3026 | Training Accuracy: 9.9300\n",
      "Epoch 6/20 : Training loss: 2.3025 | Training Accuracy: 9.9300\n",
      "Epoch 7/20 : Training loss: 2.3025 | Training Accuracy: 9.9300\n",
      "Epoch 8/20 : Training loss: 2.3025 | Training Accuracy: 9.9300\n",
      "Epoch 9/20 : Training loss: 2.3025 | Training Accuracy: 9.9300\n",
      "Epoch 10/20 : Training loss: 2.3025 | Training Accuracy: 9.9300\n",
      "Epoch 11/20 : Training loss: 2.3025 | Training Accuracy: 9.9300\n",
      "Epoch 12/20 : Training loss: 2.3025 | Training Accuracy: 9.9300\n",
      "Epoch 13/20 : Training loss: 2.3025 | Training Accuracy: 9.9300\n",
      "Epoch 14/20 : Training loss: 2.3025 | Training Accuracy: 9.9300\n",
      "Epoch 15/20 : Training loss: 2.3025 | Training Accuracy: 9.9300\n",
      "Epoch 16/20 : Training loss: 2.3025 | Training Accuracy: 9.9300\n",
      "Epoch 17/20 : Training loss: 2.3025 | Training Accuracy: 9.9300\n",
      "Epoch 18/20 : Training loss: 2.3025 | Training Accuracy: 9.9300\n",
      "Epoch 19/20 : Training loss: 2.3025 | Training Accuracy: 9.9300\n",
      "Epoch 20/20 : Training loss: 2.3024 | Training Accuracy: 9.9300\n",
      "\u001b[1mTest Loss for Batch Size : 256 is 2.3023439407348634 and Test Accuracy is: 0.1032\u001b[0m\n",
      "----------------------------------------------------------------------------------------------------------------------------------------\n",
      "\n",
      "\n",
      "\u001b[1mBatch Size is : 1024\u001b[0m\n",
      "Epoch 1/20 : Training loss: 2.3027 | Training Accuracy: 9.7367\n",
      "Epoch 2/20 : Training loss: 2.3027 | Training Accuracy: 9.7367\n",
      "Epoch 3/20 : Training loss: 2.3026 | Training Accuracy: 9.7367\n",
      "Epoch 4/20 : Training loss: 2.3026 | Training Accuracy: 9.7367\n",
      "Epoch 5/20 : Training loss: 2.3026 | Training Accuracy: 9.7367\n",
      "Epoch 6/20 : Training loss: 2.3026 | Training Accuracy: 9.7367\n",
      "Epoch 7/20 : Training loss: 2.3026 | Training Accuracy: 9.7367\n",
      "Epoch 8/20 : Training loss: 2.3026 | Training Accuracy: 9.7367\n",
      "Epoch 9/20 : Training loss: 2.3026 | Training Accuracy: 9.7367\n",
      "Epoch 10/20 : Training loss: 2.3026 | Training Accuracy: 9.7367\n",
      "Epoch 11/20 : Training loss: 2.3026 | Training Accuracy: 9.7367\n",
      "Epoch 12/20 : Training loss: 2.3026 | Training Accuracy: 9.7367\n",
      "Epoch 13/20 : Training loss: 2.3026 | Training Accuracy: 9.7367\n",
      "Epoch 14/20 : Training loss: 2.3026 | Training Accuracy: 9.7367\n",
      "Epoch 15/20 : Training loss: 2.3026 | Training Accuracy: 9.7367\n",
      "Epoch 16/20 : Training loss: 2.3026 | Training Accuracy: 9.7367\n",
      "Epoch 17/20 : Training loss: 2.3026 | Training Accuracy: 9.7367\n",
      "Epoch 18/20 : Training loss: 2.3026 | Training Accuracy: 9.7367\n",
      "Epoch 19/20 : Training loss: 2.3026 | Training Accuracy: 9.7367\n",
      "Epoch 20/20 : Training loss: 2.3025 | Training Accuracy: 9.7367\n",
      "\u001b[1mTest Loss for Batch Size : 1024 is 2.3025514602661135 and Test Accuracy is: 0.0982\u001b[0m\n",
      "----------------------------------------------------------------------------------------------------------------------------------------\n",
      "\n",
      "\n"
     ]
    }
   ],
   "source": [
    "train_loss_new = [[] for i in range(5)]\n",
    "train_acc_new = [[] for i in range(5)]\n",
    "\n",
    "y = 0\n",
    "\n",
    "for k in range(5):\n",
    "\n",
    "    class LeNet(nn.Module):\n",
    "\n",
    "    def __init__(self):\n",
    "        super(LeNet, self).__init__()\n",
    "        self.conv1 = nn.Conv2d(1, 6, kernel_size=5)\n",
    "        self.pool1 = nn.MaxPool2d(kernel_size=2,stride=2)\n",
    "        self.conv2 = nn.Conv2d(6, 16, kernel_size=5)\n",
    "        self.pool2 = nn.MaxPool2d(kernel_size=2,stride=2)        \n",
    "        self.fc1 = nn.Linear(400, 120)\n",
    "        self.fc2 = nn.Linear(120, 84)\n",
    "        self.fc3 = nn.Linear(84, 10)\n",
    "\n",
    "    def forward(self, x):\n",
    "        x = F.relu(self.conv1(x))\n",
    "        x = self.pool1(x)\n",
    "        x = F.relu(self.conv2(x))\n",
    "        x = self.pool2(x)\n",
    "        x = x.view(-1, 400)\n",
    "        x = F.relu(self.fc1(x)) \n",
    "        x = F.relu(self.fc2(x))\n",
    "        x = self.fc3(x)\n",
    "        return F.softmax(x,dim=1)\n",
    "        \n",
    "\n",
    "    net = LeNet()\n",
    "\n",
    "    trainLoader_new = torch.utils.data.DataLoader(trainset_new, batch_size=BatchSize_new[k],shuffle=True, num_workers=0) # Creating dataloader \n",
    "    testLoader_new = torch.utils.data.DataLoader(testset_new, batch_size=BatchSize_new[k], shuffle=False, num_workers=0) # Creating dataloader\n",
    "\n",
    "    optimizer_new = optim.SGD(net.parameters(), lr=learning_rate_new, momentum=0.8) # SGD\n",
    "\n",
    "    print(color.BOLD + \"Batch Size is : {}\".format(BatchSize_new[k]) + color.END)\n",
    "\n",
    "    for epoch in range(num_epochs_new):\n",
    "\n",
    "        running_loss = 0.0 \n",
    "        running_corr = 0\n",
    "\n",
    "        for i,data in enumerate(trainLoader_new):\n",
    "            inputs,labels = data\n",
    "            # Initializing model gradients to zero\n",
    "            optimizer_new.zero_grad() \n",
    "            # Data feed-forward through the network\n",
    "            outputs_new = net(inputs)\n",
    "            # Predicted class is the one with maximum probability\n",
    "            preds_new = torch.argmax(outputs_new,dim=1)\n",
    "            # Finding the loss\n",
    "            loss = criterion(outputs_new, labels)\n",
    "            # Accumulating the loss for each batch\n",
    "            running_loss += loss \n",
    "            # Accumulate number of correct predictions\n",
    "            running_corr += torch.sum(preds_new==labels)    \n",
    "\n",
    "        totalLoss_new = running_loss/(i+1)\n",
    "        # Calculating gradients\n",
    "        totalLoss_new.backward()\n",
    "        # Updating the model parameters\n",
    "        # Updating the model parameters\n",
    "        optimizer_new.step()\n",
    "\n",
    "        epoch_loss = running_loss.item()/(i+1)   #Total loss for one epoch\n",
    "        epoch_acc = running_corr.item()/60000\n",
    "\n",
    "\n",
    "\n",
    "        train_loss_new[y].append(epoch_loss) #Saving the loss over epochs for plotting the graph\n",
    "        train_acc_new[y].append(epoch_acc) #Saving the accuracy over epochs for plotting the graph\n",
    "\n",
    "\n",
    "        print('Epoch {:.0f}/{:.0f} : Training loss: {:.4f} | Training Accuracy: {:.4f}'.format(epoch+1,num_epochs_new,epoch_loss,epoch_acc*100))\n",
    "\n",
    "  \n",
    "    test_loss,test_acc = calc_test_loss_VaryingBatch(testLoader_new)\n",
    "    print(color.BOLD + \"Test Loss for Batch Size : {} is {} and Test Accuracy is: {}\".format(BatchSize_new[k] , test_loss , test_acc) + color.END)\n",
    "    y = y + 1\n",
    "\n",
    "    print('----------------------------------------------------------------------------------------------------------------------------------------')\n",
    "    print('\\n')\n"
   ]
  },
  {
   "cell_type": "code",
   "execution_count": 29,
   "metadata": {
    "colab": {
     "base_uri": "https://localhost:8080/",
     "height": 368
    },
    "id": "tpWJC43556nW",
    "outputId": "6bbf6ee9-f282-4002-9b17-e25fa5a8240b"
   },
   "outputs": [
    {
     "name": "stdout",
     "output_type": "stream",
     "text": [
      "\u001b[1m----------------------- Train_Loss vs No. of Epochs and Train_Accuracy vs No. of Epochs For Varying Batch Size -----------------------------------------------\u001b[0m\n"
     ]
    },
    {
     "data": {
      "text/plain": [
       "Text(0, 0.5, 'Accuracy')"
      ]
     },
     "execution_count": 29,
     "metadata": {
      "tags": []
     },
     "output_type": "execute_result"
    },
    {
     "data": {
      "image/png": "[encoded data removed]",
      "text/plain": [
       "<Figure size 1080x360 with 2 Axes>"
      ]
     },
     "metadata": {
      "needs_background": "light",
      "tags": []
     },
     "output_type": "display_data"
    }
   ],
   "source": [
    "print(color.BOLD + \"----------------------- Train_Loss vs No. of Epochs and Train_Accuracy vs No. of Epochs For Varying Batch Size -----------------------------------------------\" + color.END)\n",
    "#for i in range(5):\n",
    "fig = plt.figure(figsize=[15,5]) \n",
    "plt.subplot(121)\n",
    "plt.plot(range(num_epochs_new),train_loss_new[0],'r-',label='Batch Size = 32') \n",
    "plt.plot(range(num_epochs_new),train_loss_new[1],'r-',color = 'blue', label='Batch Size = 64')\n",
    "plt.plot(range(num_epochs_new),train_loss_new[2],'r-',color = 'black' , label='Batch Size = 128')\n",
    "plt.plot(range(num_epochs_new),train_loss_new[3],'r-',color = 'green' , label='Batch Size = 256')\n",
    "plt.plot(range(num_epochs_new),train_loss_new[4],'r-',color = 'yellow' , label='Batch Size = 1024')\n",
    "\n",
    "#plt.title(\"Batch Size is : {}\".format(BatchSize_new[i]))\n",
    "plt.legend(loc='upper right')\n",
    "plt.xlabel('Epochs')\n",
    "plt.ylabel('Loss')\n",
    "plt.subplot(122)\n",
    "\n",
    "plt.plot(range(num_epochs_new),train_acc_new[0],'g-',color = 'red' , label='Batch Size = 32') \n",
    "plt.plot(range(num_epochs_new),train_acc_new[1],'g-',color = 'blue' , label='Batch Size = 64') \n",
    "plt.plot(range(num_epochs_new),train_acc_new[2],'g-',color = 'black' , label='Batch Size = 128') \n",
    "plt.plot(range(num_epochs_new),train_acc_new[3],'g-',color = 'green' , label='Batch Size = 256') \n",
    "plt.plot(range(num_epochs_new),train_acc_new[4],'g-',color = 'yellow' , label='Batch Size = 1024') \n",
    "\n",
    "#plt.title(\"Batch Size is : {}\".format(BatchSize_new[i]))\n",
    "plt.legend(loc='upper right')\n",
    "plt.xlabel('Epochs')\n",
    "plt.ylabel('Accuracy')"
   ]
  },
  {
   "cell_type": "code",
   "execution_count": 28,
   "metadata": {
    "colab": {
     "base_uri": "https://localhost:8080/",
     "height": 368
    },
    "id": "WrDGByp78H4Z",
    "outputId": "1dc51a3a-0c25-497e-a7a8-8acf77658335"
   },
   "outputs": [
    {
     "name": "stdout",
     "output_type": "stream",
     "text": [
      "\u001b[1m--------------------Test Loss and Test Accuracy plots as a function of Batch Size ---------------\u001b[0m\n"
     ]
    },
    {
     "data": {
      "text/plain": [
       "Text(0.5, 0, 'Learning Rates')"
      ]
     },
     "execution_count": 28,
     "metadata": {
      "tags": []
     },
     "output_type": "execute_result"
    },
    {
     "data": {
      "image/png": "[encoded data removed]",
      "text/plain": [
       "<Figure size 1080x360 with 2 Axes>"
      ]
     },
     "metadata": {
      "needs_background": "light",
      "tags": []
     },
     "output_type": "display_data"
    }
   ],
   "source": [
    "test_loss_vals = [2.302201271057129,  2.302358627319336    , 2.301766204833984   , 2.302089309692383   ,  2.3020837783813475  ]\n",
    "test_acc_vals = [0.1032,0.0974,0.1081,0.0958,0.1032]\n",
    "Batch_size_vals = [1024,256,128,64,32]\n",
    "\n",
    "print(color.BOLD + \"--------------------Test Loss and Test Accuracy plots as a function of Batch Size ---------------\" + color.END)\n",
    "\n",
    "fig = plt.figure(figsize=[15,5]) \n",
    "plt.subplot(121)\n",
    "plt.plot(Batch_size_vals ,test_loss_vals , 'r-',label = 'Test Loss')\n",
    "plt.ylabel(\"Test Loss\")\n",
    "plt.xlabel(\"Learning Rates\")\n",
    "\n",
    "plt.subplot(122)\n",
    "plt.plot( Batch_size_vals , test_acc_vals , 'g-',label = 'Test Accuracy')\n",
    "plt.ylabel(\"Test Accuracy\")\n",
    "plt.xlabel(\"Batch Size\")"
   ]
  },
  {
   "cell_type": "markdown",
   "metadata": {
    "id": "_8Xr-9td0UBP"
   },
   "source": [
    "#### **Function to calculate Test Accuracy and Test Loss**"
   ]
  },
  {
   "cell_type": "code",
   "execution_count": 33,
   "metadata": {
    "id": "pyfGgXYrh63c"
   },
   "outputs": [],
   "source": [
    "#####-------- Function to calculate Test Accuracy and Test Loss-----------###################\n",
    "\n",
    "\n",
    "def calc_test_loss():          \n",
    "    test_loss = []\n",
    "    test_acc = []\n",
    "\n",
    "    running_loss = 0.0 \n",
    "    running_corr = 0\n",
    "\n",
    "    testLoader_from_model = testLoader\n",
    "      \n",
    "    for i, data in enumerate(testLoader):\n",
    "        inputs,labels = data\n",
    "        # Initializing model gradients to zero\n",
    "        #optimizer2.zero_grad() \n",
    "        # Data feed-forward through the network\n",
    "        outputs = net(inputs)\n",
    "        # Predicted class is the one with maximum probability\n",
    "        preds = torch.argmax(outputs,dim=1)\n",
    "        # Finding the loss\n",
    "        loss = criterion(outputs, labels)\n",
    "        # Accumulating the loss for each batch\n",
    "        running_loss += loss \n",
    "        # Accumulate number of correct predictions\n",
    "        running_corr += torch.sum(preds==labels)    \n",
    "      \n",
    "    totalLoss = running_loss/(i+1)\n",
    "    # Calculating gradients\n",
    "    #totalLoss2.backward()\n",
    "    # Updating the model parameters\n",
    "    # Updating the model parameters\n",
    "    #optimizer2.step()\n",
    "      \n",
    "    epoch_loss = running_loss.item()/(i+1)   #Total loss for one epoch\n",
    "    epoch_acc = running_corr.item()/10000\n",
    "  \n",
    "  \n",
    "      \n",
    "    test_loss.append(epoch_loss) #Saving the loss over epochs for plotting the graph\n",
    "    test_acc.append(epoch_acc) #Saving the accuracy over epochs for plotting the graph\n",
    "\n",
    "\n",
    "    #print('Epoch {:.0f}/{:.0f} : Training loss: {:.4f} | Training Accuracy: {:.4f}'.format(epoch+1,num_epochs2,epoch_loss,epoch_acc*100))\n",
    "    return np.mean(test_loss) , np.mean(test_acc)"
   ]
  },
  {
   "cell_type": "markdown",
   "metadata": {
    "id": "sCqmCrPtVCIC"
   },
   "source": [
    "#### **Q6.b) Varying the Learning Rates**"
   ]
  },
  {
   "cell_type": "code",
   "execution_count": 35,
   "metadata": {
    "colab": {
     "base_uri": "https://localhost:8080/"
    },
    "id": "hd1m2641xv3e",
    "outputId": "b9b2b214-e4be-4224-d311-86e712ebe8e0"
   },
   "outputs": [
    {
     "name": "stdout",
     "output_type": "stream",
     "text": [
      "\u001b[1mLearning Rate is :\u001b[0m\n",
      "0.025\n",
      "Epoch 1/20 : Training loss: 2.3025 | Training Accuracy: 11.2367\n",
      "Epoch 2/20 : Training loss: 2.3025 | Training Accuracy: 11.2367\n",
      "Epoch 3/20 : Training loss: 2.3025 | Training Accuracy: 11.2367\n",
      "Epoch 4/20 : Training loss: 2.3025 | Training Accuracy: 11.2367\n",
      "Epoch 5/20 : Training loss: 2.3025 | Training Accuracy: 11.2367\n",
      "Epoch 6/20 : Training loss: 2.3025 | Training Accuracy: 11.2367\n",
      "Epoch 7/20 : Training loss: 2.3025 | Training Accuracy: 11.2367\n",
      "Epoch 8/20 : Training loss: 2.3025 | Training Accuracy: 11.2367\n",
      "Epoch 9/20 : Training loss: 2.3025 | Training Accuracy: 11.2367\n",
      "Epoch 10/20 : Training loss: 2.3025 | Training Accuracy: 11.2367\n",
      "Epoch 11/20 : Training loss: 2.3025 | Training Accuracy: 11.2367\n",
      "Epoch 12/20 : Training loss: 2.3025 | Training Accuracy: 11.2367\n",
      "Epoch 13/20 : Training loss: 2.3025 | Training Accuracy: 11.2367\n",
      "Epoch 14/20 : Training loss: 2.3025 | Training Accuracy: 11.2367\n",
      "Epoch 15/20 : Training loss: 2.3025 | Training Accuracy: 11.2367\n",
      "Epoch 16/20 : Training loss: 2.3025 | Training Accuracy: 11.2367\n",
      "Epoch 17/20 : Training loss: 2.3024 | Training Accuracy: 11.2367\n",
      "Epoch 18/20 : Training loss: 2.3024 | Training Accuracy: 11.2367\n",
      "Epoch 19/20 : Training loss: 2.3024 | Training Accuracy: 11.2367\n",
      "Epoch 20/20 : Training loss: 2.3024 | Training Accuracy: 11.2367\n",
      "\u001b[1mTest Loss for learning rate : 0.025 is 2.302425765991211 and Test Accuracy is: 0.1135\u001b[0m\n",
      "----------------------------------------------------------------------------------------------------------------------------------------\n",
      "\n",
      "\n",
      "\u001b[1mLearning Rate is :\u001b[0m\n",
      "0.05\n",
      "Epoch 1/20 : Training loss: 2.3025 | Training Accuracy: 9.9150\n",
      "Epoch 2/20 : Training loss: 2.3025 | Training Accuracy: 9.9167\n",
      "Epoch 3/20 : Training loss: 2.3025 | Training Accuracy: 9.9150\n",
      "Epoch 4/20 : Training loss: 2.3025 | Training Accuracy: 9.9133\n",
      "Epoch 5/20 : Training loss: 2.3025 | Training Accuracy: 9.9133\n",
      "Epoch 6/20 : Training loss: 2.3025 | Training Accuracy: 9.9183\n",
      "Epoch 7/20 : Training loss: 2.3025 | Training Accuracy: 9.9267\n",
      "Epoch 8/20 : Training loss: 2.3025 | Training Accuracy: 9.9417\n",
      "Epoch 9/20 : Training loss: 2.3025 | Training Accuracy: 9.9733\n",
      "Epoch 10/20 : Training loss: 2.3025 | Training Accuracy: 10.0233\n",
      "Epoch 11/20 : Training loss: 2.3025 | Training Accuracy: 10.1300\n",
      "Epoch 12/20 : Training loss: 2.3025 | Training Accuracy: 10.3567\n",
      "Epoch 13/20 : Training loss: 2.3024 | Training Accuracy: 10.7300\n",
      "Epoch 14/20 : Training loss: 2.3024 | Training Accuracy: 11.3317\n",
      "Epoch 15/20 : Training loss: 2.3024 | Training Accuracy: 12.2250\n",
      "Epoch 16/20 : Training loss: 2.3024 | Training Accuracy: 13.3600\n",
      "Epoch 17/20 : Training loss: 2.3024 | Training Accuracy: 14.6883\n",
      "Epoch 18/20 : Training loss: 2.3024 | Training Accuracy: 15.9933\n",
      "Epoch 19/20 : Training loss: 2.3024 | Training Accuracy: 17.1233\n",
      "Epoch 20/20 : Training loss: 2.3023 | Training Accuracy: 18.0750\n",
      "\u001b[1mTest Loss for learning rate : 0.05 is 2.3022899627685547 and Test Accuracy is: 0.1888\u001b[0m\n",
      "----------------------------------------------------------------------------------------------------------------------------------------\n",
      "\n",
      "\n",
      "\u001b[1mLearning Rate is :\u001b[0m\n",
      "0.1\n",
      "Epoch 1/20 : Training loss: 2.3027 | Training Accuracy: 12.0267\n",
      "Epoch 2/20 : Training loss: 2.3027 | Training Accuracy: 12.0533\n",
      "Epoch 3/20 : Training loss: 2.3027 | Training Accuracy: 12.1000\n",
      "Epoch 4/20 : Training loss: 2.3027 | Training Accuracy: 12.1600\n",
      "Epoch 5/20 : Training loss: 2.3027 | Training Accuracy: 12.2383\n",
      "Epoch 6/20 : Training loss: 2.3027 | Training Accuracy: 12.3267\n",
      "Epoch 7/20 : Training loss: 2.3026 | Training Accuracy: 12.4367\n",
      "Epoch 8/20 : Training loss: 2.3026 | Training Accuracy: 12.5767\n",
      "Epoch 9/20 : Training loss: 2.3026 | Training Accuracy: 12.7083\n",
      "Epoch 10/20 : Training loss: 2.3026 | Training Accuracy: 12.9150\n",
      "Epoch 11/20 : Training loss: 2.3026 | Training Accuracy: 13.1550\n",
      "Epoch 12/20 : Training loss: 2.3025 | Training Accuracy: 13.4100\n",
      "Epoch 13/20 : Training loss: 2.3025 | Training Accuracy: 13.7483\n",
      "Epoch 14/20 : Training loss: 2.3025 | Training Accuracy: 14.0200\n",
      "Epoch 15/20 : Training loss: 2.3025 | Training Accuracy: 14.3733\n",
      "Epoch 16/20 : Training loss: 2.3025 | Training Accuracy: 14.7250\n",
      "Epoch 17/20 : Training loss: 2.3024 | Training Accuracy: 15.0733\n",
      "Epoch 18/20 : Training loss: 2.3024 | Training Accuracy: 15.4217\n",
      "Epoch 19/20 : Training loss: 2.3024 | Training Accuracy: 15.7517\n",
      "Epoch 20/20 : Training loss: 2.3024 | Training Accuracy: 16.0633\n",
      "\u001b[1mTest Loss for learning rate : 0.1 is 2.302402877807617 and Test Accuracy is: 0.1581\u001b[0m\n",
      "----------------------------------------------------------------------------------------------------------------------------------------\n",
      "\n",
      "\n",
      "\u001b[1mLearning Rate is :\u001b[0m\n",
      "0.2\n",
      "Epoch 1/20 : Training loss: 2.3025 | Training Accuracy: 9.7517\n",
      "Epoch 2/20 : Training loss: 2.3025 | Training Accuracy: 9.7517\n",
      "Epoch 3/20 : Training loss: 2.3024 | Training Accuracy: 9.7517\n",
      "Epoch 4/20 : Training loss: 2.3024 | Training Accuracy: 9.7517\n",
      "Epoch 5/20 : Training loss: 2.3024 | Training Accuracy: 9.7517\n",
      "Epoch 6/20 : Training loss: 2.3024 | Training Accuracy: 9.7517\n",
      "Epoch 7/20 : Training loss: 2.3024 | Training Accuracy: 9.7517\n",
      "Epoch 8/20 : Training loss: 2.3024 | Training Accuracy: 9.7517\n",
      "Epoch 9/20 : Training loss: 2.3024 | Training Accuracy: 9.7517\n",
      "Epoch 10/20 : Training loss: 2.3023 | Training Accuracy: 9.7517\n",
      "Epoch 11/20 : Training loss: 2.3023 | Training Accuracy: 9.7517\n",
      "Epoch 12/20 : Training loss: 2.3023 | Training Accuracy: 9.7517\n",
      "Epoch 13/20 : Training loss: 2.3023 | Training Accuracy: 9.7517\n",
      "Epoch 14/20 : Training loss: 2.3022 | Training Accuracy: 9.7517\n",
      "Epoch 15/20 : Training loss: 2.3022 | Training Accuracy: 9.7517\n",
      "Epoch 16/20 : Training loss: 2.3022 | Training Accuracy: 9.7517\n",
      "Epoch 17/20 : Training loss: 2.3021 | Training Accuracy: 9.7517\n",
      "Epoch 18/20 : Training loss: 2.3021 | Training Accuracy: 9.7517\n",
      "Epoch 19/20 : Training loss: 2.3020 | Training Accuracy: 9.7517\n",
      "Epoch 20/20 : Training loss: 2.3020 | Training Accuracy: 9.7800\n",
      "\u001b[1mTest Loss for learning rate : 0.2 is 2.301945114135742 and Test Accuracy is: 0.1056\u001b[0m\n",
      "----------------------------------------------------------------------------------------------------------------------------------------\n",
      "\n",
      "\n",
      "\u001b[1mLearning Rate is :\u001b[0m\n",
      "0.5\n",
      "Epoch 1/20 : Training loss: 2.3025 | Training Accuracy: 9.8717\n",
      "Epoch 2/20 : Training loss: 2.3025 | Training Accuracy: 9.8717\n",
      "Epoch 3/20 : Training loss: 2.3024 | Training Accuracy: 9.8717\n",
      "Epoch 4/20 : Training loss: 2.3024 | Training Accuracy: 9.8717\n",
      "Epoch 5/20 : Training loss: 2.3023 | Training Accuracy: 9.8717\n",
      "Epoch 6/20 : Training loss: 2.3023 | Training Accuracy: 9.8717\n",
      "Epoch 7/20 : Training loss: 2.3022 | Training Accuracy: 9.8717\n",
      "Epoch 8/20 : Training loss: 2.3022 | Training Accuracy: 9.8733\n",
      "Epoch 9/20 : Training loss: 2.3021 | Training Accuracy: 9.9200\n",
      "Epoch 10/20 : Training loss: 2.3020 | Training Accuracy: 10.1550\n",
      "Epoch 11/20 : Training loss: 2.3019 | Training Accuracy: 11.0067\n",
      "Epoch 12/20 : Training loss: 2.3018 | Training Accuracy: 12.8133\n",
      "Epoch 13/20 : Training loss: 2.3017 | Training Accuracy: 15.1050\n",
      "Epoch 14/20 : Training loss: 2.3016 | Training Accuracy: 17.3583\n",
      "Epoch 15/20 : Training loss: 2.3015 | Training Accuracy: 18.7917\n",
      "Epoch 16/20 : Training loss: 2.3013 | Training Accuracy: 19.4850\n",
      "Epoch 17/20 : Training loss: 2.3012 | Training Accuracy: 19.9317\n",
      "Epoch 18/20 : Training loss: 2.3010 | Training Accuracy: 20.2750\n",
      "Epoch 19/20 : Training loss: 2.3009 | Training Accuracy: 21.8417\n",
      "Epoch 20/20 : Training loss: 2.3006 | Training Accuracy: 25.0133\n",
      "\u001b[1mTest Loss for learning rate : 0.5 is 2.3003208160400392 and Test Accuracy is: 0.2865\u001b[0m\n",
      "----------------------------------------------------------------------------------------------------------------------------------------\n",
      "\n",
      "\n"
     ]
    }
   ],
   "source": [
    "criterion = nn.CrossEntropyLoss() \n",
    "learning_rate = [ 0.025, 0.05, 0.1, 0.2 ,0.5]\n",
    "num_epochs = 20\n",
    "train_loss = [[] for i in range(5)]\n",
    "train_acc = [[] for i in range(5)]\n",
    "m = 0\n",
    "for j in learning_rate:\n",
    "\n",
    "    class LeNet(nn.Module):\n",
    "  \n",
    "        def __init__(self):\n",
    "            super(LeNet, self).__init__()\n",
    "            self.conv1 = nn.Conv2d(1, 6, kernel_size=5)\n",
    "            self.pool1 = nn.MaxPool2d(kernel_size=2,stride=2)\n",
    "            self.conv2 = nn.Conv2d(6, 16, kernel_size=5)\n",
    "            self.pool2 = nn.MaxPool2d(kernel_size=2,stride=2)        \n",
    "            self.fc1 = nn.Linear(400, 120)\n",
    "            self.fc2 = nn.Linear(120, 84)\n",
    "            self.fc3 = nn.Linear(84, 10)\n",
    "\n",
    "        def forward(self, x):\n",
    "            x = F.relu(self.conv1(x))\n",
    "            x = self.pool1(x)\n",
    "            x = F.relu(self.conv2(x))\n",
    "            x = self.pool2(x)\n",
    "            x = x.view(-1, 400)\n",
    "            x = F.relu(self.fc1(x)) \n",
    "            x = F.relu(self.fc2(x))\n",
    "            x = self.fc3(x)\n",
    "            return F.softmax(x,dim=1)\n",
    "        \n",
    "\n",
    "    net = LeNet()\n",
    "\n",
    "    optimizer1 = optim.SGD(net.parameters(), lr=j, momentum = 0.9) # SGD\n",
    "    print(color.BOLD + \"Learning Rate is :\"  + color.END)\n",
    "    print(j)\n",
    "    \n",
    "    for epoch in range(num_epochs):\n",
    "        running_loss = 0.0 \n",
    "        running_corr = 0\n",
    "\n",
    "\n",
    "        for i,data in enumerate(trainLoader):\n",
    "            inputs,labels = data\n",
    "            # Initializing model gradients to zero\n",
    "            optimizer1.zero_grad() \n",
    "            # Data feed-forward through the network\n",
    "            outputs = net(inputs)\n",
    "            # Predicted class is the one with maximum probability\n",
    "            preds = torch.argmax(outputs,dim=1)\n",
    "            # Finding the loss\n",
    "            loss = criterion(outputs, labels) \n",
    "            # Accumulating the loss for each batch\n",
    "            running_loss += loss \n",
    "            # Accumulate number of correct predictions\n",
    "            running_corr += torch.sum(preds==labels)    \n",
    "\n",
    "        totalLoss = running_loss/(i+1)\n",
    "        # Calculating gradients\n",
    "        totalLoss.backward()\n",
    "        # Updating the model parameters\n",
    "        optimizer1.step()\n",
    "\n",
    "        epoch_loss = running_loss.item()/(i+1)   #Total loss for one epoch\n",
    "        epoch_acc = running_corr.item()/60000\n",
    "\n",
    "\n",
    "\n",
    "        train_loss[m].append(epoch_loss) #Saving the loss over epochs for plotting the graph\n",
    "        train_acc[m].append(epoch_acc) #Saving the accuracy over epochs for plotting the graph\n",
    "\n",
    "        \n",
    "\n",
    "        print('Epoch {:.0f}/{:.0f} : Training loss: {:.4f} | Training Accuracy: {:.4f}'.format(epoch+1,num_epochs,epoch_loss,epoch_acc*100))\n",
    "        \n",
    "    test_loss,test_acc = calc_test_loss()\n",
    "    print(color.BOLD + \"Test Loss for learning rate : {} is {} and Test Accuracy is: {}\".format(j , test_loss , test_acc) + color.END)\n",
    "\n",
    "    m  = m + 1\n",
    "    print('----------------------------------------------------------------------------------------------------------------------------------------')\n",
    "    print('\\n')"
   ]
  },
  {
   "cell_type": "code",
   "execution_count": 36,
   "metadata": {
    "colab": {
     "base_uri": "https://localhost:8080/",
     "height": 1000
    },
    "id": "7D6GKStXyb3P",
    "outputId": "39cb8f3a-6dd2-41f8-f86f-db0d87a6567a"
   },
   "outputs": [
    {
     "name": "stdout",
     "output_type": "stream",
     "text": [
      "\u001b[1m----------------------- Train_Loss vs No. of Epochs and Train_Accuracy vs No. of Epochs For Varying Learning Rates -----------------------------------------------\u001b[0m\n"
     ]
    },
    {
     "data": {
      "image/png": "[encoded data removed]",
      "text/plain": [
       "<Figure size 1080x360 with 2 Axes>"
      ]
     },
     "metadata": {
      "needs_background": "light",
      "tags": []
     },
     "output_type": "display_data"
    },
    {
     "data": {
      "image/png": "[encoded data removed]",
      "text/plain": [
       "<Figure size 1080x360 with 2 Axes>"
      ]
     },
     "metadata": {
      "needs_background": "light",
      "tags": []
     },
     "output_type": "display_data"
    },
    {
     "data": {
      "image/png": "[encoded data removed]",
      "text/plain": [
       "<Figure size 1080x360 with 2 Axes>"
      ]
     },
     "metadata": {
      "needs_background": "light",
      "tags": []
     },
     "output_type": "display_data"
    },
    {
     "data": {
      "image/png": "[encoded data removed]",
      "text/plain": [
       "<Figure size 1080x360 with 2 Axes>"
      ]
     },
     "metadata": {
      "needs_background": "light",
      "tags": []
     },
     "output_type": "display_data"
    },
    {
     "data": {
      "image/png": "[encoded data removed]",
      "text/plain": [
       "<Figure size 1080x360 with 2 Axes>"
      ]
     },
     "metadata": {
      "needs_background": "light",
      "tags": []
     },
     "output_type": "display_data"
    }
   ],
   "source": [
    "print(color.BOLD + \"----------------------- Train_Loss vs No. of Epochs and Train_Accuracy vs No. of Epochs For Varying Learning Rates -----------------------------------------------\" + color.END)\n",
    "for i in range(5):\n",
    "    fig = plt.figure(figsize=[15,5]) \n",
    "    plt.subplot(121)\n",
    "    plt.plot(range(num_epochs),train_loss[i],'r-',label='Loss') \n",
    "    plt.title(\"Learning Rate is : {}\".format(learning_rate[i]))\n",
    "    plt.legend(loc='upper right')\n",
    "    plt.xlabel('Epochs')\n",
    "    plt.ylabel('Training')\n",
    "    plt.subplot(122)\n",
    "    plt.plot(range(num_epochs),train_acc[i],'g-',label='Accuracy') \n",
    "    plt.title(\"Learning Rate is : {}\".format(learning_rate[i]))\n",
    "    plt.legend(loc='upper right')\n",
    "    plt.xlabel('Epochs')\n",
    "    plt.ylabel('Training')"
   ]
  },
  {
   "cell_type": "code",
   "execution_count": 37,
   "metadata": {
    "colab": {
     "base_uri": "https://localhost:8080/",
     "height": 368
    },
    "id": "9fHXvqlXwHvt",
    "outputId": "4d81fdfe-b431-44b4-b282-648e7c4ecae1"
   },
   "outputs": [
    {
     "name": "stdout",
     "output_type": "stream",
     "text": [
      "\u001b[1m--------------------Test Loss and Test Accuracy plots as a function of Learning Rates---------------\u001b[0m\n"
     ]
    },
    {
     "data": {
      "text/plain": [
       "Text(0.5, 0, 'Learning Rates')"
      ]
     },
     "execution_count": 37,
     "metadata": {
      "tags": []
     },
     "output_type": "execute_result"
    },
    {
     "data": {
      "image/png": "[encoded data removed]",
      "text/plain": [
       "<Figure size 1080x360 with 2 Axes>"
      ]
     },
     "metadata": {
      "needs_background": "light",
      "tags": []
     },
     "output_type": "display_data"
    }
   ],
   "source": [
    "test_loss_vals = [2.3003208160400392  ,2.301945114135742 , 2.302402877807617  , 2.3022899627685547 ,  2.302425765991211  ]\n",
    "test_acc_vals = [0.2865,0.1056,0.1581,0.1888,0.1135]\n",
    "lr_vals = [0.5,0.2,0.1,0.05,0.025]\n",
    "\n",
    "print(color.BOLD + \"--------------------Test Loss and Test Accuracy plots as a function of Learning Rates---------------\" + color.END)\n",
    "\n",
    "fig = plt.figure(figsize=[15,5]) \n",
    "plt.subplot(121)\n",
    "plt.plot(lr_vals ,test_loss_vals , 'r-',label = 'Test Loss')\n",
    "plt.ylabel(\"Test Loss\")\n",
    "plt.xlabel(\"Learning Rates\")\n",
    "\n",
    "plt.subplot(122)\n",
    "plt.plot( lr_vals , test_acc_vals , 'g-',label = 'Test Accuracy')\n",
    "plt.ylabel(\"Test Accuracy\")\n",
    "plt.xlabel(\"Learning Rates\")"
   ]
  },
  {
   "cell_type": "code",
   "execution_count": null,
   "metadata": {
    "id": "4e3tf5MEY9K6"
   },
   "outputs": [],
   "source": []
  },
  {
   "cell_type": "markdown",
   "metadata": {
    "id": "7ILYoE7rYRfw"
   },
   "source": [
    "#### **Q6.c) Stochastic Gradient Descent with Restarts (SGDR)**"
   ]
  },
  {
   "cell_type": "code",
   "execution_count": 39,
   "metadata": {
    "colab": {
     "base_uri": "https://localhost:8080/"
    },
    "id": "fyrJ-KbeYjxQ",
    "outputId": "a45b5440-8b84-482b-d018-2165f3f39140"
   },
   "outputs": [
    {
     "name": "stdout",
     "output_type": "stream",
     "text": [
      "\u001b[1mLearning Rate is : 0.5\u001b[0m\n",
      "Epoch 1/40 : Training loss: 2.3028 | Training Accuracy: 9.8033\n",
      "Epoch 2/40 : Training loss: 2.3028 | Training Accuracy: 9.7900\n",
      "Epoch 3/40 : Training loss: 2.3028 | Training Accuracy: 9.7933\n",
      "Epoch 4/40 : Training loss: 2.3028 | Training Accuracy: 9.7967\n",
      "Epoch 5/40 : Training loss: 2.3027 | Training Accuracy: 9.8500\n",
      "Epoch 6/40 : Training loss: 2.3027 | Training Accuracy: 9.8617\n",
      "Epoch 7/40 : Training loss: 2.3027 | Training Accuracy: 9.8683\n",
      "Epoch 8/40 : Training loss: 2.3026 | Training Accuracy: 9.8650\n",
      "Epoch 9/40 : Training loss: 2.3025 | Training Accuracy: 9.8633\n",
      "Epoch 10/40 : Training loss: 2.3025 | Training Accuracy: 9.8650\n",
      "\u001b[1mLearning Rate is : 0.2\u001b[0m\n",
      "Epoch 11/40 : Training loss: 2.3024 | Training Accuracy: 9.8650\n",
      "Epoch 12/40 : Training loss: 2.3024 | Training Accuracy: 9.8650\n",
      "Epoch 13/40 : Training loss: 2.3024 | Training Accuracy: 9.8650\n",
      "Epoch 14/40 : Training loss: 2.3024 | Training Accuracy: 9.8650\n",
      "Epoch 15/40 : Training loss: 2.3024 | Training Accuracy: 9.8650\n",
      "Epoch 16/40 : Training loss: 2.3024 | Training Accuracy: 9.8650\n",
      "Epoch 17/40 : Training loss: 2.3024 | Training Accuracy: 9.8650\n",
      "Epoch 18/40 : Training loss: 2.3023 | Training Accuracy: 9.8650\n",
      "Epoch 19/40 : Training loss: 2.3023 | Training Accuracy: 9.8650\n",
      "Epoch 20/40 : Training loss: 2.3023 | Training Accuracy: 9.8650\n",
      "\u001b[1mLearning Rate is : 0.1\u001b[0m\n",
      "Epoch 21/40 : Training loss: 2.3023 | Training Accuracy: 9.8650\n",
      "Epoch 22/40 : Training loss: 2.3023 | Training Accuracy: 9.8650\n",
      "Epoch 23/40 : Training loss: 2.3022 | Training Accuracy: 9.8650\n",
      "Epoch 24/40 : Training loss: 2.3022 | Training Accuracy: 9.8650\n",
      "Epoch 25/40 : Training loss: 2.3022 | Training Accuracy: 9.8650\n",
      "Epoch 26/40 : Training loss: 2.3022 | Training Accuracy: 9.8650\n",
      "Epoch 27/40 : Training loss: 2.3022 | Training Accuracy: 9.8650\n",
      "Epoch 28/40 : Training loss: 2.3022 | Training Accuracy: 9.8650\n",
      "Epoch 29/40 : Training loss: 2.3022 | Training Accuracy: 9.8650\n",
      "Epoch 30/40 : Training loss: 2.3022 | Training Accuracy: 9.8650\n",
      "\u001b[1mLearning Rate is : 0.05\u001b[0m\n",
      "Epoch 31/40 : Training loss: 2.3022 | Training Accuracy: 9.8650\n",
      "Epoch 32/40 : Training loss: 2.3022 | Training Accuracy: 9.8650\n",
      "Epoch 33/40 : Training loss: 2.3022 | Training Accuracy: 9.8650\n",
      "Epoch 34/40 : Training loss: 2.3021 | Training Accuracy: 9.8650\n",
      "Epoch 35/40 : Training loss: 2.3021 | Training Accuracy: 9.8650\n",
      "Epoch 36/40 : Training loss: 2.3021 | Training Accuracy: 9.8650\n",
      "Epoch 37/40 : Training loss: 2.3021 | Training Accuracy: 9.8650\n",
      "Epoch 38/40 : Training loss: 2.3021 | Training Accuracy: 9.8650\n",
      "Epoch 39/40 : Training loss: 2.3021 | Training Accuracy: 9.8650\n",
      "Epoch 40/40 : Training loss: 2.3021 | Training Accuracy: 9.8650\n"
     ]
    }
   ],
   "source": [
    "class LeNet(nn.Module):\n",
    "  \n",
    "      def __init__(self):\n",
    "            super(LeNet, self).__init__()\n",
    "            self.conv1 = nn.Conv2d(1, 6, kernel_size=5)\n",
    "            self.pool1 = nn.MaxPool2d(kernel_size=2,stride=2)\n",
    "            self.conv2 = nn.Conv2d(6, 16, kernel_size=5)\n",
    "            self.pool2 = nn.MaxPool2d(kernel_size=2,stride=2)        \n",
    "            self.fc1 = nn.Linear(400, 120)\n",
    "            self.fc2 = nn.Linear(120, 84)\n",
    "            self.fc3 = nn.Linear(84, 10)\n",
    "\n",
    "    def forward(self, x):\n",
    "            x = F.relu(self.conv1(x))\n",
    "            x = self.pool1(x)\n",
    "            x = F.relu(self.conv2(x))\n",
    "            x = self.pool2(x)\n",
    "            x = x.view(-1, 400)\n",
    "            x = F.relu(self.fc1(x)) \n",
    "            x = F.relu(self.fc2(x))\n",
    "            x = self.fc3(x)\n",
    "            return F.softmax(x,dim=1)\n",
    "        \n",
    "\n",
    "net = LeNet()\n",
    "\n",
    "\n",
    "criterion = nn.CrossEntropyLoss() \n",
    "learning_rate = [0.5 , 0.2 , 0.1 , 0.05]\n",
    "num_epochs = 40\n",
    "optimizer1 = optim.SGD(net.parameters(), lr=learning_rate[0], momentum = 0.9) # SGD\n",
    "train_loss = []\n",
    "train_acc = []\n",
    "t = 0\n",
    "\n",
    "\n",
    "\n",
    "for epoch in range(num_epochs):\n",
    "    \n",
    "    if(epoch%10== 0):\n",
    "\n",
    "        optimizer1 = optim.SGD(net.parameters(), lr=learning_rate[t], momentum = 0.9) # SGD\n",
    "        print(color.BOLD + \"Learning Rate is : {}\".format(learning_rate[t]) + color.END)\n",
    "        t = t + 1\n",
    "\n",
    "    running_loss = 0.0 \n",
    "    running_corr = 0\n",
    "        \n",
    "    for i,data in enumerate(trainLoader):\n",
    "        inputs,labels = data\n",
    "        # Initializing model gradients to zero\n",
    "        optimizer1.zero_grad() \n",
    "        # Data feed-forward through the network\n",
    "        outputs = net(inputs)\n",
    "        # Predicted class is the one with maximum probability\n",
    "        preds = torch.argmax(outputs,dim=1)\n",
    "        # Finding the loss\n",
    "        loss = criterion(outputs, labels) \n",
    "        # Accumulating the loss for each batch\n",
    "        running_loss += loss \n",
    "        # Accumulate number of correct predictions\n",
    "        running_corr += torch.sum(preds==labels)    \n",
    "        \n",
    "    totalLoss = running_loss/(i+1)\n",
    "    # Calculating gradients\n",
    "    totalLoss.backward()\n",
    "    # Updating the model parameters\n",
    "    optimizer1.step()\n",
    "        \n",
    "    epoch_loss = running_loss.item()/(i+1)   #Total loss for one epoch\n",
    "    epoch_acc = running_corr.item()/60000\n",
    "    \n",
    "    \n",
    "         \n",
    "    train_loss.append(epoch_loss) #Saving the loss over epochs for plotting the graph\n",
    "    train_acc.append(epoch_acc) #Saving the accuracy over epochs for plotting the graph\n",
    "       \n",
    "        \n",
    "    print('Epoch {:.0f}/{:.0f} : Training loss: {:.4f} | Training Accuracy: {:.4f}'.format(epoch+1,num_epochs,epoch_loss,epoch_acc*100))"
   ]
  },
  {
   "cell_type": "code",
   "execution_count": 40,
   "metadata": {
    "colab": {
     "base_uri": "https://localhost:8080/",
     "height": 362
    },
    "id": "yXOAO_K_3O4D",
    "outputId": "4db6c8f5-8cb9-49a7-c87e-fb3d41d6b041"
   },
   "outputs": [
    {
     "data": {
      "text/plain": [
       "Text(0, 0.5, 'Training')"
      ]
     },
     "execution_count": 40,
     "metadata": {
      "tags": []
     },
     "output_type": "execute_result"
    },
    {
     "data": {
      "image/png": "[encoded data removed]",
      "text/plain": [
       "<Figure size 1080x360 with 2 Axes>"
      ]
     },
     "metadata": {
      "needs_background": "light",
      "tags": []
     },
     "output_type": "display_data"
    }
   ],
   "source": [
    "fig = plt.figure(figsize=[15,5]) \n",
    "plt.subplot(121)\n",
    "plt.plot(range(num_epochs),train_loss,'r-',label='Loss') \n",
    "plt.legend(loc='upper right')\n",
    "plt.xlabel('Epochs')\n",
    "plt.ylabel('Training')\n",
    "plt.subplot(122)\n",
    "plt.plot(range(num_epochs),train_acc,'g-',label='Accuracy') \n",
    "plt.legend(loc='upper right')\n",
    "plt.xlabel('Epochs')\n",
    "plt.ylabel('Training')"
   ]
  },
  {
   "cell_type": "code",
   "execution_count": null,
   "metadata": {
    "id": "d1gxDbnq4i-C"
   },
   "outputs": [],
   "source": []
  },
  {
   "cell_type": "markdown",
   "metadata": {},
   "source": [
    "#### Answer to Q6.b) From the plot of Accuracy Vs Learning Rates we can clearly see that Accuracy is Maxmimum and Loss is minimum for Learning Rate ~ 0.5. Therefore learning rate close to that value would be preferable\n",
    "\n",
    "#### Answer to Q6.c) Here we reduce the learning rate after 10 epochs interval. The SGDR plot of Loss vs No. of Epochs shows epoch wise loss decrement i.e training loss is decreasing step-wise(here step-size = 10epochs) which could clearly be observed through the kinks in the curve. That is the model is converging steadily as we keep on decreasing the learning rate with increasing no. of iterations."
   ]
  },
  {
   "cell_type": "code",
   "execution_count": null,
   "metadata": {},
   "outputs": [],
   "source": []
  }
 ],
 "metadata": {
  "accelerator": "GPU",
  "colab": {
   "collapsed_sections": [],
   "name": "Training_LeNet.ipynb",
   "provenance": []
  },
  "kernelspec": {
   "display_name": "Python 3",
   "language": "python",
   "name": "python3"
  },
  "language_info": {
   "codemirror_mode": {
    "name": "ipython",
    "version": 3
   },
   "file_extension": ".py",
   "mimetype": "text/x-python",
   "name": "python",
   "nbconvert_exporter": "python",
   "pygments_lexer": "ipython3",
   "version": "3.8.5"
  },
  "widgets": {
   "application/vnd.jupyter.widget-state+json": {
    "06e538a7c306462b909eec44d9c2be59": {
     "model_module": "@jupyter-widgets/base",
     "model_name": "LayoutModel",
     "state": {
      "_model_module": "@jupyter-widgets/base",
      "_model_module_version": "1.2.0",
      "_model_name": "LayoutModel",
      "_view_count": null,
      "_view_module": "@jupyter-widgets/base",
      "_view_module_version": "1.2.0",
      "_view_name": "LayoutView",
      "align_content": null,
      "align_items": null,
      "align_self": null,
      "border": null,
      "bottom": null,
      "display": null,
      "flex": null,
      "flex_flow": null,
      "grid_area": null,
      "grid_auto_columns": null,
      "grid_auto_flow": null,
      "grid_auto_rows": null,
      "grid_column": null,
      "grid_gap": null,
      "grid_row": null,
      "grid_template_areas": null,
      "grid_template_columns": null,
      "grid_template_rows": null,
      "height": null,
      "justify_content": null,
      "justify_items": null,
      "left": null,
      "margin": null,
      "max_height": null,
      "max_width": null,
      "min_height": null,
      "min_width": null,
      "object_fit": null,
      "object_position": null,
      "order": null,
      "overflow": null,
      "overflow_x": null,
      "overflow_y": null,
      "padding": null,
      "right": null,
      "top": null,
      "visibility": null,
      "width": null
     }
    },
    "1923da3291b44f48b85111d5ca834202": {
     "model_module": "@jupyter-widgets/base",
     "model_name": "LayoutModel",
     "state": {
      "_model_module": "@jupyter-widgets/base",
      "_model_module_version": "1.2.0",
      "_model_name": "LayoutModel",
      "_view_count": null,
      "_view_module": "@jupyter-widgets/base",
      "_view_module_version": "1.2.0",
      "_view_name": "LayoutView",
      "align_content": null,
      "align_items": null,
      "align_self": null,
      "border": null,
      "bottom": null,
      "display": null,
      "flex": null,
      "flex_flow": null,
      "grid_area": null,
      "grid_auto_columns": null,
      "grid_auto_flow": null,
      "grid_auto_rows": null,
      "grid_column": null,
      "grid_gap": null,
      "grid_row": null,
      "grid_template_areas": null,
      "grid_template_columns": null,
      "grid_template_rows": null,
      "height": null,
      "justify_content": null,
      "justify_items": null,
      "left": null,
      "margin": null,
      "max_height": null,
      "max_width": null,
      "min_height": null,
      "min_width": null,
      "object_fit": null,
      "object_position": null,
      "order": null,
      "overflow": null,
      "overflow_x": null,
      "overflow_y": null,
      "padding": null,
      "right": null,
      "top": null,
      "visibility": null,
      "width": null
     }
    },
    "1e3e94d09052495d8345314ce7ce4e20": {
     "model_module": "@jupyter-widgets/base",
     "model_name": "LayoutModel",
     "state": {
      "_model_module": "@jupyter-widgets/base",
      "_model_module_version": "1.2.0",
      "_model_name": "LayoutModel",
      "_view_count": null,
      "_view_module": "@jupyter-widgets/base",
      "_view_module_version": "1.2.0",
      "_view_name": "LayoutView",
      "align_content": null,
      "align_items": null,
      "align_self": null,
      "border": null,
      "bottom": null,
      "display": null,
      "flex": null,
      "flex_flow": null,
      "grid_area": null,
      "grid_auto_columns": null,
      "grid_auto_flow": null,
      "grid_auto_rows": null,
      "grid_column": null,
      "grid_gap": null,
      "grid_row": null,
      "grid_template_areas": null,
      "grid_template_columns": null,
      "grid_template_rows": null,
      "height": null,
      "justify_content": null,
      "justify_items": null,
      "left": null,
      "margin": null,
      "max_height": null,
      "max_width": null,
      "min_height": null,
      "min_width": null,
      "object_fit": null,
      "object_position": null,
      "order": null,
      "overflow": null,
      "overflow_x": null,
      "overflow_y": null,
      "padding": null,
      "right": null,
      "top": null,
      "visibility": null,
      "width": null
     }
    },
    "2473205c70944cc9a99abb44ad452fd6": {
     "model_module": "@jupyter-widgets/controls",
     "model_name": "DescriptionStyleModel",
     "state": {
      "_model_module": "@jupyter-widgets/controls",
      "_model_module_version": "1.5.0",
      "_model_name": "DescriptionStyleModel",
      "_view_count": null,
      "_view_module": "@jupyter-widgets/base",
      "_view_module_version": "1.2.0",
      "_view_name": "StyleView",
      "description_width": ""
     }
    },
    "2d0e4964a734441ea670e4012374998f": {
     "model_module": "@jupyter-widgets/controls",
     "model_name": "FloatProgressModel",
     "state": {
      "_dom_classes": [],
      "_model_module": "@jupyter-widgets/controls",
      "_model_module_version": "1.5.0",
      "_model_name": "FloatProgressModel",
      "_view_count": null,
      "_view_module": "@jupyter-widgets/controls",
      "_view_module_version": "1.5.0",
      "_view_name": "ProgressView",
      "bar_style": "info",
      "description": "  0%",
      "description_tooltip": null,
      "layout": "IPY_MODEL_4546fe94fdf04bb3b930e2446c0c6e23",
      "max": 1,
      "min": 0,
      "orientation": "horizontal",
      "style": "IPY_MODEL_6f35669c4a7c4476a1d78a3617773d92",
      "value": 0
     }
    },
    "2d43618074a44b3a8e2dbf365ea4c6e2": {
     "model_module": "@jupyter-widgets/controls",
     "model_name": "HBoxModel",
     "state": {
      "_dom_classes": [],
      "_model_module": "@jupyter-widgets/controls",
      "_model_module_version": "1.5.0",
      "_model_name": "HBoxModel",
      "_view_count": null,
      "_view_module": "@jupyter-widgets/controls",
      "_view_module_version": "1.5.0",
      "_view_name": "HBoxView",
      "box_style": "",
      "children": [
       "IPY_MODEL_3de25ef9bb974a3a97ced3db5b7df6af",
       "IPY_MODEL_2e69c4b9f54849b3b52217cb7d1b85f8"
      ],
      "layout": "IPY_MODEL_1923da3291b44f48b85111d5ca834202"
     }
    },
    "2e69c4b9f54849b3b52217cb7d1b85f8": {
     "model_module": "@jupyter-widgets/controls",
     "model_name": "HTMLModel",
     "state": {
      "_dom_classes": [],
      "_model_module": "@jupyter-widgets/controls",
      "_model_module_version": "1.5.0",
      "_model_name": "HTMLModel",
      "_view_count": null,
      "_view_module": "@jupyter-widgets/controls",
      "_view_module_version": "1.5.0",
      "_view_name": "HTMLView",
      "description": "",
      "description_tooltip": null,
      "layout": "IPY_MODEL_9b5e2ed58437486c93bc5b26022fd32f",
      "placeholder": "​",
      "style": "IPY_MODEL_ea907e15e63c4274a4b724e704d5e252",
      "value": " 9920512/? [00:19&lt;00:00, 8370889.54it/s]"
     }
    },
    "2f4a2cce096d4c5bbe94d28159e1a9d5": {
     "model_module": "@jupyter-widgets/base",
     "model_name": "LayoutModel",
     "state": {
      "_model_module": "@jupyter-widgets/base",
      "_model_module_version": "1.2.0",
      "_model_name": "LayoutModel",
      "_view_count": null,
      "_view_module": "@jupyter-widgets/base",
      "_view_module_version": "1.2.0",
      "_view_name": "LayoutView",
      "align_content": null,
      "align_items": null,
      "align_self": null,
      "border": null,
      "bottom": null,
      "display": null,
      "flex": null,
      "flex_flow": null,
      "grid_area": null,
      "grid_auto_columns": null,
      "grid_auto_flow": null,
      "grid_auto_rows": null,
      "grid_column": null,
      "grid_gap": null,
      "grid_row": null,
      "grid_template_areas": null,
      "grid_template_columns": null,
      "grid_template_rows": null,
      "height": null,
      "justify_content": null,
      "justify_items": null,
      "left": null,
      "margin": null,
      "max_height": null,
      "max_width": null,
      "min_height": null,
      "min_width": null,
      "object_fit": null,
      "object_position": null,
      "order": null,
      "overflow": null,
      "overflow_x": null,
      "overflow_y": null,
      "padding": null,
      "right": null,
      "top": null,
      "visibility": null,
      "width": null
     }
    },
    "375b1214702c4933badace1251b00e14": {
     "model_module": "@jupyter-widgets/controls",
     "model_name": "DescriptionStyleModel",
     "state": {
      "_model_module": "@jupyter-widgets/controls",
      "_model_module_version": "1.5.0",
      "_model_name": "DescriptionStyleModel",
      "_view_count": null,
      "_view_module": "@jupyter-widgets/base",
      "_view_module_version": "1.2.0",
      "_view_name": "StyleView",
      "description_width": ""
     }
    },
    "3a217d5a13484f37a64b2d6506f0b910": {
     "model_module": "@jupyter-widgets/base",
     "model_name": "LayoutModel",
     "state": {
      "_model_module": "@jupyter-widgets/base",
      "_model_module_version": "1.2.0",
      "_model_name": "LayoutModel",
      "_view_count": null,
      "_view_module": "@jupyter-widgets/base",
      "_view_module_version": "1.2.0",
      "_view_name": "LayoutView",
      "align_content": null,
      "align_items": null,
      "align_self": null,
      "border": null,
      "bottom": null,
      "display": null,
      "flex": null,
      "flex_flow": null,
      "grid_area": null,
      "grid_auto_columns": null,
      "grid_auto_flow": null,
      "grid_auto_rows": null,
      "grid_column": null,
      "grid_gap": null,
      "grid_row": null,
      "grid_template_areas": null,
      "grid_template_columns": null,
      "grid_template_rows": null,
      "height": null,
      "justify_content": null,
      "justify_items": null,
      "left": null,
      "margin": null,
      "max_height": null,
      "max_width": null,
      "min_height": null,
      "min_width": null,
      "object_fit": null,
      "object_position": null,
      "order": null,
      "overflow": null,
      "overflow_x": null,
      "overflow_y": null,
      "padding": null,
      "right": null,
      "top": null,
      "visibility": null,
      "width": null
     }
    },
    "3de25ef9bb974a3a97ced3db5b7df6af": {
     "model_module": "@jupyter-widgets/controls",
     "model_name": "FloatProgressModel",
     "state": {
      "_dom_classes": [],
      "_model_module": "@jupyter-widgets/controls",
      "_model_module_version": "1.5.0",
      "_model_name": "FloatProgressModel",
      "_view_count": null,
      "_view_module": "@jupyter-widgets/controls",
      "_view_module_version": "1.5.0",
      "_view_name": "ProgressView",
      "bar_style": "info",
      "description": "",
      "description_tooltip": null,
      "layout": "IPY_MODEL_a2ab792287bc44b296f759dea0a53b08",
      "max": 1,
      "min": 0,
      "orientation": "horizontal",
      "style": "IPY_MODEL_46dfc333469e4222a0adae6cdbe7ae06",
      "value": 1
     }
    },
    "4546fe94fdf04bb3b930e2446c0c6e23": {
     "model_module": "@jupyter-widgets/base",
     "model_name": "LayoutModel",
     "state": {
      "_model_module": "@jupyter-widgets/base",
      "_model_module_version": "1.2.0",
      "_model_name": "LayoutModel",
      "_view_count": null,
      "_view_module": "@jupyter-widgets/base",
      "_view_module_version": "1.2.0",
      "_view_name": "LayoutView",
      "align_content": null,
      "align_items": null,
      "align_self": null,
      "border": null,
      "bottom": null,
      "display": null,
      "flex": null,
      "flex_flow": null,
      "grid_area": null,
      "grid_auto_columns": null,
      "grid_auto_flow": null,
      "grid_auto_rows": null,
      "grid_column": null,
      "grid_gap": null,
      "grid_row": null,
      "grid_template_areas": null,
      "grid_template_columns": null,
      "grid_template_rows": null,
      "height": null,
      "justify_content": null,
      "justify_items": null,
      "left": null,
      "margin": null,
      "max_height": null,
      "max_width": null,
      "min_height": null,
      "min_width": null,
      "object_fit": null,
      "object_position": null,
      "order": null,
      "overflow": null,
      "overflow_x": null,
      "overflow_y": null,
      "padding": null,
      "right": null,
      "top": null,
      "visibility": null,
      "width": null
     }
    },
    "46dfc333469e4222a0adae6cdbe7ae06": {
     "model_module": "@jupyter-widgets/controls",
     "model_name": "ProgressStyleModel",
     "state": {
      "_model_module": "@jupyter-widgets/controls",
      "_model_module_version": "1.5.0",
      "_model_name": "ProgressStyleModel",
      "_view_count": null,
      "_view_module": "@jupyter-widgets/base",
      "_view_module_version": "1.2.0",
      "_view_name": "StyleView",
      "bar_color": null,
      "description_width": "initial"
     }
    },
    "4b13f1157df04cb393e12134a083d655": {
     "model_module": "@jupyter-widgets/base",
     "model_name": "LayoutModel",
     "state": {
      "_model_module": "@jupyter-widgets/base",
      "_model_module_version": "1.2.0",
      "_model_name": "LayoutModel",
      "_view_count": null,
      "_view_module": "@jupyter-widgets/base",
      "_view_module_version": "1.2.0",
      "_view_name": "LayoutView",
      "align_content": null,
      "align_items": null,
      "align_self": null,
      "border": null,
      "bottom": null,
      "display": null,
      "flex": null,
      "flex_flow": null,
      "grid_area": null,
      "grid_auto_columns": null,
      "grid_auto_flow": null,
      "grid_auto_rows": null,
      "grid_column": null,
      "grid_gap": null,
      "grid_row": null,
      "grid_template_areas": null,
      "grid_template_columns": null,
      "grid_template_rows": null,
      "height": null,
      "justify_content": null,
      "justify_items": null,
      "left": null,
      "margin": null,
      "max_height": null,
      "max_width": null,
      "min_height": null,
      "min_width": null,
      "object_fit": null,
      "object_position": null,
      "order": null,
      "overflow": null,
      "overflow_x": null,
      "overflow_y": null,
      "padding": null,
      "right": null,
      "top": null,
      "visibility": null,
      "width": null
     }
    },
    "524b4037469e4db9bb3b965ceeacc23f": {
     "model_module": "@jupyter-widgets/base",
     "model_name": "LayoutModel",
     "state": {
      "_model_module": "@jupyter-widgets/base",
      "_model_module_version": "1.2.0",
      "_model_name": "LayoutModel",
      "_view_count": null,
      "_view_module": "@jupyter-widgets/base",
      "_view_module_version": "1.2.0",
      "_view_name": "LayoutView",
      "align_content": null,
      "align_items": null,
      "align_self": null,
      "border": null,
      "bottom": null,
      "display": null,
      "flex": null,
      "flex_flow": null,
      "grid_area": null,
      "grid_auto_columns": null,
      "grid_auto_flow": null,
      "grid_auto_rows": null,
      "grid_column": null,
      "grid_gap": null,
      "grid_row": null,
      "grid_template_areas": null,
      "grid_template_columns": null,
      "grid_template_rows": null,
      "height": null,
      "justify_content": null,
      "justify_items": null,
      "left": null,
      "margin": null,
      "max_height": null,
      "max_width": null,
      "min_height": null,
      "min_width": null,
      "object_fit": null,
      "object_position": null,
      "order": null,
      "overflow": null,
      "overflow_x": null,
      "overflow_y": null,
      "padding": null,
      "right": null,
      "top": null,
      "visibility": null,
      "width": null
     }
    },
    "64a8b6a8b8154d029e35d74515353c0a": {
     "model_module": "@jupyter-widgets/controls",
     "model_name": "HTMLModel",
     "state": {
      "_dom_classes": [],
      "_model_module": "@jupyter-widgets/controls",
      "_model_module_version": "1.5.0",
      "_model_name": "HTMLModel",
      "_view_count": null,
      "_view_module": "@jupyter-widgets/controls",
      "_view_module_version": "1.5.0",
      "_view_name": "HTMLView",
      "description": "",
      "description_tooltip": null,
      "layout": "IPY_MODEL_743e922ad9e7410dab2ceeaadae156ef",
      "placeholder": "​",
      "style": "IPY_MODEL_2473205c70944cc9a99abb44ad452fd6",
      "value": " 0/? [00:00&lt;?, ?it/s]"
     }
    },
    "68260ed5df2c49a589cb84f770ca097a": {
     "model_module": "@jupyter-widgets/controls",
     "model_name": "FloatProgressModel",
     "state": {
      "_dom_classes": [],
      "_model_module": "@jupyter-widgets/controls",
      "_model_module_version": "1.5.0",
      "_model_name": "FloatProgressModel",
      "_view_count": null,
      "_view_module": "@jupyter-widgets/controls",
      "_view_module_version": "1.5.0",
      "_view_name": "ProgressView",
      "bar_style": "info",
      "description": "",
      "description_tooltip": null,
      "layout": "IPY_MODEL_2f4a2cce096d4c5bbe94d28159e1a9d5",
      "max": 1,
      "min": 0,
      "orientation": "horizontal",
      "style": "IPY_MODEL_ae3623a0445d4c7d976953b81ffbdd03",
      "value": 1
     }
    },
    "6f02342f0e93422499806bf48d595c1c": {
     "model_module": "@jupyter-widgets/controls",
     "model_name": "HBoxModel",
     "state": {
      "_dom_classes": [],
      "_model_module": "@jupyter-widgets/controls",
      "_model_module_version": "1.5.0",
      "_model_name": "HBoxModel",
      "_view_count": null,
      "_view_module": "@jupyter-widgets/controls",
      "_view_module_version": "1.5.0",
      "_view_name": "HBoxView",
      "box_style": "",
      "children": [
       "IPY_MODEL_2d0e4964a734441ea670e4012374998f",
       "IPY_MODEL_fdcff0674f8b495982bf05bace85c89a"
      ],
      "layout": "IPY_MODEL_1e3e94d09052495d8345314ce7ce4e20"
     }
    },
    "6f35669c4a7c4476a1d78a3617773d92": {
     "model_module": "@jupyter-widgets/controls",
     "model_name": "ProgressStyleModel",
     "state": {
      "_model_module": "@jupyter-widgets/controls",
      "_model_module_version": "1.5.0",
      "_model_name": "ProgressStyleModel",
      "_view_count": null,
      "_view_module": "@jupyter-widgets/base",
      "_view_module_version": "1.2.0",
      "_view_name": "StyleView",
      "bar_color": null,
      "description_width": "initial"
     }
    },
    "743e922ad9e7410dab2ceeaadae156ef": {
     "model_module": "@jupyter-widgets/base",
     "model_name": "LayoutModel",
     "state": {
      "_model_module": "@jupyter-widgets/base",
      "_model_module_version": "1.2.0",
      "_model_name": "LayoutModel",
      "_view_count": null,
      "_view_module": "@jupyter-widgets/base",
      "_view_module_version": "1.2.0",
      "_view_name": "LayoutView",
      "align_content": null,
      "align_items": null,
      "align_self": null,
      "border": null,
      "bottom": null,
      "display": null,
      "flex": null,
      "flex_flow": null,
      "grid_area": null,
      "grid_auto_columns": null,
      "grid_auto_flow": null,
      "grid_auto_rows": null,
      "grid_column": null,
      "grid_gap": null,
      "grid_row": null,
      "grid_template_areas": null,
      "grid_template_columns": null,
      "grid_template_rows": null,
      "height": null,
      "justify_content": null,
      "justify_items": null,
      "left": null,
      "margin": null,
      "max_height": null,
      "max_width": null,
      "min_height": null,
      "min_width": null,
      "object_fit": null,
      "object_position": null,
      "order": null,
      "overflow": null,
      "overflow_x": null,
      "overflow_y": null,
      "padding": null,
      "right": null,
      "top": null,
      "visibility": null,
      "width": null
     }
    },
    "744094ab021e4f03b3043ad8fd60fc1d": {
     "model_module": "@jupyter-widgets/controls",
     "model_name": "HTMLModel",
     "state": {
      "_dom_classes": [],
      "_model_module": "@jupyter-widgets/controls",
      "_model_module_version": "1.5.0",
      "_model_name": "HTMLModel",
      "_view_count": null,
      "_view_module": "@jupyter-widgets/controls",
      "_view_module_version": "1.5.0",
      "_view_name": "HTMLView",
      "description": "",
      "description_tooltip": null,
      "layout": "IPY_MODEL_4b13f1157df04cb393e12134a083d655",
      "placeholder": "​",
      "style": "IPY_MODEL_375b1214702c4933badace1251b00e14",
      "value": " 1654784/? [00:19&lt;00:00, 1143772.35it/s]"
     }
    },
    "86e36eb6d109408ca9699de2ec069947": {
     "model_module": "@jupyter-widgets/controls",
     "model_name": "DescriptionStyleModel",
     "state": {
      "_model_module": "@jupyter-widgets/controls",
      "_model_module_version": "1.5.0",
      "_model_name": "DescriptionStyleModel",
      "_view_count": null,
      "_view_module": "@jupyter-widgets/base",
      "_view_module_version": "1.2.0",
      "_view_name": "StyleView",
      "description_width": ""
     }
    },
    "98a911811d1743a9b97ace03d298688a": {
     "model_module": "@jupyter-widgets/controls",
     "model_name": "HBoxModel",
     "state": {
      "_dom_classes": [],
      "_model_module": "@jupyter-widgets/controls",
      "_model_module_version": "1.5.0",
      "_model_name": "HBoxModel",
      "_view_count": null,
      "_view_module": "@jupyter-widgets/controls",
      "_view_module_version": "1.5.0",
      "_view_name": "HBoxView",
      "box_style": "",
      "children": [
       "IPY_MODEL_68260ed5df2c49a589cb84f770ca097a",
       "IPY_MODEL_744094ab021e4f03b3043ad8fd60fc1d"
      ],
      "layout": "IPY_MODEL_06e538a7c306462b909eec44d9c2be59"
     }
    },
    "9b5e2ed58437486c93bc5b26022fd32f": {
     "model_module": "@jupyter-widgets/base",
     "model_name": "LayoutModel",
     "state": {
      "_model_module": "@jupyter-widgets/base",
      "_model_module_version": "1.2.0",
      "_model_name": "LayoutModel",
      "_view_count": null,
      "_view_module": "@jupyter-widgets/base",
      "_view_module_version": "1.2.0",
      "_view_name": "LayoutView",
      "align_content": null,
      "align_items": null,
      "align_self": null,
      "border": null,
      "bottom": null,
      "display": null,
      "flex": null,
      "flex_flow": null,
      "grid_area": null,
      "grid_auto_columns": null,
      "grid_auto_flow": null,
      "grid_auto_rows": null,
      "grid_column": null,
      "grid_gap": null,
      "grid_row": null,
      "grid_template_areas": null,
      "grid_template_columns": null,
      "grid_template_rows": null,
      "height": null,
      "justify_content": null,
      "justify_items": null,
      "left": null,
      "margin": null,
      "max_height": null,
      "max_width": null,
      "min_height": null,
      "min_width": null,
      "object_fit": null,
      "object_position": null,
      "order": null,
      "overflow": null,
      "overflow_x": null,
      "overflow_y": null,
      "padding": null,
      "right": null,
      "top": null,
      "visibility": null,
      "width": null
     }
    },
    "a0a340d429714b9b8427b8980e303258": {
     "model_module": "@jupyter-widgets/controls",
     "model_name": "ProgressStyleModel",
     "state": {
      "_model_module": "@jupyter-widgets/controls",
      "_model_module_version": "1.5.0",
      "_model_name": "ProgressStyleModel",
      "_view_count": null,
      "_view_module": "@jupyter-widgets/base",
      "_view_module_version": "1.2.0",
      "_view_name": "StyleView",
      "bar_color": null,
      "description_width": "initial"
     }
    },
    "a2ab792287bc44b296f759dea0a53b08": {
     "model_module": "@jupyter-widgets/base",
     "model_name": "LayoutModel",
     "state": {
      "_model_module": "@jupyter-widgets/base",
      "_model_module_version": "1.2.0",
      "_model_name": "LayoutModel",
      "_view_count": null,
      "_view_module": "@jupyter-widgets/base",
      "_view_module_version": "1.2.0",
      "_view_name": "LayoutView",
      "align_content": null,
      "align_items": null,
      "align_self": null,
      "border": null,
      "bottom": null,
      "display": null,
      "flex": null,
      "flex_flow": null,
      "grid_area": null,
      "grid_auto_columns": null,
      "grid_auto_flow": null,
      "grid_auto_rows": null,
      "grid_column": null,
      "grid_gap": null,
      "grid_row": null,
      "grid_template_areas": null,
      "grid_template_columns": null,
      "grid_template_rows": null,
      "height": null,
      "justify_content": null,
      "justify_items": null,
      "left": null,
      "margin": null,
      "max_height": null,
      "max_width": null,
      "min_height": null,
      "min_width": null,
      "object_fit": null,
      "object_position": null,
      "order": null,
      "overflow": null,
      "overflow_x": null,
      "overflow_y": null,
      "padding": null,
      "right": null,
      "top": null,
      "visibility": null,
      "width": null
     }
    },
    "add94c5757d54d089a95126f95ad2ab0": {
     "model_module": "@jupyter-widgets/controls",
     "model_name": "FloatProgressModel",
     "state": {
      "_dom_classes": [],
      "_model_module": "@jupyter-widgets/controls",
      "_model_module_version": "1.5.0",
      "_model_name": "FloatProgressModel",
      "_view_count": null,
      "_view_module": "@jupyter-widgets/controls",
      "_view_module_version": "1.5.0",
      "_view_name": "ProgressView",
      "bar_style": "info",
      "description": "",
      "description_tooltip": null,
      "layout": "IPY_MODEL_524b4037469e4db9bb3b965ceeacc23f",
      "max": 1,
      "min": 0,
      "orientation": "horizontal",
      "style": "IPY_MODEL_a0a340d429714b9b8427b8980e303258",
      "value": 0
     }
    },
    "ae3623a0445d4c7d976953b81ffbdd03": {
     "model_module": "@jupyter-widgets/controls",
     "model_name": "ProgressStyleModel",
     "state": {
      "_model_module": "@jupyter-widgets/controls",
      "_model_module_version": "1.5.0",
      "_model_name": "ProgressStyleModel",
      "_view_count": null,
      "_view_module": "@jupyter-widgets/base",
      "_view_module_version": "1.2.0",
      "_view_name": "StyleView",
      "bar_color": null,
      "description_width": "initial"
     }
    },
    "bdb8a267edda4e279a8687c260d7bae1": {
     "model_module": "@jupyter-widgets/controls",
     "model_name": "HBoxModel",
     "state": {
      "_dom_classes": [],
      "_model_module": "@jupyter-widgets/controls",
      "_model_module_version": "1.5.0",
      "_model_name": "HBoxModel",
      "_view_count": null,
      "_view_module": "@jupyter-widgets/controls",
      "_view_module_version": "1.5.0",
      "_view_name": "HBoxView",
      "box_style": "",
      "children": [
       "IPY_MODEL_add94c5757d54d089a95126f95ad2ab0",
       "IPY_MODEL_64a8b6a8b8154d029e35d74515353c0a"
      ],
      "layout": "IPY_MODEL_3a217d5a13484f37a64b2d6506f0b910"
     }
    },
    "c74ed3bda12746cea3b4ac7ed2297da2": {
     "model_module": "@jupyter-widgets/base",
     "model_name": "LayoutModel",
     "state": {
      "_model_module": "@jupyter-widgets/base",
      "_model_module_version": "1.2.0",
      "_model_name": "LayoutModel",
      "_view_count": null,
      "_view_module": "@jupyter-widgets/base",
      "_view_module_version": "1.2.0",
      "_view_name": "LayoutView",
      "align_content": null,
      "align_items": null,
      "align_self": null,
      "border": null,
      "bottom": null,
      "display": null,
      "flex": null,
      "flex_flow": null,
      "grid_area": null,
      "grid_auto_columns": null,
      "grid_auto_flow": null,
      "grid_auto_rows": null,
      "grid_column": null,
      "grid_gap": null,
      "grid_row": null,
      "grid_template_areas": null,
      "grid_template_columns": null,
      "grid_template_rows": null,
      "height": null,
      "justify_content": null,
      "justify_items": null,
      "left": null,
      "margin": null,
      "max_height": null,
      "max_width": null,
      "min_height": null,
      "min_width": null,
      "object_fit": null,
      "object_position": null,
      "order": null,
      "overflow": null,
      "overflow_x": null,
      "overflow_y": null,
      "padding": null,
      "right": null,
      "top": null,
      "visibility": null,
      "width": null
     }
    },
    "ea907e15e63c4274a4b724e704d5e252": {
     "model_module": "@jupyter-widgets/controls",
     "model_name": "DescriptionStyleModel",
     "state": {
      "_model_module": "@jupyter-widgets/controls",
      "_model_module_version": "1.5.0",
      "_model_name": "DescriptionStyleModel",
      "_view_count": null,
      "_view_module": "@jupyter-widgets/base",
      "_view_module_version": "1.2.0",
      "_view_name": "StyleView",
      "description_width": ""
     }
    },
    "fdcff0674f8b495982bf05bace85c89a": {
     "model_module": "@jupyter-widgets/controls",
     "model_name": "HTMLModel",
     "state": {
      "_dom_classes": [],
      "_model_module": "@jupyter-widgets/controls",
      "_model_module_version": "1.5.0",
      "_model_name": "HTMLModel",
      "_view_count": null,
      "_view_module": "@jupyter-widgets/controls",
      "_view_module_version": "1.5.0",
      "_view_name": "HTMLView",
      "description": "",
      "description_tooltip": null,
      "layout": "IPY_MODEL_c74ed3bda12746cea3b4ac7ed2297da2",
      "placeholder": "​",
      "style": "IPY_MODEL_86e36eb6d109408ca9699de2ec069947",
      "value": " 0/28881 [00:00&lt;?, ?it/s]"
     }
    }
   }
  }
 },
 "nbformat": 4,
 "nbformat_minor": 1
}
